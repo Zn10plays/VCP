{
 "cells": [
  {
   "cell_type": "code",
   "id": "initial_id",
   "metadata": {
    "collapsed": true,
    "ExecuteTime": {
     "end_time": "2024-05-18T01:51:41.994875Z",
     "start_time": "2024-05-18T01:51:41.982885Z"
    }
   },
   "source": [
    "import torch\n",
    "import os\n",
    "os.environ[\"KMP_DUPLICATE_LIB_OK\"]=\"TRUE\"\n",
    "import matplotlib.pyplot as plt\n",
    "from dataloader import testing_dataset, training_dataset\n",
    "import numpy as np\n",
    "from torch.utils.data import DataLoader\n",
    "from tqdm import tqdm\n",
    "import seaborn\n",
    "from vit_pytorch import ViT\n",
    "from einops import rearrange\n",
    "import torch.nn.functional as F"
   ],
   "outputs": [],
   "execution_count": 6
  },
  {
   "metadata": {
    "ExecuteTime": {
     "end_time": "2024-05-18T01:51:42.546516Z",
     "start_time": "2024-05-18T01:51:42.526516Z"
    }
   },
   "cell_type": "code",
   "source": "training_dataset.labels",
   "id": "9990aec655cbe678",
   "outputs": [
    {
     "data": {
      "text/plain": [
       "      Tragedy  Action  Adventure  Mature  SchoolLife  Sci-fi  Adult  Drama  \\\n",
       "0           0       1          1       0           0       0      0      0   \n",
       "1           1       0          0       0           0       0      0      1   \n",
       "2           0       0          0       0           0       0      0      0   \n",
       "3           0       0          1       0           0       0      0      1   \n",
       "4           0       0          0       0           0       0      0      0   \n",
       "...       ...     ...        ...     ...         ...     ...    ...    ...   \n",
       "2036        0       0          0       0           0       0      0      0   \n",
       "2037        0       1          0       0           0       0      0      1   \n",
       "2038        0       0          0       0           0       0      0      1   \n",
       "2039        0       0          0       0           0       0      0      1   \n",
       "2040        0       0          1       0           0       0      0      1   \n",
       "\n",
       "      Supernatural  Comedy  ...  Seinen  Wuxia  MartialArts  Historical  \\\n",
       "0                0       0  ...       0      0            0           0   \n",
       "1                0       0  ...       0      0            0           0   \n",
       "2                0       0  ...       0      0            0           0   \n",
       "3                0       1  ...       0      0            0           0   \n",
       "4                0       1  ...       0      0            0           0   \n",
       "...            ...     ...  ...     ...    ...          ...         ...   \n",
       "2036             0       0  ...       0      0            0           0   \n",
       "2037             0       1  ...       0      0            0           0   \n",
       "2038             0       0  ...       0      0            0           0   \n",
       "2039             0       0  ...       0      0            0           0   \n",
       "2040             0       0  ...       0      0            0           0   \n",
       "\n",
       "      Mecha  ShounenAi  Ecchi  Sports  Yuri  Xuanhuan  \n",
       "0         0          0      0       0     0         0  \n",
       "1         0          0      0       0     0         0  \n",
       "2         0          0      0       0     0         0  \n",
       "3         0          0      0       0     0         0  \n",
       "4         0          0      0       0     0         0  \n",
       "...     ...        ...    ...     ...   ...       ...  \n",
       "2036      0          0      0       0     0         0  \n",
       "2037      0          0      0       0     0         0  \n",
       "2038      0          0      0       0     0         0  \n",
       "2039      0          0      0       0     0         0  \n",
       "2040      0          0      0       0     0         0  \n",
       "\n",
       "[2041 rows x 29 columns]"
      ],
      "text/html": [
       "<div>\n",
       "<style scoped>\n",
       "    .dataframe tbody tr th:only-of-type {\n",
       "        vertical-align: middle;\n",
       "    }\n",
       "\n",
       "    .dataframe tbody tr th {\n",
       "        vertical-align: top;\n",
       "    }\n",
       "\n",
       "    .dataframe thead th {\n",
       "        text-align: right;\n",
       "    }\n",
       "</style>\n",
       "<table border=\"1\" class=\"dataframe\">\n",
       "  <thead>\n",
       "    <tr style=\"text-align: right;\">\n",
       "      <th></th>\n",
       "      <th>Tragedy</th>\n",
       "      <th>Action</th>\n",
       "      <th>Adventure</th>\n",
       "      <th>Mature</th>\n",
       "      <th>SchoolLife</th>\n",
       "      <th>Sci-fi</th>\n",
       "      <th>Adult</th>\n",
       "      <th>Drama</th>\n",
       "      <th>Supernatural</th>\n",
       "      <th>Comedy</th>\n",
       "      <th>...</th>\n",
       "      <th>Seinen</th>\n",
       "      <th>Wuxia</th>\n",
       "      <th>MartialArts</th>\n",
       "      <th>Historical</th>\n",
       "      <th>Mecha</th>\n",
       "      <th>ShounenAi</th>\n",
       "      <th>Ecchi</th>\n",
       "      <th>Sports</th>\n",
       "      <th>Yuri</th>\n",
       "      <th>Xuanhuan</th>\n",
       "    </tr>\n",
       "  </thead>\n",
       "  <tbody>\n",
       "    <tr>\n",
       "      <th>0</th>\n",
       "      <td>0</td>\n",
       "      <td>1</td>\n",
       "      <td>1</td>\n",
       "      <td>0</td>\n",
       "      <td>0</td>\n",
       "      <td>0</td>\n",
       "      <td>0</td>\n",
       "      <td>0</td>\n",
       "      <td>0</td>\n",
       "      <td>0</td>\n",
       "      <td>...</td>\n",
       "      <td>0</td>\n",
       "      <td>0</td>\n",
       "      <td>0</td>\n",
       "      <td>0</td>\n",
       "      <td>0</td>\n",
       "      <td>0</td>\n",
       "      <td>0</td>\n",
       "      <td>0</td>\n",
       "      <td>0</td>\n",
       "      <td>0</td>\n",
       "    </tr>\n",
       "    <tr>\n",
       "      <th>1</th>\n",
       "      <td>1</td>\n",
       "      <td>0</td>\n",
       "      <td>0</td>\n",
       "      <td>0</td>\n",
       "      <td>0</td>\n",
       "      <td>0</td>\n",
       "      <td>0</td>\n",
       "      <td>1</td>\n",
       "      <td>0</td>\n",
       "      <td>0</td>\n",
       "      <td>...</td>\n",
       "      <td>0</td>\n",
       "      <td>0</td>\n",
       "      <td>0</td>\n",
       "      <td>0</td>\n",
       "      <td>0</td>\n",
       "      <td>0</td>\n",
       "      <td>0</td>\n",
       "      <td>0</td>\n",
       "      <td>0</td>\n",
       "      <td>0</td>\n",
       "    </tr>\n",
       "    <tr>\n",
       "      <th>2</th>\n",
       "      <td>0</td>\n",
       "      <td>0</td>\n",
       "      <td>0</td>\n",
       "      <td>0</td>\n",
       "      <td>0</td>\n",
       "      <td>0</td>\n",
       "      <td>0</td>\n",
       "      <td>0</td>\n",
       "      <td>0</td>\n",
       "      <td>0</td>\n",
       "      <td>...</td>\n",
       "      <td>0</td>\n",
       "      <td>0</td>\n",
       "      <td>0</td>\n",
       "      <td>0</td>\n",
       "      <td>0</td>\n",
       "      <td>0</td>\n",
       "      <td>0</td>\n",
       "      <td>0</td>\n",
       "      <td>0</td>\n",
       "      <td>0</td>\n",
       "    </tr>\n",
       "    <tr>\n",
       "      <th>3</th>\n",
       "      <td>0</td>\n",
       "      <td>0</td>\n",
       "      <td>1</td>\n",
       "      <td>0</td>\n",
       "      <td>0</td>\n",
       "      <td>0</td>\n",
       "      <td>0</td>\n",
       "      <td>1</td>\n",
       "      <td>0</td>\n",
       "      <td>1</td>\n",
       "      <td>...</td>\n",
       "      <td>0</td>\n",
       "      <td>0</td>\n",
       "      <td>0</td>\n",
       "      <td>0</td>\n",
       "      <td>0</td>\n",
       "      <td>0</td>\n",
       "      <td>0</td>\n",
       "      <td>0</td>\n",
       "      <td>0</td>\n",
       "      <td>0</td>\n",
       "    </tr>\n",
       "    <tr>\n",
       "      <th>4</th>\n",
       "      <td>0</td>\n",
       "      <td>0</td>\n",
       "      <td>0</td>\n",
       "      <td>0</td>\n",
       "      <td>0</td>\n",
       "      <td>0</td>\n",
       "      <td>0</td>\n",
       "      <td>0</td>\n",
       "      <td>0</td>\n",
       "      <td>1</td>\n",
       "      <td>...</td>\n",
       "      <td>0</td>\n",
       "      <td>0</td>\n",
       "      <td>0</td>\n",
       "      <td>0</td>\n",
       "      <td>0</td>\n",
       "      <td>0</td>\n",
       "      <td>0</td>\n",
       "      <td>0</td>\n",
       "      <td>0</td>\n",
       "      <td>0</td>\n",
       "    </tr>\n",
       "    <tr>\n",
       "      <th>...</th>\n",
       "      <td>...</td>\n",
       "      <td>...</td>\n",
       "      <td>...</td>\n",
       "      <td>...</td>\n",
       "      <td>...</td>\n",
       "      <td>...</td>\n",
       "      <td>...</td>\n",
       "      <td>...</td>\n",
       "      <td>...</td>\n",
       "      <td>...</td>\n",
       "      <td>...</td>\n",
       "      <td>...</td>\n",
       "      <td>...</td>\n",
       "      <td>...</td>\n",
       "      <td>...</td>\n",
       "      <td>...</td>\n",
       "      <td>...</td>\n",
       "      <td>...</td>\n",
       "      <td>...</td>\n",
       "      <td>...</td>\n",
       "      <td>...</td>\n",
       "    </tr>\n",
       "    <tr>\n",
       "      <th>2036</th>\n",
       "      <td>0</td>\n",
       "      <td>0</td>\n",
       "      <td>0</td>\n",
       "      <td>0</td>\n",
       "      <td>0</td>\n",
       "      <td>0</td>\n",
       "      <td>0</td>\n",
       "      <td>0</td>\n",
       "      <td>0</td>\n",
       "      <td>0</td>\n",
       "      <td>...</td>\n",
       "      <td>0</td>\n",
       "      <td>0</td>\n",
       "      <td>0</td>\n",
       "      <td>0</td>\n",
       "      <td>0</td>\n",
       "      <td>0</td>\n",
       "      <td>0</td>\n",
       "      <td>0</td>\n",
       "      <td>0</td>\n",
       "      <td>0</td>\n",
       "    </tr>\n",
       "    <tr>\n",
       "      <th>2037</th>\n",
       "      <td>0</td>\n",
       "      <td>1</td>\n",
       "      <td>0</td>\n",
       "      <td>0</td>\n",
       "      <td>0</td>\n",
       "      <td>0</td>\n",
       "      <td>0</td>\n",
       "      <td>1</td>\n",
       "      <td>0</td>\n",
       "      <td>1</td>\n",
       "      <td>...</td>\n",
       "      <td>0</td>\n",
       "      <td>0</td>\n",
       "      <td>0</td>\n",
       "      <td>0</td>\n",
       "      <td>0</td>\n",
       "      <td>0</td>\n",
       "      <td>0</td>\n",
       "      <td>0</td>\n",
       "      <td>0</td>\n",
       "      <td>0</td>\n",
       "    </tr>\n",
       "    <tr>\n",
       "      <th>2038</th>\n",
       "      <td>0</td>\n",
       "      <td>0</td>\n",
       "      <td>0</td>\n",
       "      <td>0</td>\n",
       "      <td>0</td>\n",
       "      <td>0</td>\n",
       "      <td>0</td>\n",
       "      <td>1</td>\n",
       "      <td>0</td>\n",
       "      <td>0</td>\n",
       "      <td>...</td>\n",
       "      <td>0</td>\n",
       "      <td>0</td>\n",
       "      <td>0</td>\n",
       "      <td>0</td>\n",
       "      <td>0</td>\n",
       "      <td>0</td>\n",
       "      <td>0</td>\n",
       "      <td>0</td>\n",
       "      <td>0</td>\n",
       "      <td>0</td>\n",
       "    </tr>\n",
       "    <tr>\n",
       "      <th>2039</th>\n",
       "      <td>0</td>\n",
       "      <td>0</td>\n",
       "      <td>0</td>\n",
       "      <td>0</td>\n",
       "      <td>0</td>\n",
       "      <td>0</td>\n",
       "      <td>0</td>\n",
       "      <td>1</td>\n",
       "      <td>0</td>\n",
       "      <td>0</td>\n",
       "      <td>...</td>\n",
       "      <td>0</td>\n",
       "      <td>0</td>\n",
       "      <td>0</td>\n",
       "      <td>0</td>\n",
       "      <td>0</td>\n",
       "      <td>0</td>\n",
       "      <td>0</td>\n",
       "      <td>0</td>\n",
       "      <td>0</td>\n",
       "      <td>0</td>\n",
       "    </tr>\n",
       "    <tr>\n",
       "      <th>2040</th>\n",
       "      <td>0</td>\n",
       "      <td>0</td>\n",
       "      <td>1</td>\n",
       "      <td>0</td>\n",
       "      <td>0</td>\n",
       "      <td>0</td>\n",
       "      <td>0</td>\n",
       "      <td>1</td>\n",
       "      <td>0</td>\n",
       "      <td>0</td>\n",
       "      <td>...</td>\n",
       "      <td>0</td>\n",
       "      <td>0</td>\n",
       "      <td>0</td>\n",
       "      <td>0</td>\n",
       "      <td>0</td>\n",
       "      <td>0</td>\n",
       "      <td>0</td>\n",
       "      <td>0</td>\n",
       "      <td>0</td>\n",
       "      <td>0</td>\n",
       "    </tr>\n",
       "  </tbody>\n",
       "</table>\n",
       "<p>2041 rows × 29 columns</p>\n",
       "</div>"
      ]
     },
     "execution_count": 7,
     "metadata": {},
     "output_type": "execute_result"
    }
   ],
   "execution_count": 7
  },
  {
   "metadata": {
    "ExecuteTime": {
     "end_time": "2024-05-09T02:22:27.081480Z",
     "start_time": "2024-05-09T02:21:48.878014Z"
    }
   },
   "cell_type": "code",
   "source": [
    "pares = []\n",
    "for elm in tqdm(os.listdir('./saves')):\n",
    "    data = torch.load(f'./saves/{elm}')\n",
    "    \n",
    "    pares.append((data['epoch'], data['loss']))"
   ],
   "id": "58f3bed2d21f095f",
   "outputs": [
    {
     "name": "stderr",
     "output_type": "stream",
     "text": [
      "100%|██████████| 100/100 [00:38<00:00,  2.62it/s]\n"
     ]
    }
   ],
   "execution_count": 2
  },
  {
   "metadata": {
    "ExecuteTime": {
     "end_time": "2024-05-09T02:22:27.097460Z",
     "start_time": "2024-05-09T02:22:27.082432Z"
    }
   },
   "cell_type": "code",
   "source": "pares = np.array(pares)",
   "id": "5148f4eead5c1b58",
   "outputs": [],
   "execution_count": 3
  },
  {
   "metadata": {
    "ExecuteTime": {
     "end_time": "2024-05-09T02:22:27.113428Z",
     "start_time": "2024-05-09T02:22:27.098407Z"
    }
   },
   "cell_type": "code",
   "source": [
    "epoch = pares[::,0]\n",
    "loss = pares[::,1]"
   ],
   "id": "a2810a504a9639d2",
   "outputs": [],
   "execution_count": 4
  },
  {
   "metadata": {
    "ExecuteTime": {
     "end_time": "2024-05-09T02:22:27.428417Z",
     "start_time": "2024-05-09T02:22:27.115398Z"
    }
   },
   "cell_type": "code",
   "source": "plt.scatter(epoch, loss)",
   "id": "ffe81f08146a0e86",
   "outputs": [
    {
     "data": {
      "text/plain": [
       "<Figure size 640x480 with 1 Axes>"
      ],
      "image/png": "[encoded data removed]"
     },
     "metadata": {},
     "output_type": "display_data"
    }
   ],
   "execution_count": 5
  },
  {
   "metadata": {
    "ExecuteTime": {
     "end_time": "2024-05-12T23:12:49.159445Z",
     "start_time": "2024-05-12T23:12:48.761417Z"
    }
   },
   "cell_type": "code",
   "source": [
    "vision_model = ViT(\n",
    "    image_size=128 * 3,\n",
    "    patch_size=32,\n",
    "    num_classes=39,\n",
    "    dim=512,\n",
    "    depth=6,\n",
    "    heads=16,\n",
    "    mlp_dim=1024,\n",
    "    dropout=0.1,\n",
    "    emb_dropout=0.1\n",
    ").to('cuda').eval()"
   ],
   "id": "3375aec2b92806ad",
   "outputs": [],
   "execution_count": 2
  },
  {
   "metadata": {
    "ExecuteTime": {
     "end_time": "2024-05-12T23:12:49.175462Z",
     "start_time": "2024-05-12T23:12:49.161420Z"
    }
   },
   "cell_type": "code",
   "source": "data = DataLoader(testing_dataset, 32)",
   "id": "1c48b8c2280f2d7f",
   "outputs": [],
   "execution_count": 3
  },
  {
   "metadata": {
    "ExecuteTime": {
     "end_time": "2024-05-12T23:39:45.405197Z",
     "start_time": "2024-05-12T23:12:49.176416Z"
    }
   },
   "cell_type": "code",
   "source": [
    "pares = []\n",
    "for elm in tqdm(os.listdir('./saves')):\n",
    "    model_data = torch.load(f'./saves/{elm}')\n",
    "    \n",
    "    vision_model.load_state_dict(model_data['model_state_dict'])\n",
    "    vision_model = vision_model.eval()\n",
    "    total_loss = 0\n",
    "    \n",
    "    with torch.no_grad():\n",
    "        for batch in data:\n",
    "            scores = vision_model(batch[0])\n",
    "\n",
    "        total_loss += F.cross_entropy(scores, batch[1])\n",
    "        del batch\n",
    "                \n",
    "    pares.append((model_data['epoch'], (total_loss / len(data)).cpu()))\n",
    "    del model_data"
   ],
   "id": "baad062b2ad6d090",
   "outputs": [
    {
     "name": "stderr",
     "output_type": "stream",
     "text": [
      "100%|██████████| 100/100 [26:56<00:00, 16.16s/it]\n"
     ]
    }
   ],
   "execution_count": 4
  },
  {
   "metadata": {
    "ExecuteTime": {
     "end_time": "2024-05-12T23:42:47.489979Z",
     "start_time": "2024-05-12T23:42:47.476015Z"
    }
   },
   "cell_type": "code",
   "source": "pares = np.array(pares).transpose()",
   "id": "d5684b2e71e754c0",
   "outputs": [],
   "execution_count": 6
  },
  {
   "metadata": {
    "ExecuteTime": {
     "end_time": "2024-05-12T23:44:28.613440Z",
     "start_time": "2024-05-12T23:44:28.403902Z"
    }
   },
   "cell_type": "code",
   "source": "plt.scatter(pares[0], pares[1])",
   "id": "1de35eedbdcb36f2",
   "outputs": [
    {
     "data": {
      "text/plain": [
       "<matplotlib.collections.PathCollection at 0x2610dfcb550>"
      ]
     },
     "execution_count": 16,
     "metadata": {},
     "output_type": "execute_result"
    },
    {
     "data": {
      "text/plain": [
       "<Figure size 640x480 with 1 Axes>"
      ],
      "image/png": "[encoded data removed]"
     },
     "metadata": {},
     "output_type": "display_data"
    }
   ],
   "execution_count": 16
  }
 ],
 "metadata": {
  "kernelspec": {
   "display_name": "mtest-env",
   "language": "python",
   "name": "mtest-env"
  },
  "language_info": {
   "codemirror_mode": {
    "name": "ipython",
    "version": 2
   },
   "file_extension": ".py",
   "mimetype": "text/x-python",
   "name": "python",
   "nbconvert_exporter": "python",
   "pygments_lexer": "ipython2",
   "version": "2.7.6"
  }
 },
 "nbformat": 4,
 "nbformat_minor": 5
}
