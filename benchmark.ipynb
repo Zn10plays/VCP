{
 "cells": [
  {
   "cell_type": "code",
   "id": "initial_id",
   "metadata": {
    "collapsed": true,
    "ExecuteTime": {
     "end_time": "2024-05-22T02:41:00.382791Z",
     "start_time": "2024-05-22T02:41:00.276863Z"
    }
   },
   "source": [
    "import torch\n",
    "import numpy as np\n",
    "import pandas as pd\n",
    "from vit_pytorch import ViT\n",
    "from dataloader import testing_dataset\n",
    "from util import util\n",
    "from torch.nn.functional import sigmoid\n",
    "import yaml\n",
    "import pandas as pd\n",
    "from torch.utils.data import Dataset, DataLoader"
   ],
   "outputs": [],
   "execution_count": 5
  },
  {
   "metadata": {
    "ExecuteTime": {
     "end_time": "2024-05-22T02:41:48.622149Z",
     "start_time": "2024-05-22T02:41:48.606910Z"
    }
   },
   "cell_type": "code",
   "source": "torch.__version__",
   "id": "3ae42882af1209c1",
   "outputs": [
    {
     "data": {
      "text/plain": [
       "'2.3.0+cu121'"
      ]
     },
     "execution_count": 6,
     "metadata": {},
     "output_type": "execute_result"
    }
   ],
   "execution_count": 6
  },
  {
   "metadata": {
    "ExecuteTime": {
     "end_time": "2024-05-22T02:41:49.028457Z",
     "start_time": "2024-05-22T02:41:49.021457Z"
    }
   },
   "cell_type": "code",
   "source": "torch.cuda.is_available()",
   "id": "cf1d3cb88464148e",
   "outputs": [
    {
     "data": {
      "text/plain": [
       "True"
      ]
     },
     "execution_count": 7,
     "metadata": {},
     "output_type": "execute_result"
    }
   ],
   "execution_count": 7
  },
  {
   "metadata": {
    "ExecuteTime": {
     "end_time": "2024-05-22T02:41:49.653088Z",
     "start_time": "2024-05-22T02:41:49.645087Z"
    }
   },
   "cell_type": "code",
   "source": "dataset = DataLoader(testing_dataset, shuffle=True)",
   "id": "8a37d30910a555df",
   "outputs": [],
   "execution_count": 8
  },
  {
   "metadata": {
    "ExecuteTime": {
     "end_time": "2024-05-22T02:41:51.967723Z",
     "start_time": "2024-05-22T02:41:51.680556Z"
    }
   },
   "cell_type": "code",
   "source": [
    "vision_model = ViT(\n",
    "    image_size=128 * 3,\n",
    "    patch_size=32,\n",
    "    num_classes=29,\n",
    "    dim=512,\n",
    "    depth=6,\n",
    "    heads=16,\n",
    "    mlp_dim=1024,\n",
    "    dropout = 0.1,\n",
    "    emb_dropout = 0.1\n",
    ").to('cuda')\n"
   ],
   "id": "3922ccb9aa16dd43",
   "outputs": [],
   "execution_count": 9
  },
  {
   "metadata": {},
   "cell_type": "code",
   "outputs": [
    {
     "ename": "AttributeError",
     "evalue": "'ViT' object has no attribute 'save'",
     "output_type": "error",
     "traceback": [
      "\u001B[1;31m---------------------------------------------------------------------------\u001B[0m",
      "\u001B[1;31mAttributeError\u001B[0m                            Traceback (most recent call last)",
      "Cell \u001B[1;32mIn[12], line 1\u001B[0m\n\u001B[1;32m----> 1\u001B[0m \u001B[43mtorch\u001B[49m\u001B[38;5;241;43m.\u001B[39;49m\u001B[43mjit\u001B[49m\u001B[38;5;241;43m.\u001B[39;49m\u001B[43msave\u001B[49m\u001B[43m(\u001B[49m\u001B[43mvision_model\u001B[49m\u001B[43m,\u001B[49m\u001B[43m \u001B[49m\u001B[38;5;124;43m'\u001B[39;49m\u001B[38;5;124;43mViT.pt\u001B[39;49m\u001B[38;5;124;43m'\u001B[39;49m\u001B[43m)\u001B[49m\n",
      "File \u001B[1;32m~\\AppData\\Roaming\\Python\\Python310\\site-packages\\torch\\jit\\_serialization.py:79\u001B[0m, in \u001B[0;36msave\u001B[1;34m(m, f, _extra_files)\u001B[0m\n\u001B[0;32m     77\u001B[0m     _extra_files \u001B[38;5;241m=\u001B[39m {}\n\u001B[0;32m     78\u001B[0m \u001B[38;5;28;01mif\u001B[39;00m \u001B[38;5;28misinstance\u001B[39m(f, (\u001B[38;5;28mstr\u001B[39m, os\u001B[38;5;241m.\u001B[39mPathLike)):\n\u001B[1;32m---> 79\u001B[0m     \u001B[43mm\u001B[49m\u001B[38;5;241;43m.\u001B[39;49m\u001B[43msave\u001B[49m(f, _extra_files\u001B[38;5;241m=\u001B[39m_extra_files)\n\u001B[0;32m     80\u001B[0m \u001B[38;5;28;01melse\u001B[39;00m:\n\u001B[0;32m     81\u001B[0m     ret \u001B[38;5;241m=\u001B[39m m\u001B[38;5;241m.\u001B[39msave_to_buffer(_extra_files\u001B[38;5;241m=\u001B[39m_extra_files)\n",
      "File \u001B[1;32m~\\AppData\\Roaming\\Python\\Python310\\site-packages\\torch\\nn\\modules\\module.py:1709\u001B[0m, in \u001B[0;36mModule.__getattr__\u001B[1;34m(self, name)\u001B[0m\n\u001B[0;32m   1707\u001B[0m     \u001B[38;5;28;01mif\u001B[39;00m name \u001B[38;5;129;01min\u001B[39;00m modules:\n\u001B[0;32m   1708\u001B[0m         \u001B[38;5;28;01mreturn\u001B[39;00m modules[name]\n\u001B[1;32m-> 1709\u001B[0m \u001B[38;5;28;01mraise\u001B[39;00m \u001B[38;5;167;01mAttributeError\u001B[39;00m(\u001B[38;5;124mf\u001B[39m\u001B[38;5;124m\"\u001B[39m\u001B[38;5;124m'\u001B[39m\u001B[38;5;132;01m{\u001B[39;00m\u001B[38;5;28mtype\u001B[39m(\u001B[38;5;28mself\u001B[39m)\u001B[38;5;241m.\u001B[39m\u001B[38;5;18m__name__\u001B[39m\u001B[38;5;132;01m}\u001B[39;00m\u001B[38;5;124m'\u001B[39m\u001B[38;5;124m object has no attribute \u001B[39m\u001B[38;5;124m'\u001B[39m\u001B[38;5;132;01m{\u001B[39;00mname\u001B[38;5;132;01m}\u001B[39;00m\u001B[38;5;124m'\u001B[39m\u001B[38;5;124m\"\u001B[39m)\n",
      "\u001B[1;31mAttributeError\u001B[0m: 'ViT' object has no attribute 'save'"
     ]
    }
   ],
   "execution_count": 12,
   "source": "torch.jit.save(vision_model, 'ViT.pt')",
   "id": "791c28ca74aadf9a"
  },
  {
   "metadata": {
    "ExecuteTime": {
     "end_time": "2024-05-20T02:51:51.003234Z",
     "start_time": "2024-05-20T02:51:50.787229Z"
    }
   },
   "cell_type": "code",
   "source": [
    "model_dict = torch.load('saves/V1-Final/model_epoch_10.pth')\n",
    "model_dict.keys()"
   ],
   "id": "551f16b4fb89638e",
   "outputs": [
    {
     "data": {
      "text/plain": [
       "dict_keys(['epoch', 'model_state_dict', 'optimizer_state_dict', 'loss', 'testing_loss'])"
      ]
     },
     "execution_count": 6,
     "metadata": {},
     "output_type": "execute_result"
    }
   ],
   "execution_count": 6
  },
  {
   "metadata": {
    "ExecuteTime": {
     "end_time": "2024-05-20T02:51:51.033237Z",
     "start_time": "2024-05-20T02:51:51.004264Z"
    }
   },
   "cell_type": "code",
   "source": [
    "vision_model.load_state_dict(model_dict['model_state_dict'])\n",
    "vision_model.eval();"
   ],
   "id": "9a6e0e6f995fba46",
   "outputs": [],
   "execution_count": 7
  },
  {
   "metadata": {
    "ExecuteTime": {
     "end_time": "2024-05-20T02:51:52.238587Z",
     "start_time": "2024-05-20T02:51:52.191942Z"
    }
   },
   "cell_type": "code",
   "source": "sample = next(iter(dataset))",
   "id": "60d2ef397f4a3c41",
   "outputs": [],
   "execution_count": 8
  },
  {
   "metadata": {
    "ExecuteTime": {
     "end_time": "2024-05-20T02:51:52.316552Z",
     "start_time": "2024-05-20T02:51:52.239552Z"
    }
   },
   "cell_type": "code",
   "source": [
    "with torch.no_grad():\n",
    "    probs = vision_model(sample[0])"
   ],
   "id": "a6c1e2910348ab6d",
   "outputs": [],
   "execution_count": 9
  },
  {
   "metadata": {
    "ExecuteTime": {
     "end_time": "2024-05-20T02:51:52.332551Z",
     "start_time": "2024-05-20T02:51:52.318552Z"
    }
   },
   "cell_type": "code",
   "source": [
    "probs = sigmoid(probs)\n",
    "probs"
   ],
   "id": "54e3c1cd4dd9c7c2",
   "outputs": [
    {
     "data": {
      "text/plain": [
       "tensor([[0.3272, 0.3556, 0.3311, 0.3283, 0.3404, 0.1802, 0.2589, 0.4617, 0.3035,\n",
       "         0.3422, 0.1998, 0.2937, 0.2229, 0.1676, 0.1957, 0.2249, 0.2787, 0.2108,\n",
       "         0.1892, 0.2136, 0.3826, 0.2934, 0.1780, 0.2088, 0.1298, 0.2228, 0.2866,\n",
       "         0.1773, 0.2132]], device='cuda:0')"
      ]
     },
     "execution_count": 10,
     "metadata": {},
     "output_type": "execute_result"
    }
   ],
   "execution_count": 10
  },
  {
   "metadata": {
    "ExecuteTime": {
     "end_time": "2024-05-20T02:51:52.348551Z",
     "start_time": "2024-05-20T02:51:52.333553Z"
    }
   },
   "cell_type": "code",
   "source": "sample[1]",
   "id": "20beeb01a602b711",
   "outputs": [
    {
     "data": {
      "text/plain": [
       "tensor([[0., 0., 0., 1., 0., 0., 1., 0., 0., 0., 0., 0., 0., 0., 0., 0., 0., 0.,\n",
       "         0., 0., 0., 0., 0., 0., 0., 0., 0., 0., 0.]], device='cuda:0')"
      ]
     },
     "execution_count": 11,
     "metadata": {},
     "output_type": "execute_result"
    }
   ],
   "execution_count": 11
  },
  {
   "metadata": {
    "ExecuteTime": {
     "end_time": "2024-05-20T02:51:53.406098Z",
     "start_time": "2024-05-20T02:51:53.391099Z"
    }
   },
   "cell_type": "code",
   "source": "util.calculate_precession(probs, sample[1])",
   "id": "5634a4e68c7284ec",
   "outputs": [
    {
     "data": {
      "text/plain": [
       "tensor([-1.5000])"
      ]
     },
     "execution_count": 12,
     "metadata": {},
     "output_type": "execute_result"
    }
   ],
   "execution_count": 12
  },
  {
   "metadata": {
    "ExecuteTime": {
     "end_time": "2024-05-20T02:51:53.452135Z",
     "start_time": "2024-05-20T02:51:53.407099Z"
    }
   },
   "cell_type": "code",
   "source": "util.to_classes(sample[1])",
   "id": "88b4e383d82a0fbc",
   "outputs": [
    {
     "data": {
      "text/plain": [
       "(['Adult', 'Mature'], [1.0, 1.0])"
      ]
     },
     "execution_count": 13,
     "metadata": {},
     "output_type": "execute_result"
    }
   ],
   "execution_count": 13
  },
  {
   "metadata": {
    "ExecuteTime": {
     "end_time": "2024-05-20T02:51:54.490222Z",
     "start_time": "2024-05-20T02:51:54.475219Z"
    }
   },
   "cell_type": "code",
   "source": "util.pick_top(probs, 2, prettify=True)",
   "id": "e24045f240ae7e26",
   "outputs": [
    {
     "data": {
      "text/plain": [
       "(['Drama', 'Wuxia'], [0.4616779088973999, 0.3825852870941162])"
      ]
     },
     "execution_count": 14,
     "metadata": {},
     "output_type": "execute_result"
    }
   ],
   "execution_count": 14
  }
 ],
 "metadata": {
  "kernelspec": {
   "display_name": "learn_env",
   "language": "python",
   "name": "learn_env"
  },
  "language_info": {
   "codemirror_mode": {
    "name": "ipython",
    "version": 2
   },
   "file_extension": ".py",
   "mimetype": "text/x-python",
   "name": "python",
   "nbconvert_exporter": "python",
   "pygments_lexer": "ipython2",
   "version": "2.7.6"
  }
 },
 "nbformat": 4,
 "nbformat_minor": 5
}
