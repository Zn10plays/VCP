{
 "cells": [
  {
   "cell_type": "code",
   "id": "initial_id",
   "metadata": {
    "collapsed": true,
    "ExecuteTime": {
     "end_time": "2024-05-15T23:23:48.537317Z",
     "start_time": "2024-05-15T23:23:45.485580Z"
    }
   },
   "source": [
    "import torch\n",
    "import numpy as np\n",
    "import pandas as pd\n",
    "from vit_pytorch import ViT\n",
    "from dataloader import testing_dataset\n",
    "from util import util\n",
    "from torch.nn.functional import sigmoid\n",
    "from torch.utils.data import Dataset, DataLoader"
   ],
   "outputs": [],
   "execution_count": 1
  },
  {
   "metadata": {
    "ExecuteTime": {
     "end_time": "2024-05-15T23:23:48.553287Z",
     "start_time": "2024-05-15T23:23:48.539256Z"
    }
   },
   "cell_type": "code",
   "source": "dataset = DataLoader(testing_dataset, shuffle=True)",
   "id": "a5d6e1491237316",
   "outputs": [],
   "execution_count": 2
  },
  {
   "metadata": {
    "ExecuteTime": {
     "end_time": "2024-05-15T23:23:48.599282Z",
     "start_time": "2024-05-15T23:23:48.554256Z"
    }
   },
   "cell_type": "code",
   "source": "torch.cuda.is_available()",
   "id": "cf1d3cb88464148e",
   "outputs": [
    {
     "data": {
      "text/plain": [
       "True"
      ]
     },
     "execution_count": 3,
     "metadata": {},
     "output_type": "execute_result"
    }
   ],
   "execution_count": 3
  },
  {
   "metadata": {
    "ExecuteTime": {
     "end_time": "2024-05-15T23:23:48.866253Z",
     "start_time": "2024-05-15T23:23:48.604266Z"
    }
   },
   "cell_type": "code",
   "source": [
    "vision_model = ViT(\n",
    "    image_size=128 * 3,\n",
    "    patch_size=32,\n",
    "    num_classes=39,\n",
    "    dim=512,\n",
    "    depth=6,\n",
    "    heads=16,\n",
    "    mlp_dim=1024,\n",
    "    # dropout = 0.1,\n",
    "    # emb_dropout = 0.1\n",
    ").to('cuda')"
   ],
   "id": "3922ccb9aa16dd43",
   "outputs": [],
   "execution_count": 4
  },
  {
   "metadata": {
    "ExecuteTime": {
     "end_time": "2024-05-15T23:23:49.099368Z",
     "start_time": "2024-05-15T23:23:48.868253Z"
    }
   },
   "cell_type": "code",
   "source": [
    "model_dict = torch.load('./saves/exp_7/model_epoch_100.pth')\n",
    "model_dict.keys()"
   ],
   "id": "551f16b4fb89638e",
   "outputs": [
    {
     "data": {
      "text/plain": [
       "dict_keys(['epoch', 'model_state_dict', 'optimizer_state_dict', 'loss', 'testing_loss'])"
      ]
     },
     "execution_count": 5,
     "metadata": {},
     "output_type": "execute_result"
    }
   ],
   "execution_count": 5
  },
  {
   "metadata": {
    "ExecuteTime": {
     "end_time": "2024-05-15T23:23:49.130254Z",
     "start_time": "2024-05-15T23:23:49.100253Z"
    }
   },
   "cell_type": "code",
   "source": [
    "vision_model.load_state_dict(model_dict['model_state_dict'])\n",
    "vision_model.eval();"
   ],
   "id": "9a6e0e6f995fba46",
   "outputs": [],
   "execution_count": 6
  },
  {
   "metadata": {
    "ExecuteTime": {
     "end_time": "2024-05-15T23:23:49.191976Z",
     "start_time": "2024-05-15T23:23:49.131254Z"
    }
   },
   "cell_type": "code",
   "source": "sample = next(iter(dataset))",
   "id": "60d2ef397f4a3c41",
   "outputs": [],
   "execution_count": 7
  },
  {
   "metadata": {
    "ExecuteTime": {
     "end_time": "2024-05-15T23:23:49.286967Z",
     "start_time": "2024-05-15T23:23:49.192966Z"
    }
   },
   "cell_type": "code",
   "source": [
    "with torch.no_grad():\n",
    "    probs = vision_model(sample[0])"
   ],
   "id": "a6c1e2910348ab6d",
   "outputs": [],
   "execution_count": 8
  },
  {
   "metadata": {
    "ExecuteTime": {
     "end_time": "2024-05-15T23:23:49.364967Z",
     "start_time": "2024-05-15T23:23:49.287967Z"
    }
   },
   "cell_type": "code",
   "source": "probs",
   "id": "4344f3e0b901a58d",
   "outputs": [
    {
     "data": {
      "text/plain": [
       "tensor([[ 1.3897,  1.2626, -1.4595, -1.1851, -1.3380, -1.5432, -2.1853, -2.1191,\n",
       "         -1.4460, -0.2281, -1.5515, -0.8435, -2.0845, -1.7886, -1.5234, -2.4760,\n",
       "         -2.0175, -1.7185, -1.7176, -1.7110, -2.3173, -1.7355, -2.2722, -2.2099,\n",
       "         -2.5214, -2.3524, -2.5703, -2.2753, -2.5015, -2.5356, -2.7017, -2.4688,\n",
       "         -2.2861, -2.9755, -2.5537, -2.1075, -2.5259, -2.4284, -2.3472]],\n",
       "       device='cuda:0')"
      ]
     },
     "execution_count": 9,
     "metadata": {},
     "output_type": "execute_result"
    }
   ],
   "execution_count": 9
  },
  {
   "metadata": {
    "ExecuteTime": {
     "end_time": "2024-05-15T23:23:49.379967Z",
     "start_time": "2024-05-15T23:23:49.365967Z"
    }
   },
   "cell_type": "code",
   "source": "sigmoid(probs)",
   "id": "54e3c1cd4dd9c7c2",
   "outputs": [
    {
     "data": {
      "text/plain": [
       "tensor([[0.8005, 0.7795, 0.1885, 0.2341, 0.2078, 0.1761, 0.1011, 0.1073, 0.1906,\n",
       "         0.4432, 0.1749, 0.3008, 0.1106, 0.1432, 0.1790, 0.0776, 0.1174, 0.1521,\n",
       "         0.1522, 0.1530, 0.0897, 0.1499, 0.0934, 0.0989, 0.0744, 0.0869, 0.0711,\n",
       "         0.0932, 0.0758, 0.0734, 0.0629, 0.0781, 0.0923, 0.0485, 0.0722, 0.1084,\n",
       "         0.0741, 0.0810, 0.0873]], device='cuda:0')"
      ]
     },
     "execution_count": 10,
     "metadata": {},
     "output_type": "execute_result"
    }
   ],
   "execution_count": 10
  },
  {
   "metadata": {
    "ExecuteTime": {
     "end_time": "2024-05-15T23:41:14.058732Z",
     "start_time": "2024-05-15T23:41:14.039732Z"
    }
   },
   "cell_type": "code",
   "source": [
    "@torch.no_grad()\n",
    "def calculate_precession(y_hat: torch.Tensor, y: torch.Tensor):\n",
    "    y = y.cpu()\n",
    "    y_hat = y_hat.cpu()\n",
    "    \n",
    "    # y_hat = y_hat if y_hat.dim() == 2 else y_hat.unsqueeze(dim=0)\n",
    "    # y = y if y.dim() == 2 else y.unsqueeze(dim=0)\n",
    "\n",
    "    classes_hat = y_hat.clone().apply_(lambda x: 1 if x > .7 else 0)\n",
    "    y_complement = y.clone().apply_(lambda x: 0 if x == 1 else 0)\n",
    "    return y.sum(dim=-1)"
   ],
   "id": "cc35029ba1ae888f",
   "outputs": [],
   "execution_count": 85
  },
  {
   "metadata": {
    "ExecuteTime": {
     "end_time": "2024-05-15T23:41:15.816758Z",
     "start_time": "2024-05-15T23:41:15.801758Z"
    }
   },
   "cell_type": "code",
   "source": "sample[1]",
   "id": "20beeb01a602b711",
   "outputs": [
    {
     "data": {
      "text/plain": [
       "tensor([[1., 1., 0., 0., 0., 0., 0., 0., 0., 0., 0., 0., 0., 0., 0., 0., 0., 0.,\n",
       "         0., 0., 0., 0., 0., 0., 0., 0., 0., 0., 0., 0., 0., 0., 0., 0., 0., 0.,\n",
       "         0., 0., 0.]], device='cuda:0')"
      ]
     },
     "execution_count": 86,
     "metadata": {},
     "output_type": "execute_result"
    }
   ],
   "execution_count": 86
  },
  {
   "metadata": {
    "ExecuteTime": {
     "end_time": "2024-05-15T23:41:15.832785Z",
     "start_time": "2024-05-15T23:41:15.817758Z"
    }
   },
   "cell_type": "code",
   "source": "calculate_precession(probs, sample[1])",
   "id": "aff1f6c4060f828c",
   "outputs": [
    {
     "data": {
      "text/plain": [
       "tensor([2.])"
      ]
     },
     "execution_count": 87,
     "metadata": {},
     "output_type": "execute_result"
    }
   ],
   "execution_count": 87
  },
  {
   "metadata": {
    "ExecuteTime": {
     "end_time": "2024-05-15T23:37:40.386860Z",
     "start_time": "2024-05-15T23:37:40.371860Z"
    }
   },
   "cell_type": "code",
   "source": "_.shape",
   "id": "18044f798aeac67f",
   "outputs": [
    {
     "data": {
      "text/plain": [
       "torch.Size([1, 39])"
      ]
     },
     "execution_count": 66,
     "metadata": {},
     "output_type": "execute_result"
    }
   ],
   "execution_count": 66
  },
  {
   "metadata": {
    "ExecuteTime": {
     "end_time": "2024-05-15T23:31:17.552996Z",
     "start_time": "2024-05-15T23:31:17.532961Z"
    }
   },
   "cell_type": "code",
   "source": "sample[1].sum(dim=0)",
   "id": "9c9fa43ee4120416",
   "outputs": [
    {
     "data": {
      "text/plain": [
       "tensor([1., 1., 0., 0., 0., 0., 0., 0., 0., 0., 0., 0., 0., 0., 0., 0., 0., 0.,\n",
       "        0., 0., 0., 0., 0., 0., 0., 0., 0., 0., 0., 0., 0., 0., 0., 0., 0., 0.,\n",
       "        0., 0., 0.], device='cuda:0')"
      ]
     },
     "execution_count": 46,
     "metadata": {},
     "output_type": "execute_result"
    }
   ],
   "execution_count": 46
  }
 ],
 "metadata": {
  "kernelspec": {
   "display_name": "mtest-env",
   "language": "python",
   "name": "mtest-env"
  },
  "language_info": {
   "codemirror_mode": {
    "name": "ipython",
    "version": 2
   },
   "file_extension": ".py",
   "mimetype": "text/x-python",
   "name": "python",
   "nbconvert_exporter": "python",
   "pygments_lexer": "ipython2",
   "version": "2.7.6"
  }
 },
 "nbformat": 4,
 "nbformat_minor": 5
}
