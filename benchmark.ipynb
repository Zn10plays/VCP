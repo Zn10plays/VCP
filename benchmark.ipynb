{
 "cells": [
  {
   "cell_type": "code",
   "id": "initial_id",
   "metadata": {
    "collapsed": true,
    "ExecuteTime": {
     "end_time": "2024-05-18T01:08:55.120448Z",
     "start_time": "2024-05-18T01:08:46.713458Z"
    }
   },
   "source": [
    "import torch\n",
    "import numpy as np\n",
    "import pandas as pd\n",
    "from vit_pytorch import ViT\n",
    "from dataloader import testing_dataset\n",
    "from util import util\n",
    "from torch.nn.functional import sigmoid\n",
    "from torch.utils.data import Dataset, DataLoader"
   ],
   "outputs": [],
   "execution_count": 1
  },
  {
   "metadata": {
    "ExecuteTime": {
     "end_time": "2024-05-18T01:18:15.806786Z",
     "start_time": "2024-05-18T01:18:15.796797Z"
    }
   },
   "cell_type": "code",
   "source": "torch.cuda.is_available()",
   "id": "cf1d3cb88464148e",
   "outputs": [
    {
     "data": {
      "text/plain": [
       "True"
      ]
     },
     "execution_count": 54,
     "metadata": {},
     "output_type": "execute_result"
    }
   ],
   "execution_count": 54
  },
  {
   "metadata": {},
   "cell_type": "code",
   "outputs": [],
   "execution_count": null,
   "source": "dataset = DataLoader(testing_dataset, shuffle=True, batch_size=128)",
   "id": "8a37d30910a555df"
  },
  {
   "metadata": {
    "ExecuteTime": {
     "end_time": "2024-05-18T01:18:15.964298Z",
     "start_time": "2024-05-18T01:18:15.807789Z"
    }
   },
   "cell_type": "code",
   "source": [
    "vision_model = ViT(\n",
    "    image_size=128 * 3,\n",
    "    patch_size=32,\n",
    "    num_classes=39,\n",
    "    dim=512,\n",
    "    depth=6,\n",
    "    heads=16,\n",
    "    mlp_dim=1024,\n",
    "    # dropout = 0.1,\n",
    "    # emb_dropout = 0.1\n",
    ").to('cuda')"
   ],
   "id": "3922ccb9aa16dd43",
   "outputs": [],
   "execution_count": 55
  },
  {
   "metadata": {
    "ExecuteTime": {
     "end_time": "2024-05-18T01:18:16.233297Z",
     "start_time": "2024-05-18T01:18:15.966296Z"
    }
   },
   "cell_type": "code",
   "source": [
    "model_dict = torch.load('./saves/exp_7/model_epoch_100.pth')\n",
    "model_dict.keys()"
   ],
   "id": "551f16b4fb89638e",
   "outputs": [
    {
     "data": {
      "text/plain": [
       "dict_keys(['epoch', 'model_state_dict', 'optimizer_state_dict', 'loss', 'testing_loss'])"
      ]
     },
     "execution_count": 56,
     "metadata": {},
     "output_type": "execute_result"
    }
   ],
   "execution_count": 56
  },
  {
   "metadata": {
    "ExecuteTime": {
     "end_time": "2024-05-18T01:18:16.249297Z",
     "start_time": "2024-05-18T01:18:16.234298Z"
    }
   },
   "cell_type": "code",
   "source": [
    "vision_model.load_state_dict(model_dict['model_state_dict'])\n",
    "vision_model.eval();"
   ],
   "id": "9a6e0e6f995fba46",
   "outputs": [],
   "execution_count": 57
  },
  {
   "metadata": {
    "ExecuteTime": {
     "end_time": "2024-05-18T01:18:16.265299Z",
     "start_time": "2024-05-18T01:18:16.250296Z"
    }
   },
   "cell_type": "code",
   "source": [
    "@torch.no_grad()\n",
    "def calculate_precession(y_hat: torch.Tensor, y: torch.Tensor, pooling = True):\n",
    "    y = y.cpu()\n",
    "    y_hat = y_hat.cpu()\n",
    "\n",
    "    classes_hat = y_hat.apply_(lambda x: 1 if x > .7 else 0)\n",
    "    y_complement = y.apply_(lambda x: 0 if x == 1 else 0)\n",
    "\n",
    "    acc = ((classes_hat * y).sum(dim = -1) - (classes_hat * y_complement).sum(dim=-1)) / y.sum(dim=-1)\n",
    "\n",
    "    return torch.mean(acc) if pooling else acc"
   ],
   "id": "510db111a60f6828",
   "outputs": [],
   "execution_count": 58
  },
  {
   "metadata": {
    "ExecuteTime": {
     "end_time": "2024-05-18T01:22:35.262424Z",
     "start_time": "2024-05-18T01:22:30.130396Z"
    }
   },
   "cell_type": "code",
   "source": "sample = next(iter(dataset))",
   "id": "60d2ef397f4a3c41",
   "outputs": [],
   "execution_count": 73
  },
  {
   "metadata": {
    "ExecuteTime": {
     "end_time": "2024-05-18T01:22:35.277424Z",
     "start_time": "2024-05-18T01:22:35.263424Z"
    }
   },
   "cell_type": "code",
   "source": [
    "with torch.no_grad():\n",
    "    probs = vision_model(sample[0])"
   ],
   "id": "a6c1e2910348ab6d",
   "outputs": [],
   "execution_count": 74
  },
  {
   "metadata": {
    "ExecuteTime": {
     "end_time": "2024-05-18T01:22:35.655301Z",
     "start_time": "2024-05-18T01:22:35.279395Z"
    }
   },
   "cell_type": "code",
   "source": [
    "probs = sigmoid(probs)\n",
    "probs"
   ],
   "id": "54e3c1cd4dd9c7c2",
   "outputs": [
    {
     "data": {
      "text/plain": [
       "tensor([[0.7679, 0.6079, 0.1992,  ..., 0.0927, 0.0915, 0.1209],\n",
       "        [0.7889, 0.7424, 0.1862,  ..., 0.0768, 0.0814, 0.0922],\n",
       "        [0.7978, 0.7177, 0.1889,  ..., 0.0809, 0.0837, 0.1028],\n",
       "        ...,\n",
       "        [0.8026, 0.7247, 0.1948,  ..., 0.0759, 0.0828, 0.0919],\n",
       "        [0.7937, 0.7588, 0.1908,  ..., 0.0751, 0.0850, 0.0853],\n",
       "        [0.8052, 0.7256, 0.1856,  ..., 0.0758, 0.0776, 0.0944]],\n",
       "       device='cuda:0')"
      ]
     },
     "execution_count": 75,
     "metadata": {},
     "output_type": "execute_result"
    }
   ],
   "execution_count": 75
  },
  {
   "metadata": {
    "ExecuteTime": {
     "end_time": "2024-05-18T01:22:35.671181Z",
     "start_time": "2024-05-18T01:22:35.657181Z"
    }
   },
   "cell_type": "code",
   "source": "sample[1]",
   "id": "20beeb01a602b711",
   "outputs": [
    {
     "data": {
      "text/plain": [
       "tensor([[1., 1., 1.,  ..., 0., 0., 0.],\n",
       "        [1., 1., 0.,  ..., 0., 0., 0.],\n",
       "        [1., 1., 0.,  ..., 0., 0., 0.],\n",
       "        ...,\n",
       "        [1., 0., 0.,  ..., 0., 0., 0.],\n",
       "        [1., 1., 0.,  ..., 0., 0., 0.],\n",
       "        [1., 1., 1.,  ..., 0., 0., 0.]], device='cuda:0')"
      ]
     },
     "execution_count": 76,
     "metadata": {},
     "output_type": "execute_result"
    }
   ],
   "execution_count": 76
  },
  {
   "metadata": {
    "ExecuteTime": {
     "end_time": "2024-05-18T01:22:35.686227Z",
     "start_time": "2024-05-18T01:22:35.672211Z"
    }
   },
   "cell_type": "code",
   "source": [
    "y = sample[1].cpu().clone()\n",
    "y_hat = probs.cpu().clone()\n",
    "\n",
    "classes_hat = y_hat.apply_(lambda x: 1 if x > .7 else 0)\n",
    "y_complement = y.apply_(lambda x: 0 if x == 1 else 1)\n",
    "\n",
    "acc = ((classes_hat * y).sum(dim = -1) - (classes_hat * y_complement).sum(dim=-1))"
   ],
   "id": "aff1f6c4060f828c",
   "outputs": [
    {
     "name": "stdout",
     "output_type": "stream",
     "text": [
      "tensor([[1., 0., 0.,  ..., 0., 0., 0.],\n",
      "        [1., 1., 0.,  ..., 0., 0., 0.],\n",
      "        [1., 1., 0.,  ..., 0., 0., 0.],\n",
      "        ...,\n",
      "        [1., 1., 0.,  ..., 0., 0., 0.],\n",
      "        [1., 1., 0.,  ..., 0., 0., 0.],\n",
      "        [1., 1., 0.,  ..., 0., 0., 0.]])\n",
      "tensor([0., 0., 0., 1., 0., 0., 1., 0., 0., 0., 0., 1., 0., 0., 0., 0., 0., 1.,\n",
      "        0., 0., 0., 1., 0., 1., 1., 1., 0., 0., 0., 0., 0., 0., 0., 0., 0., 0.,\n",
      "        0., 0., 0., 0., 0., 0., 0., 0., 0., 0., 0., 1., 1., 0., 1., 0., 0., 0.,\n",
      "        1., 0., 0., 2., 1., 1., 0., 0., 1., 0., 0., 0., 1., 0., 2., 0., 0., 0.,\n",
      "        0., 0., 1., 0., 0., 0., 0., 0., 0., 1., 0., 0., 0., 0., 1., 0., 0., 0.,\n",
      "        0., 0., 1., 0., 1., 0., 0., 1., 0., 0., 0., 1., 0., 0., 0., 0., 0., 1.,\n",
      "        0., 1., 0., 1., 2., 0., 1., 0., 0., 0., 0., 0., 0., 1., 0., 0., 0., 1.,\n",
      "        0., 0.])\n",
      "tensor([[0., 0., 0.,  ..., 1., 1., 1.],\n",
      "        [0., 0., 1.,  ..., 1., 1., 1.],\n",
      "        [0., 0., 1.,  ..., 1., 1., 1.],\n",
      "        ...,\n",
      "        [0., 1., 1.,  ..., 1., 1., 1.],\n",
      "        [0., 0., 1.,  ..., 1., 1., 1.],\n",
      "        [0., 0., 0.,  ..., 1., 1., 1.]])\n",
      "tensor([0., 0., 0., 1., 0., 0., 1., 0., 0., 0., 0., 1., 0., 0., 0., 0., 0., 1.,\n",
      "        0., 0., 0., 1., 0., 1., 1., 1., 0., 0., 0., 0., 0., 0., 0., 0., 0., 0.,\n",
      "        0., 0., 0., 0., 0., 0., 0., 0., 0., 0., 0., 1., 1., 0., 1., 0., 0., 0.,\n",
      "        1., 0., 0., 2., 1., 1., 0., 0., 1., 0., 0., 0., 1., 0., 2., 0., 0., 0.,\n",
      "        0., 0., 1., 0., 0., 0., 0., 0., 0., 1., 0., 0., 0., 0., 1., 0., 0., 0.,\n",
      "        0., 0., 1., 0., 1., 0., 0., 1., 0., 0., 0., 1., 0., 0., 0., 0., 0., 1.,\n",
      "        0., 1., 0., 1., 2., 0., 1., 0., 0., 0., 0., 0., 0., 1., 0., 0., 0., 1.,\n",
      "        0., 0.])\n"
     ]
    }
   ],
   "execution_count": 77
  },
  {
   "metadata": {
    "ExecuteTime": {
     "end_time": "2024-05-18T01:22:43.949975Z",
     "start_time": "2024-05-18T01:22:43.941945Z"
    }
   },
   "cell_type": "code",
   "source": "acc.shape",
   "id": "65b7e38073f0be4a",
   "outputs": [
    {
     "data": {
      "text/plain": [
       "torch.Size([128])"
      ]
     },
     "execution_count": 78,
     "metadata": {},
     "output_type": "execute_result"
    }
   ],
   "execution_count": 78
  },
  {
   "metadata": {
    "ExecuteTime": {
     "end_time": "2024-05-18T01:22:45.490209Z",
     "start_time": "2024-05-18T01:22:45.475241Z"
    }
   },
   "cell_type": "code",
   "source": "acc.sum()",
   "id": "a8bc4b8959a9e2be",
   "outputs": [
    {
     "data": {
      "text/plain": [
       "tensor(0.)"
      ]
     },
     "execution_count": 79,
     "metadata": {},
     "output_type": "execute_result"
    }
   ],
   "execution_count": 79
  },
  {
   "metadata": {
    "ExecuteTime": {
     "end_time": "2024-05-18T01:15:14.353477Z",
     "start_time": "2024-05-18T01:15:14.340451Z"
    }
   },
   "cell_type": "code",
   "source": "prec",
   "id": "18044f798aeac67f",
   "outputs": [
    {
     "data": {
      "text/plain": [
       "tensor(nan)"
      ]
     },
     "execution_count": 35,
     "metadata": {},
     "output_type": "execute_result"
    }
   ],
   "execution_count": 35
  },
  {
   "metadata": {},
   "cell_type": "code",
   "outputs": [],
   "execution_count": null,
   "source": "-0.00034 * torch.pow(prec, 2) + .5 if prec < .5 else .5 * torch.pow(prec, 2) + .5",
   "id": "896a5295b366ce6b"
  }
 ],
 "metadata": {
  "kernelspec": {
   "display_name": "mtest-env",
   "language": "python",
   "name": "mtest-env"
  },
  "language_info": {
   "codemirror_mode": {
    "name": "ipython",
    "version": 2
   },
   "file_extension": ".py",
   "mimetype": "text/x-python",
   "name": "python",
   "nbconvert_exporter": "python",
   "pygments_lexer": "ipython2",
   "version": "2.7.6"
  }
 },
 "nbformat": 4,
 "nbformat_minor": 5
}
