{
 "cells": [
  {
   "cell_type": "code",
   "id": "initial_id",
   "metadata": {
    "collapsed": true,
    "ExecuteTime": {
     "end_time": "2024-05-20T02:51:49.523553Z",
     "start_time": "2024-05-20T02:51:49.508607Z"
    }
   },
   "source": [
    "import torch\n",
    "import numpy as np\n",
    "import pandas as pd\n",
    "from vit_pytorch import ViT\n",
    "from dataloader import testing_dataset\n",
    "from util import util\n",
    "from torch.nn.functional import sigmoid\n",
    "from torch.utils.data import Dataset, DataLoader"
   ],
   "outputs": [],
   "execution_count": 2
  },
  {
   "metadata": {
    "ExecuteTime": {
     "end_time": "2024-05-20T02:51:50.037569Z",
     "start_time": "2024-05-20T02:51:49.984601Z"
    }
   },
   "cell_type": "code",
   "source": "torch.cuda.is_available()",
   "id": "cf1d3cb88464148e",
   "outputs": [
    {
     "data": {
      "text/plain": [
       "True"
      ]
     },
     "execution_count": 3,
     "metadata": {},
     "output_type": "execute_result"
    }
   ],
   "execution_count": 3
  },
  {
   "metadata": {
    "ExecuteTime": {
     "end_time": "2024-05-20T02:51:50.270782Z",
     "start_time": "2024-05-20T02:51:50.253508Z"
    }
   },
   "cell_type": "code",
   "source": "dataset = DataLoader(testing_dataset, shuffle=True)",
   "id": "8a37d30910a555df",
   "outputs": [],
   "execution_count": 4
  },
  {
   "metadata": {
    "ExecuteTime": {
     "end_time": "2024-05-20T02:51:50.785227Z",
     "start_time": "2024-05-20T02:51:50.492829Z"
    }
   },
   "cell_type": "code",
   "source": [
    "vision_model = ViT(\n",
    "    image_size=128 * 3,\n",
    "    patch_size=32,\n",
    "    num_classes=29,\n",
    "    dim=512,\n",
    "    depth=6,\n",
    "    heads=16,\n",
    "    mlp_dim=1024,\n",
    "    dropout = 0.1,\n",
    "    emb_dropout = 0.1\n",
    ").to('cuda')\n"
   ],
   "id": "3922ccb9aa16dd43",
   "outputs": [],
   "execution_count": 5
  },
  {
   "metadata": {
    "ExecuteTime": {
     "end_time": "2024-05-20T02:51:51.003234Z",
     "start_time": "2024-05-20T02:51:50.787229Z"
    }
   },
   "cell_type": "code",
   "source": [
    "model_dict = torch.load('saves/V1-Final/model_epoch_10.pth')\n",
    "model_dict.keys()"
   ],
   "id": "551f16b4fb89638e",
   "outputs": [
    {
     "data": {
      "text/plain": [
       "dict_keys(['epoch', 'model_state_dict', 'optimizer_state_dict', 'loss', 'testing_loss'])"
      ]
     },
     "execution_count": 6,
     "metadata": {},
     "output_type": "execute_result"
    }
   ],
   "execution_count": 6
  },
  {
   "metadata": {
    "ExecuteTime": {
     "end_time": "2024-05-20T02:51:51.033237Z",
     "start_time": "2024-05-20T02:51:51.004264Z"
    }
   },
   "cell_type": "code",
   "source": [
    "vision_model.load_state_dict(model_dict['model_state_dict'])\n",
    "vision_model.eval();"
   ],
   "id": "9a6e0e6f995fba46",
   "outputs": [],
   "execution_count": 7
  },
  {
   "metadata": {
    "ExecuteTime": {
     "end_time": "2024-05-20T02:51:52.238587Z",
     "start_time": "2024-05-20T02:51:52.191942Z"
    }
   },
   "cell_type": "code",
   "source": "sample = next(iter(dataset))",
   "id": "60d2ef397f4a3c41",
   "outputs": [],
   "execution_count": 8
  },
  {
   "metadata": {
    "ExecuteTime": {
     "end_time": "2024-05-20T02:51:52.316552Z",
     "start_time": "2024-05-20T02:51:52.239552Z"
    }
   },
   "cell_type": "code",
   "source": [
    "with torch.no_grad():\n",
    "    probs = vision_model(sample[0])"
   ],
   "id": "a6c1e2910348ab6d",
   "outputs": [],
   "execution_count": 9
  },
  {
   "metadata": {
    "ExecuteTime": {
     "end_time": "2024-05-20T02:51:52.332551Z",
     "start_time": "2024-05-20T02:51:52.318552Z"
    }
   },
   "cell_type": "code",
   "source": [
    "probs = sigmoid(probs)\n",
    "probs"
   ],
   "id": "54e3c1cd4dd9c7c2",
   "outputs": [
    {
     "data": {
      "text/plain": [
       "tensor([[0.3272, 0.3556, 0.3311, 0.3283, 0.3404, 0.1802, 0.2589, 0.4617, 0.3035,\n",
       "         0.3422, 0.1998, 0.2937, 0.2229, 0.1676, 0.1957, 0.2249, 0.2787, 0.2108,\n",
       "         0.1892, 0.2136, 0.3826, 0.2934, 0.1780, 0.2088, 0.1298, 0.2228, 0.2866,\n",
       "         0.1773, 0.2132]], device='cuda:0')"
      ]
     },
     "execution_count": 10,
     "metadata": {},
     "output_type": "execute_result"
    }
   ],
   "execution_count": 10
  },
  {
   "metadata": {
    "ExecuteTime": {
     "end_time": "2024-05-20T02:51:52.348551Z",
     "start_time": "2024-05-20T02:51:52.333553Z"
    }
   },
   "cell_type": "code",
   "source": "sample[1]",
   "id": "20beeb01a602b711",
   "outputs": [
    {
     "data": {
      "text/plain": [
       "tensor([[0., 0., 0., 1., 0., 0., 1., 0., 0., 0., 0., 0., 0., 0., 0., 0., 0., 0.,\n",
       "         0., 0., 0., 0., 0., 0., 0., 0., 0., 0., 0.]], device='cuda:0')"
      ]
     },
     "execution_count": 11,
     "metadata": {},
     "output_type": "execute_result"
    }
   ],
   "execution_count": 11
  },
  {
   "metadata": {
    "ExecuteTime": {
     "end_time": "2024-05-20T02:51:53.406098Z",
     "start_time": "2024-05-20T02:51:53.391099Z"
    }
   },
   "cell_type": "code",
   "source": "util.calculate_precession(probs, sample[1])",
   "id": "5634a4e68c7284ec",
   "outputs": [
    {
     "data": {
      "text/plain": [
       "tensor([-1.5000])"
      ]
     },
     "execution_count": 12,
     "metadata": {},
     "output_type": "execute_result"
    }
   ],
   "execution_count": 12
  },
  {
   "metadata": {
    "ExecuteTime": {
     "end_time": "2024-05-20T02:51:53.452135Z",
     "start_time": "2024-05-20T02:51:53.407099Z"
    }
   },
   "cell_type": "code",
   "source": "util.to_classes(sample[1])",
   "id": "88b4e383d82a0fbc",
   "outputs": [
    {
     "data": {
      "text/plain": [
       "(['Adult', 'Mature'], [1.0, 1.0])"
      ]
     },
     "execution_count": 13,
     "metadata": {},
     "output_type": "execute_result"
    }
   ],
   "execution_count": 13
  },
  {
   "metadata": {
    "ExecuteTime": {
     "end_time": "2024-05-20T02:51:54.490222Z",
     "start_time": "2024-05-20T02:51:54.475219Z"
    }
   },
   "cell_type": "code",
   "source": "util.pick_top(probs, 2, prettify=True)",
   "id": "e24045f240ae7e26",
   "outputs": [
    {
     "data": {
      "text/plain": [
       "(['Drama', 'Wuxia'], [0.4616779088973999, 0.3825852870941162])"
      ]
     },
     "execution_count": 14,
     "metadata": {},
     "output_type": "execute_result"
    }
   ],
   "execution_count": 14
  }
 ],
 "metadata": {
  "kernelspec": {
   "display_name": "mtest-env",
   "language": "python",
   "name": "mtest-env"
  },
  "language_info": {
   "codemirror_mode": {
    "name": "ipython",
    "version": 2
   },
   "file_extension": ".py",
   "mimetype": "text/x-python",
   "name": "python",
   "nbconvert_exporter": "python",
   "pygments_lexer": "ipython2",
   "version": "2.7.6"
  }
 },
 "nbformat": 4,
 "nbformat_minor": 5
}
