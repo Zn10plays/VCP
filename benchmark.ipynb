{
 "cells": [
  {
   "metadata": {
    "ExecuteTime": {
     "end_time": "2024-05-25T22:44:26.424387Z",
     "start_time": "2024-05-25T22:44:26.411388Z"
    }
   },
   "cell_type": "code",
   "source": [
    "import warnings\n",
    "warnings.filterwarnings('ignore')"
   ],
   "id": "9a5b75b906640c7e",
   "outputs": [],
   "execution_count": 2
  },
  {
   "cell_type": "code",
   "id": "initial_id",
   "metadata": {
    "collapsed": true,
    "ExecuteTime": {
     "end_time": "2024-05-25T22:44:37.942515Z",
     "start_time": "2024-05-25T22:44:26.705063Z"
    }
   },
   "source": [
    "import torch\n",
    "import numpy as np\n",
    "import pandas as pd\n",
    "from vit_pytorch import ViT\n",
    "from dataloader import testing_dataset\n",
    "from util import util\n",
    "from torch.nn.functional import sigmoid\n",
    "from torch import nn\n",
    "from architecture import ViT\n",
    "import yaml\n",
    "import torch.nn.functional as F\n",
    "from vit_pytorch import SimpleViT\n",
    "import pandas as pd\n",
    "from torch.utils.data import Dataset, DataLoader"
   ],
   "outputs": [],
   "execution_count": 3
  },
  {
   "metadata": {
    "ExecuteTime": {
     "end_time": "2024-05-25T22:44:37.958391Z",
     "start_time": "2024-05-25T22:44:37.944388Z"
    }
   },
   "cell_type": "code",
   "source": "torch.__version__",
   "id": "3ae42882af1209c1",
   "outputs": [
    {
     "data": {
      "text/plain": [
       "'2.3.0+cu121'"
      ]
     },
     "execution_count": 4,
     "metadata": {},
     "output_type": "execute_result"
    }
   ],
   "execution_count": 4
  },
  {
   "metadata": {
    "ExecuteTime": {
     "end_time": "2024-05-25T22:44:37.974395Z",
     "start_time": "2024-05-25T22:44:37.959388Z"
    }
   },
   "cell_type": "code",
   "source": "torch.cuda.is_available()",
   "id": "cf1d3cb88464148e",
   "outputs": [
    {
     "data": {
      "text/plain": [
       "True"
      ]
     },
     "execution_count": 5,
     "metadata": {},
     "output_type": "execute_result"
    }
   ],
   "execution_count": 5
  },
  {
   "metadata": {
    "ExecuteTime": {
     "end_time": "2024-05-25T22:44:47.719019Z",
     "start_time": "2024-05-25T22:44:37.976389Z"
    }
   },
   "cell_type": "code",
   "source": [
    "from diffusers import AutoencoderKL\n",
    "\n",
    "url = \"https://huggingface.co/stabilityai/sd-vae-ft-mse-original/blob/main/vae-ft-mse-840000-ema-pruned.safetensors\"  # can also be a local file\n",
    "model = AutoencoderKL.from_single_file(url, cache_dir='/models/vae')"
   ],
   "id": "53fc4683215dad59",
   "outputs": [],
   "execution_count": 6
  },
  {
   "metadata": {
    "ExecuteTime": {
     "end_time": "2024-05-26T01:51:28.039846Z",
     "start_time": "2024-05-26T01:51:25.746889Z"
    }
   },
   "cell_type": "code",
   "source": "latent = model.encode(torch.randn(10,3,128,128))",
   "id": "39dc6dec9de3b60a",
   "outputs": [],
   "execution_count": 17
  },
  {
   "metadata": {
    "ExecuteTime": {
     "end_time": "2024-05-26T01:51:31.723026Z",
     "start_time": "2024-05-26T01:51:31.701908Z"
    }
   },
   "cell_type": "code",
   "source": "latent.latent_dist.sample().shape",
   "id": "eaf7ce1ed7658b26",
   "outputs": [
    {
     "data": {
      "text/plain": [
       "torch.Size([10, 4, 16, 16])"
      ]
     },
     "execution_count": 19,
     "metadata": {},
     "output_type": "execute_result"
    }
   ],
   "execution_count": 19
  },
  {
   "metadata": {},
   "cell_type": "code",
   "outputs": [],
   "execution_count": null,
   "source": "",
   "id": "425cfa1244d0e951"
  }
 ],
 "metadata": {
  "kernelspec": {
   "display_name": "learn_env",
   "language": "python",
   "name": "learn_env"
  },
  "language_info": {
   "codemirror_mode": {
    "name": "ipython",
    "version": 2
   },
   "file_extension": ".py",
   "mimetype": "text/x-python",
   "name": "python",
   "nbconvert_exporter": "python",
   "pygments_lexer": "ipython2",
   "version": "2.7.6"
  }
 },
 "nbformat": 4,
 "nbformat_minor": 5
}
