{
 "cells": [
  {
   "cell_type": "code",
   "id": "initial_id",
   "metadata": {
    "collapsed": true,
    "ExecuteTime": {
     "end_time": "2024-05-30T01:17:11.599090Z",
     "start_time": "2024-05-30T01:16:54.929821Z"
    }
   },
   "source": [
    "from architecture import pipe\n",
    "from PIL import Image\n",
    "from dataloader import testing_dataset\n",
    "from util import util\n",
    "from torch.utils.data import DataLoader\n",
    "import torch\n",
    "from torch.nn import BCELoss"
   ],
   "outputs": [
    {
     "name": "stderr",
     "output_type": "stream",
     "text": [
      "D:\\ml\\mtest\\learn_env\\lib\\site-packages\\diffusers\\utils\\outputs.py:63: UserWarning: torch.utils._pytree._register_pytree_node is deprecated. Please use torch.utils._pytree.register_pytree_node instead.\n",
      "  torch.utils._pytree._register_pytree_node(\n",
      "D:\\ml\\mtest\\learn_env\\lib\\site-packages\\diffusers\\utils\\outputs.py:63: UserWarning: torch.utils._pytree._register_pytree_node is deprecated. Please use torch.utils._pytree.register_pytree_node instead.\n",
      "  torch.utils._pytree._register_pytree_node(\n",
      "D:\\ml\\mtest\\learn_env\\lib\\site-packages\\huggingface_hub\\file_download.py:1132: FutureWarning: `resume_download` is deprecated and will be removed in version 1.0.0. Downloads always resume when possible. If you want to force a new download, use `force_download=True`.\n",
      "  warnings.warn(\n"
     ]
    }
   ],
   "execution_count": 1
  },
  {
   "metadata": {
    "ExecuteTime": {
     "end_time": "2024-05-30T01:17:11.676225Z",
     "start_time": "2024-05-30T01:17:11.600100Z"
    }
   },
   "cell_type": "code",
   "source": "state = torch.load('./saves/exp_5/model_epoch_3.pth')",
   "id": "c9af1e21ddfad2cc",
   "outputs": [],
   "execution_count": 2
  },
  {
   "metadata": {
    "ExecuteTime": {
     "end_time": "2024-05-30T01:17:11.691748Z",
     "start_time": "2024-05-30T01:17:11.678785Z"
    }
   },
   "cell_type": "code",
   "source": [
    "pipe.model.load_state_dict(state['model_state_dict'])\n",
    "pipe.model = pipe.model.eval()"
   ],
   "id": "28a747c44ee900d4",
   "outputs": [],
   "execution_count": 3
  },
  {
   "metadata": {
    "ExecuteTime": {
     "end_time": "2024-05-30T01:17:11.707854Z",
     "start_time": "2024-05-30T01:17:11.692772Z"
    }
   },
   "cell_type": "code",
   "source": "dataset = DataLoader(testing_dataset, shuffle=True)",
   "id": "855b4fc7db34997e",
   "outputs": [],
   "execution_count": 4
  },
  {
   "metadata": {
    "ExecuteTime": {
     "end_time": "2024-05-30T01:17:11.785868Z",
     "start_time": "2024-05-30T01:17:11.709749Z"
    }
   },
   "cell_type": "code",
   "source": "sample = next(iter(dataset))",
   "id": "deb19936a12b621e",
   "outputs": [],
   "execution_count": 5
  },
  {
   "metadata": {
    "ExecuteTime": {
     "end_time": "2024-05-30T01:17:11.801779Z",
     "start_time": "2024-05-30T01:17:11.786781Z"
    }
   },
   "cell_type": "code",
   "source": "# util.to_pil(sample[0][0])",
   "id": "e7d6317874bd6c26",
   "outputs": [],
   "execution_count": 6
  },
  {
   "metadata": {
    "ExecuteTime": {
     "end_time": "2024-05-30T01:17:12.082825Z",
     "start_time": "2024-05-30T01:17:11.802749Z"
    }
   },
   "cell_type": "code",
   "source": [
    "print(sample[1])\n",
    "util.to_classes(sample[1])"
   ],
   "id": "e6ca84f722e98537",
   "outputs": [
    {
     "name": "stdout",
     "output_type": "stream",
     "text": [
      "tensor([[1., 0., 1., 0., 0., 0., 0., 0., 0., 0., 0., 0., 0., 0., 0., 0., 0., 1.,\n",
      "         0., 0., 0., 0., 0., 0., 0., 1.]], device='cuda:0')\n"
     ]
    },
    {
     "data": {
      "text/plain": [
       "(['adventure', 'action', 'seinen', 'wuxia'], [1.0, 1.0, 1.0, 1.0])"
      ]
     },
     "execution_count": 7,
     "metadata": {},
     "output_type": "execute_result"
    }
   ],
   "execution_count": 7
  },
  {
   "metadata": {
    "ExecuteTime": {
     "end_time": "2024-05-30T01:17:13.324368Z",
     "start_time": "2024-05-30T01:17:12.083440Z"
    }
   },
   "cell_type": "code",
   "source": [
    "res = pipe.pipe(sample[0])\n",
    "res"
   ],
   "id": "a7fda29abf5df205",
   "outputs": [
    {
     "name": "stderr",
     "output_type": "stream",
     "text": [
      "D:\\ml\\mtest\\learn_env\\lib\\site-packages\\diffusers\\models\\attention_processor.py:1259: UserWarning: 1Torch was not compiled with flash attention. (Triggered internally at ..\\aten\\src\\ATen\\native\\transformers\\cuda\\sdp_utils.cpp:455.)\n",
      "  hidden_states = F.scaled_dot_product_attention(\n"
     ]
    },
    {
     "data": {
      "text/plain": [
       "tensor([[0.6626, 0.4890, 0.5356, 0.3020, 0.6377, 0.6147, 0.4194, 0.2715, 0.4260,\n",
       "         0.4480, 0.3789, 0.6431, 0.2773, 0.5293, 0.4429, 0.3345, 0.4270, 0.4983,\n",
       "         0.4988, 0.4507, 0.3999, 0.2583, 0.5405, 0.4619, 0.3015, 0.4531]],\n",
       "       device='cuda:0', dtype=torch.float16, grad_fn=<SigmoidBackward0>)"
      ]
     },
     "execution_count": 8,
     "metadata": {},
     "output_type": "execute_result"
    }
   ],
   "execution_count": 8
  },
  {
   "metadata": {
    "ExecuteTime": {
     "end_time": "2024-05-30T01:17:13.340373Z",
     "start_time": "2024-05-30T01:17:13.325368Z"
    }
   },
   "cell_type": "code",
   "source": "util.pick_top(res[0], 6, prettify=True)",
   "id": "67e295af7fcd8645",
   "outputs": [
    {
     "data": {
      "text/plain": [
       "(['action', 'martial arts', 'drama', 'ecchi', 'slice of life', 'adventure'],\n",
       " [0.66259765625,\n",
       "  0.64306640625,\n",
       "  0.6376953125,\n",
       "  0.61474609375,\n",
       "  0.54052734375,\n",
       "  0.53564453125])"
      ]
     },
     "execution_count": 9,
     "metadata": {},
     "output_type": "execute_result"
    }
   ],
   "execution_count": 9
  },
  {
   "metadata": {
    "ExecuteTime": {
     "end_time": "2024-05-30T01:18:14.322817Z",
     "start_time": "2024-05-30T01:18:14.309844Z"
    }
   },
   "cell_type": "code",
   "source": "util.calculate_precession(res, sample[1], cutoff=.65)",
   "id": "74f76248945985de",
   "outputs": [
    {
     "data": {
      "text/plain": [
       "tensor([0.2500])"
      ]
     },
     "execution_count": 21,
     "metadata": {},
     "output_type": "execute_result"
    }
   ],
   "execution_count": 21
  },
  {
   "metadata": {},
   "cell_type": "code",
   "outputs": [],
   "execution_count": null,
   "source": "",
   "id": "82f16a44d4f8a8fa"
  }
 ],
 "metadata": {
  "kernelspec": {
   "display_name": "learn_env",
   "language": "python",
   "name": "learn_env"
  },
  "language_info": {
   "codemirror_mode": {
    "name": "ipython",
    "version": 2
   },
   "file_extension": ".py",
   "mimetype": "text/x-python",
   "name": "python",
   "nbconvert_exporter": "python",
   "pygments_lexer": "ipython2",
   "version": "2.7.6"
  }
 },
 "nbformat": 4,
 "nbformat_minor": 5
}
