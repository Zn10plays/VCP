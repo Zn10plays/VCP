{
 "cells": [
  {
   "cell_type": "code",
   "id": "initial_id",
   "metadata": {
    "collapsed": true,
    "ExecuteTime": {
     "end_time": "2024-06-02T20:25:46.075294Z",
     "start_time": "2024-06-02T20:25:46.067294Z"
    }
   },
   "source": [
    "from architecture import pipe\n",
    "from PIL import Image\n",
    "from dataloader import testing_dataset\n",
    "from util import util\n",
    "from torch.utils.data import DataLoader\n",
    "import torch\n",
    "from architecture import pipe\n",
    "from torch.nn import BCELoss"
   ],
   "outputs": [],
   "execution_count": 75
  },
  {
   "metadata": {
    "ExecuteTime": {
     "end_time": "2024-06-02T20:25:46.671412Z",
     "start_time": "2024-06-02T20:25:46.656295Z"
    }
   },
   "cell_type": "code",
   "source": "'hello'",
   "id": "213b6d23590b9be6",
   "outputs": [
    {
     "data": {
      "text/plain": [
       "'hello'"
      ]
     },
     "execution_count": 76,
     "metadata": {},
     "output_type": "execute_result"
    }
   ],
   "execution_count": 76
  },
  {
   "metadata": {
    "ExecuteTime": {
     "end_time": "2024-06-02T20:25:47.606646Z",
     "start_time": "2024-06-02T20:25:47.101572Z"
    }
   },
   "cell_type": "code",
   "source": "state = torch.load('./saves/exp_6/model_epoch_10.pth')",
   "id": "c9af1e21ddfad2cc",
   "outputs": [],
   "execution_count": 77
  },
  {
   "metadata": {
    "ExecuteTime": {
     "end_time": "2024-06-02T20:25:48.996270Z",
     "start_time": "2024-06-02T20:25:48.481278Z"
    }
   },
   "cell_type": "code",
   "source": [
    "vision_model = pipe.get_model().to('cpu')\n",
    "vision_model.load_state_dict(state['model_state_dict'])"
   ],
   "id": "28a747c44ee900d4",
   "outputs": [
    {
     "data": {
      "text/plain": [
       "<All keys matched successfully>"
      ]
     },
     "execution_count": 78,
     "metadata": {},
     "output_type": "execute_result"
    }
   ],
   "execution_count": 78
  },
  {
   "metadata": {
    "ExecuteTime": {
     "end_time": "2024-06-02T20:25:49.910294Z",
     "start_time": "2024-06-02T20:25:49.898264Z"
    }
   },
   "cell_type": "code",
   "source": "dataset = DataLoader(testing_dataset, shuffle=True)",
   "id": "855b4fc7db34997e",
   "outputs": [],
   "execution_count": 79
  },
  {
   "metadata": {
    "ExecuteTime": {
     "end_time": "2024-06-02T20:26:16.889803Z",
     "start_time": "2024-06-02T20:26:16.870818Z"
    }
   },
   "cell_type": "code",
   "source": "sample = next(iter(dataset))",
   "id": "deb19936a12b621e",
   "outputs": [],
   "execution_count": 85
  },
  {
   "metadata": {
    "ExecuteTime": {
     "end_time": "2024-06-02T20:26:17.206833Z",
     "start_time": "2024-06-02T20:26:17.180870Z"
    }
   },
   "cell_type": "code",
   "source": "util.to_pil(sample[0][0]).resize((64, 96))",
   "id": "e7d6317874bd6c26",
   "outputs": [
    {
     "data": {
      "text/plain": [
       "<PIL.Image.Image image mode=RGB size=64x96>"
      ],
      "image/png": "[encoded data removed]",
      "image/jpeg": "[encoded data removed]"
     },
     "execution_count": 86,
     "metadata": {},
     "output_type": "execute_result"
    }
   ],
   "execution_count": 86
  },
  {
   "metadata": {
    "ExecuteTime": {
     "end_time": "2024-06-02T20:26:18.131034Z",
     "start_time": "2024-06-02T20:26:18.116439Z"
    }
   },
   "cell_type": "code",
   "source": [
    "print(sample[1])\n",
    "util.to_classes(sample[1])"
   ],
   "id": "e6ca84f722e98537",
   "outputs": [
    {
     "name": "stdout",
     "output_type": "stream",
     "text": [
      "tensor([[0., 0., 1., 0., 1., 1., 0., 1., 1., 1., 0., 1., 0., 0.]])\n"
     ]
    },
    {
     "data": {
      "text/plain": [
       "(['mature', 'shounen', 'adult', 'harem', 'adventure', 'action', 'comedy'],\n",
       " [1.0, 1.0, 1.0, 1.0, 1.0, 1.0, 1.0])"
      ]
     },
     "execution_count": 87,
     "metadata": {},
     "output_type": "execute_result"
    }
   ],
   "execution_count": 87
  },
  {
   "metadata": {
    "ExecuteTime": {
     "end_time": "2024-06-02T20:25:54.619438Z",
     "start_time": "2024-06-02T20:25:54.552453Z"
    }
   },
   "cell_type": "code",
   "source": "res = vision_model(sample[0]).sigmoid()",
   "id": "a7fda29abf5df205",
   "outputs": [],
   "execution_count": 83
  },
  {
   "metadata": {
    "ExecuteTime": {
     "end_time": "2024-06-02T20:25:55.307565Z",
     "start_time": "2024-06-02T20:25:55.299594Z"
    }
   },
   "cell_type": "code",
   "source": "util.pick_top(res[0], 6, prettify=True)",
   "id": "67e295af7fcd8645",
   "outputs": [
    {
     "data": {
      "text/plain": [
       "(['action', 'enmity', 'adventure', 'drama', 'comedy', 'harem'],\n",
       " [0.4812398850917816,\n",
       "  0.3894060552120209,\n",
       "  0.35833242535591125,\n",
       "  0.3078644573688507,\n",
       "  0.2526138424873352,\n",
       "  0.2250789850950241])"
      ]
     },
     "execution_count": 84,
     "metadata": {},
     "output_type": "execute_result"
    }
   ],
   "execution_count": 84
  },
  {
   "metadata": {
    "ExecuteTime": {
     "end_time": "2024-06-02T20:11:37.506934Z",
     "start_time": "2024-06-02T20:11:37.499903Z"
    }
   },
   "cell_type": "code",
   "source": "util.calculate_precession(res, sample[1], cutoff=.45)",
   "id": "74f76248945985de",
   "outputs": [
    {
     "data": {
      "text/plain": [
       "tensor([0.])"
      ]
     },
     "execution_count": 74,
     "metadata": {},
     "output_type": "execute_result"
    }
   ],
   "execution_count": 74
  }
 ],
 "metadata": {
  "kernelspec": {
   "display_name": "learn_env",
   "language": "python",
   "name": "learn_env"
  },
  "language_info": {
   "codemirror_mode": {
    "name": "ipython",
    "version": 2
   },
   "file_extension": ".py",
   "mimetype": "text/x-python",
   "name": "python",
   "nbconvert_exporter": "python",
   "pygments_lexer": "ipython2",
   "version": "2.7.6"
  }
 },
 "nbformat": 4,
 "nbformat_minor": 5
}
