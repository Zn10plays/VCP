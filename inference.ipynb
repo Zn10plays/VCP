{
 "cells": [
  {
   "cell_type": "code",
   "id": "initial_id",
   "metadata": {
    "collapsed": true,
    "ExecuteTime": {
     "end_time": "2024-05-29T01:30:09.815491Z",
     "start_time": "2024-05-29T01:30:00.736962Z"
    }
   },
   "source": [
    "from architecture import pipe\n",
    "from PIL import Image\n",
    "from dataloader import testing_dataset\n",
    "from util import util\n",
    "from torch.utils.data import DataLoader\n",
    "import torch\n",
    "from torch.nn import BCELoss"
   ],
   "outputs": [
    {
     "name": "stderr",
     "output_type": "stream",
     "text": [
      "D:\\ml\\mtest\\learn_env\\lib\\site-packages\\diffusers\\utils\\outputs.py:63: UserWarning: torch.utils._pytree._register_pytree_node is deprecated. Please use torch.utils._pytree.register_pytree_node instead.\n",
      "  torch.utils._pytree._register_pytree_node(\n",
      "D:\\ml\\mtest\\learn_env\\lib\\site-packages\\diffusers\\utils\\outputs.py:63: UserWarning: torch.utils._pytree._register_pytree_node is deprecated. Please use torch.utils._pytree.register_pytree_node instead.\n",
      "  torch.utils._pytree._register_pytree_node(\n",
      "D:\\ml\\mtest\\learn_env\\lib\\site-packages\\huggingface_hub\\file_download.py:1132: FutureWarning: `resume_download` is deprecated and will be removed in version 1.0.0. Downloads always resume when possible. If you want to force a new download, use `force_download=True`.\n",
      "  warnings.warn(\n"
     ]
    }
   ],
   "execution_count": 1
  },
  {
   "metadata": {
    "ExecuteTime": {
     "end_time": "2024-05-29T01:30:09.877410Z",
     "start_time": "2024-05-29T01:30:09.817412Z"
    }
   },
   "cell_type": "code",
   "source": "state = torch.load('./saves/exp_3/model_epoch_2.pth')",
   "id": "c9af1e21ddfad2cc",
   "outputs": [],
   "execution_count": 2
  },
  {
   "metadata": {
    "ExecuteTime": {
     "end_time": "2024-05-29T01:30:09.893531Z",
     "start_time": "2024-05-29T01:30:09.878439Z"
    }
   },
   "cell_type": "code",
   "source": [
    "pipe.model.load_state_dict(state['model_state_dict'])\n",
    "pipe.model = pipe.model.eval()"
   ],
   "id": "28a747c44ee900d4",
   "outputs": [],
   "execution_count": 3
  },
  {
   "metadata": {
    "ExecuteTime": {
     "end_time": "2024-05-29T01:30:09.909528Z",
     "start_time": "2024-05-29T01:30:09.894441Z"
    }
   },
   "cell_type": "code",
   "source": "dataset = DataLoader(testing_dataset, shuffle=True)",
   "id": "855b4fc7db34997e",
   "outputs": [],
   "execution_count": 4
  },
  {
   "metadata": {
    "ExecuteTime": {
     "end_time": "2024-05-29T01:57:22.645998Z",
     "start_time": "2024-05-29T01:57:22.587512Z"
    }
   },
   "cell_type": "code",
   "source": "sample = next(iter(dataset))",
   "id": "deb19936a12b621e",
   "outputs": [],
   "execution_count": 31
  },
  {
   "metadata": {
    "ExecuteTime": {
     "end_time": "2024-05-29T01:57:23.360139Z",
     "start_time": "2024-05-29T01:57:23.346145Z"
    }
   },
   "cell_type": "code",
   "source": "# util.to_pil(sample[0][0])",
   "id": "e7d6317874bd6c26",
   "outputs": [],
   "execution_count": 32
  },
  {
   "metadata": {
    "ExecuteTime": {
     "end_time": "2024-05-29T01:57:23.376139Z",
     "start_time": "2024-05-29T01:57:23.361114Z"
    }
   },
   "cell_type": "code",
   "source": [
    "print(sample[1])\n",
    "util.to_classes(sample[1])"
   ],
   "id": "e6ca84f722e98537",
   "outputs": [
    {
     "name": "stdout",
     "output_type": "stream",
     "text": [
      "tensor([[0., 0., 0., 0., 0., 0., 1., 0., 0., 0., 0., 0., 0., 0., 1., 0., 0., 0.,\n",
      "         0., 0., 0., 0., 0., 0., 0., 0.]], device='cuda:0')\n"
     ]
    },
    {
     "data": {
      "text/plain": [
       "(['romance', 'fantasy'], [1.0, 1.0])"
      ]
     },
     "execution_count": 33,
     "metadata": {},
     "output_type": "execute_result"
    }
   ],
   "execution_count": 33
  },
  {
   "metadata": {
    "ExecuteTime": {
     "end_time": "2024-05-29T01:57:24.415771Z",
     "start_time": "2024-05-29T01:57:24.102561Z"
    }
   },
   "cell_type": "code",
   "source": [
    "res = pipe.pipe(sample[0])\n",
    "res"
   ],
   "id": "a7fda29abf5df205",
   "outputs": [
    {
     "data": {
      "text/plain": [
       "tensor([[0.6548, 0.4761, 0.5176, 0.3052, 0.6528, 0.6118, 0.4143, 0.2810, 0.4436,\n",
       "         0.5586, 0.3530, 0.6499, 0.2798, 0.5317, 0.4556, 0.3418, 0.4390, 0.5181,\n",
       "         0.5181, 0.4255, 0.4187, 0.2445, 0.5381, 0.4944, 0.3164, 0.4609]],\n",
       "       device='cuda:0', dtype=torch.float16, grad_fn=<SigmoidBackward0>)"
      ]
     },
     "execution_count": 34,
     "metadata": {},
     "output_type": "execute_result"
    }
   ],
   "execution_count": 34
  },
  {
   "metadata": {
    "ExecuteTime": {
     "end_time": "2024-05-29T01:57:24.431772Z",
     "start_time": "2024-05-29T01:57:24.416741Z"
    }
   },
   "cell_type": "code",
   "source": "util.pick_top(res[0], 6, prettify=True)",
   "id": "67e295af7fcd8645",
   "outputs": [
    {
     "data": {
      "text/plain": [
       "(['action', 'drama', 'martial arts', 'ecchi', 'horror', 'slice of life'],\n",
       " [0.65478515625,\n",
       "  0.65283203125,\n",
       "  0.64990234375,\n",
       "  0.61181640625,\n",
       "  0.55859375,\n",
       "  0.5380859375])"
      ]
     },
     "execution_count": 35,
     "metadata": {},
     "output_type": "execute_result"
    }
   ],
   "execution_count": 35
  },
  {
   "metadata": {
    "ExecuteTime": {
     "end_time": "2024-05-29T01:57:36.337278Z",
     "start_time": "2024-05-29T01:57:36.329281Z"
    }
   },
   "cell_type": "code",
   "source": "util.calculate_precession(res, sample[1], cutoff=.6)",
   "id": "74f76248945985de",
   "outputs": [
    {
     "data": {
      "text/plain": [
       "tensor([-2.])"
      ]
     },
     "execution_count": 40,
     "metadata": {},
     "output_type": "execute_result"
    }
   ],
   "execution_count": 40
  },
  {
   "metadata": {},
   "cell_type": "code",
   "outputs": [],
   "execution_count": null,
   "source": "",
   "id": "82f16a44d4f8a8fa"
  }
 ],
 "metadata": {
  "kernelspec": {
   "display_name": "learn_env",
   "language": "python",
   "name": "learn_env"
  },
  "language_info": {
   "codemirror_mode": {
    "name": "ipython",
    "version": 2
   },
   "file_extension": ".py",
   "mimetype": "text/x-python",
   "name": "python",
   "nbconvert_exporter": "python",
   "pygments_lexer": "ipython2",
   "version": "2.7.6"
  }
 },
 "nbformat": 4,
 "nbformat_minor": 5
}
