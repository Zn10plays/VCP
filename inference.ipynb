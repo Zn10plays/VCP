{
 "cells": [
  {
   "cell_type": "code",
   "id": "initial_id",
   "metadata": {
    "collapsed": true,
    "ExecuteTime": {
     "end_time": "2024-06-04T21:18:56.551050Z",
     "start_time": "2024-06-04T21:18:56.533015Z"
    }
   },
   "source": [
    "from util import util\n",
    "from dataloader.original import get_dataset\n",
    "from torch.utils.data import DataLoader\n",
    "import torch\n",
    "from architecture import pipe\n",
    "from architecture.LitViT import LitViT\n",
    "from torchvision.transforms.v2 import functional as F"
   ],
   "outputs": [],
   "execution_count": 19
  },
  {
   "metadata": {
    "ExecuteTime": {
     "end_time": "2024-06-04T01:18:24.954996Z",
     "start_time": "2024-06-04T01:18:24.935701Z"
    }
   },
   "cell_type": "code",
   "source": "parser = util.LabelParser()",
   "id": "213b6d23590b9be6",
   "outputs": [],
   "execution_count": 80
  },
  {
   "metadata": {
    "ExecuteTime": {
     "end_time": "2024-06-04T01:18:25.174903Z",
     "start_time": "2024-06-04T01:18:25.093877Z"
    }
   },
   "cell_type": "code",
   "source": "testing_dataset = get_dataset('test', augmentation=False)",
   "id": "95568c68f69a24d3",
   "outputs": [],
   "execution_count": 81
  },
  {
   "metadata": {
    "ExecuteTime": {
     "end_time": "2024-06-04T21:06:08.447263Z",
     "start_time": "2024-06-04T21:06:08.018795Z"
    }
   },
   "cell_type": "code",
   "source": "model = pipe.get_model()",
   "id": "9842d0e28853d107",
   "outputs": [],
   "execution_count": 2
  },
  {
   "metadata": {
    "ExecuteTime": {
     "end_time": "2024-06-04T21:06:10.269303Z",
     "start_time": "2024-06-04T21:06:10.259299Z"
    }
   },
   "cell_type": "code",
   "source": "model",
   "id": "785997b1069f3db6",
   "outputs": [
    {
     "data": {
      "text/plain": [
       "LitViT(\n",
       "  (vit): SimpleViT(\n",
       "    (to_patch_embedding): Sequential(\n",
       "      (0): Rearrange('b c (h p1) (w p2) -> b (h w) (p1 p2 c)', p1=16, p2=16)\n",
       "      (1): LayerNorm((768,), eps=1e-05, elementwise_affine=True)\n",
       "      (2): Linear(in_features=768, out_features=1024, bias=True)\n",
       "      (3): LayerNorm((1024,), eps=1e-05, elementwise_affine=True)\n",
       "    )\n",
       "    (transformer): Transformer(\n",
       "      (norm): LayerNorm((1024,), eps=1e-05, elementwise_affine=True)\n",
       "      (layers): ModuleList(\n",
       "        (0-5): 6 x ModuleList(\n",
       "          (0): Attention(\n",
       "            (norm): LayerNorm((1024,), eps=1e-05, elementwise_affine=True)\n",
       "            (attend): Softmax(dim=-1)\n",
       "            (to_qkv): Linear(in_features=1024, out_features=3072, bias=False)\n",
       "            (to_out): Linear(in_features=1024, out_features=1024, bias=False)\n",
       "          )\n",
       "          (1): FeedForward(\n",
       "            (net): Sequential(\n",
       "              (0): LayerNorm((1024,), eps=1e-05, elementwise_affine=True)\n",
       "              (1): Linear(in_features=1024, out_features=2048, bias=True)\n",
       "              (2): GELU(approximate='none')\n",
       "              (3): Linear(in_features=2048, out_features=1024, bias=True)\n",
       "            )\n",
       "          )\n",
       "        )\n",
       "      )\n",
       "    )\n",
       "    (to_latent): Identity()\n",
       "    (linear_head): Linear(in_features=1024, out_features=33, bias=True)\n",
       "  )\n",
       ")"
      ]
     },
     "execution_count": 3,
     "metadata": {},
     "output_type": "execute_result"
    }
   ],
   "execution_count": 3
  },
  {
   "metadata": {
    "ExecuteTime": {
     "end_time": "2024-06-04T21:07:53.441608Z",
     "start_time": "2024-06-04T21:07:53.434585Z"
    }
   },
   "cell_type": "code",
   "source": [
    "state = torch.load('logs/copy.ckpt')\n",
    "state.keys()"
   ],
   "id": "ad9907efb75dd8f2",
   "outputs": [
    {
     "data": {
      "text/plain": [
       "dict_keys(['epoch', 'global_step', 'pytorch-lightning_version', 'state_dict', 'loops', 'callbacks', 'optimizer_states', 'lr_schedulers'])"
      ]
     },
     "execution_count": 6,
     "metadata": {},
     "output_type": "execute_result"
    }
   ],
   "execution_count": 6
  },
  {
   "metadata": {
    "ExecuteTime": {
     "end_time": "2024-06-04T21:11:37.052569Z",
     "start_time": "2024-06-04T21:11:36.725299Z"
    }
   },
   "cell_type": "code",
   "source": "vit = pipe.get_model()",
   "id": "b89bd0d3496e30a0",
   "outputs": [],
   "execution_count": 14
  },
  {
   "metadata": {
    "ExecuteTime": {
     "end_time": "2024-06-04T21:19:01.319809Z",
     "start_time": "2024-06-04T21:19:00.208900Z"
    }
   },
   "cell_type": "code",
   "source": "vit = LitViT.load_from_checkpoint('./copy.ckpt', vit=model.vit)",
   "id": "4ab602bcfd27d28b",
   "outputs": [],
   "execution_count": 20
  },
  {
   "metadata": {
    "ExecuteTime": {
     "end_time": "2024-06-04T21:19:08.444263Z",
     "start_time": "2024-06-04T21:19:08.430262Z"
    }
   },
   "cell_type": "code",
   "source": "vit",
   "id": "da633e04ae6d2a82",
   "outputs": [
    {
     "data": {
      "text/plain": [
       "LitViT(\n",
       "  (vit): SimpleViT(\n",
       "    (to_patch_embedding): Sequential(\n",
       "      (0): Rearrange('b c (h p1) (w p2) -> b (h w) (p1 p2 c)', p1=16, p2=16)\n",
       "      (1): LayerNorm((768,), eps=1e-05, elementwise_affine=True)\n",
       "      (2): Linear(in_features=768, out_features=1024, bias=True)\n",
       "      (3): LayerNorm((1024,), eps=1e-05, elementwise_affine=True)\n",
       "    )\n",
       "    (transformer): Transformer(\n",
       "      (norm): LayerNorm((1024,), eps=1e-05, elementwise_affine=True)\n",
       "      (layers): ModuleList(\n",
       "        (0-5): 6 x ModuleList(\n",
       "          (0): Attention(\n",
       "            (norm): LayerNorm((1024,), eps=1e-05, elementwise_affine=True)\n",
       "            (attend): Softmax(dim=-1)\n",
       "            (to_qkv): Linear(in_features=1024, out_features=3072, bias=False)\n",
       "            (to_out): Linear(in_features=1024, out_features=1024, bias=False)\n",
       "          )\n",
       "          (1): FeedForward(\n",
       "            (net): Sequential(\n",
       "              (0): LayerNorm((1024,), eps=1e-05, elementwise_affine=True)\n",
       "              (1): Linear(in_features=1024, out_features=2048, bias=True)\n",
       "              (2): GELU(approximate='none')\n",
       "              (3): Linear(in_features=2048, out_features=1024, bias=True)\n",
       "            )\n",
       "          )\n",
       "        )\n",
       "      )\n",
       "    )\n",
       "    (to_latent): Identity()\n",
       "    (linear_head): Linear(in_features=1024, out_features=33, bias=True)\n",
       "  )\n",
       ")"
      ]
     },
     "execution_count": 21,
     "metadata": {},
     "output_type": "execute_result"
    }
   ],
   "execution_count": 21
  }
 ],
 "metadata": {
  "kernelspec": {
   "display_name": "learn_env",
   "language": "python",
   "name": "learn_env"
  },
  "language_info": {
   "codemirror_mode": {
    "name": "ipython",
    "version": 2
   },
   "file_extension": ".py",
   "mimetype": "text/x-python",
   "name": "python",
   "nbconvert_exporter": "python",
   "pygments_lexer": "ipython2",
   "version": "2.7.6"
  }
 },
 "nbformat": 4,
 "nbformat_minor": 5
}
