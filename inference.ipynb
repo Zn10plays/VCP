{
 "cells": [
  {
   "cell_type": "code",
   "id": "initial_id",
   "metadata": {
    "collapsed": true,
    "ExecuteTime": {
     "end_time": "2024-06-02T15:16:43.635427Z",
     "start_time": "2024-06-02T15:16:43.622413Z"
    }
   },
   "source": [
    "from architecture import pipe\n",
    "from PIL import Image\n",
    "from dataloader import testing_dataset\n",
    "from util import util\n",
    "from torch.utils.data import DataLoader\n",
    "from vit_pytorch import SimpleViT\n",
    "import torch\n",
    "from torch.nn import BCELoss"
   ],
   "outputs": [],
   "execution_count": 27
  },
  {
   "metadata": {
    "ExecuteTime": {
     "end_time": "2024-06-02T15:16:44.972585Z",
     "start_time": "2024-06-02T15:16:44.959594Z"
    }
   },
   "cell_type": "code",
   "source": "'hello'",
   "id": "213b6d23590b9be6",
   "outputs": [
    {
     "data": {
      "text/plain": [
       "'hello'"
      ]
     },
     "execution_count": 28,
     "metadata": {},
     "output_type": "execute_result"
    }
   ],
   "execution_count": 28
  },
  {
   "metadata": {
    "ExecuteTime": {
     "end_time": "2024-06-02T15:16:45.241177Z",
     "start_time": "2024-06-02T15:16:44.974595Z"
    }
   },
   "cell_type": "code",
   "source": "state = torch.load('./saves/exp_1/model_epoch_27.pth')",
   "id": "c9af1e21ddfad2cc",
   "outputs": [],
   "execution_count": 29
  },
  {
   "metadata": {
    "ExecuteTime": {
     "end_time": "2024-06-02T15:16:45.431175Z",
     "start_time": "2024-06-02T15:16:45.243174Z"
    }
   },
   "cell_type": "code",
   "source": [
    "vision_model = SimpleViT(\n",
    "    image_size=(384, 256),\n",
    "    patch_size=32,\n",
    "    num_classes=14,\n",
    "    dim=512,\n",
    "    depth=6,\n",
    "    heads=16,\n",
    "    mlp_dim=1024\n",
    ")\n",
    "vision_model.load_state_dict(state['model_state_dict'])"
   ],
   "id": "28a747c44ee900d4",
   "outputs": [
    {
     "data": {
      "text/plain": [
       "<All keys matched successfully>"
      ]
     },
     "execution_count": 30,
     "metadata": {},
     "output_type": "execute_result"
    }
   ],
   "execution_count": 30
  },
  {
   "metadata": {
    "ExecuteTime": {
     "end_time": "2024-06-02T15:16:45.447176Z",
     "start_time": "2024-06-02T15:16:45.432176Z"
    }
   },
   "cell_type": "code",
   "source": "dataset = DataLoader(testing_dataset, shuffle=True)",
   "id": "855b4fc7db34997e",
   "outputs": [],
   "execution_count": 31
  },
  {
   "metadata": {
    "ExecuteTime": {
     "end_time": "2024-06-02T15:26:20.099730Z",
     "start_time": "2024-06-02T15:26:20.072721Z"
    }
   },
   "cell_type": "code",
   "source": "dataset.__getitem__(5)",
   "id": "1d45596a483dfb1b",
   "outputs": [
    {
     "ename": "AttributeError",
     "evalue": "'DataLoader' object has no attribute '__getitem__'",
     "output_type": "error",
     "traceback": [
      "\u001B[1;31m---------------------------------------------------------------------------\u001B[0m",
      "\u001B[1;31mAttributeError\u001B[0m                            Traceback (most recent call last)",
      "Cell \u001B[1;32mIn[45], line 1\u001B[0m\n\u001B[1;32m----> 1\u001B[0m \u001B[43mdataset\u001B[49m\u001B[38;5;241;43m.\u001B[39;49m\u001B[38;5;21;43m__getitem__\u001B[39;49m(\u001B[38;5;241m5\u001B[39m)\n",
      "\u001B[1;31mAttributeError\u001B[0m: 'DataLoader' object has no attribute '__getitem__'"
     ]
    }
   ],
   "execution_count": 45
  },
  {
   "metadata": {
    "ExecuteTime": {
     "end_time": "2024-06-02T15:28:00.007422Z",
     "start_time": "2024-06-02T15:27:59.964916Z"
    }
   },
   "cell_type": "code",
   "source": "sample = next(iter(dataset))",
   "id": "deb19936a12b621e",
   "outputs": [],
   "execution_count": 46
  },
  {
   "metadata": {
    "ExecuteTime": {
     "end_time": "2024-06-02T15:28:01.412421Z",
     "start_time": "2024-06-02T15:28:01.398421Z"
    }
   },
   "cell_type": "code",
   "source": "util.to_pil(sample[0][0]).resize((64, 96))",
   "id": "e7d6317874bd6c26",
   "outputs": [
    {
     "data": {
      "text/plain": [
       "<PIL.Image.Image image mode=RGB size=64x96>"
      ],
      "image/png": "[encoded data removed]",
      "image/jpeg": "[encoded data removed]"
     },
     "execution_count": 47,
     "metadata": {},
     "output_type": "execute_result"
    }
   ],
   "execution_count": 47
  },
  {
   "metadata": {
    "ExecuteTime": {
     "end_time": "2024-06-02T15:28:01.427420Z",
     "start_time": "2024-06-02T15:28:01.415421Z"
    }
   },
   "cell_type": "code",
   "source": [
    "print(sample[1])\n",
    "util.to_classes(sample[1])"
   ],
   "id": "e6ca84f722e98537",
   "outputs": [
    {
     "name": "stdout",
     "output_type": "stream",
     "text": [
      "tensor([[0., 0., 0., 1., 1., 0., 0., 1., 0., 0., 0., 1., 1., 1.]])\n"
     ]
    },
    {
     "data": {
      "text/plain": [
       "(['school life', 'shounen', 'harem', 'comedy', 'romance', 'fantasy'],\n",
       " [1.0, 1.0, 1.0, 1.0, 1.0, 1.0])"
      ]
     },
     "execution_count": 48,
     "metadata": {},
     "output_type": "execute_result"
    }
   ],
   "execution_count": 48
  },
  {
   "metadata": {
    "ExecuteTime": {
     "end_time": "2024-06-02T15:28:04.103655Z",
     "start_time": "2024-06-02T15:28:04.053657Z"
    }
   },
   "cell_type": "code",
   "source": [
    "res = vision_model(sample[0]).sigmoid()\n",
    "res"
   ],
   "id": "a7fda29abf5df205",
   "outputs": [
    {
     "data": {
      "text/plain": [
       "tensor([[0.0455, 0.2469, 0.1694, 0.0866, 0.2525, 0.0903, 0.1128, 0.3644, 0.6201,\n",
       "         0.7247, 0.3193, 0.2967, 0.3684, 0.9027]], grad_fn=<SigmoidBackward0>)"
      ]
     },
     "execution_count": 49,
     "metadata": {},
     "output_type": "execute_result"
    }
   ],
   "execution_count": 49
  },
  {
   "metadata": {
    "ExecuteTime": {
     "end_time": "2024-06-02T15:28:05.461931Z",
     "start_time": "2024-06-02T15:28:05.447840Z"
    }
   },
   "cell_type": "code",
   "source": "util.pick_top(res[0], 6, prettify=True)",
   "id": "67e295af7fcd8645",
   "outputs": [
    {
     "data": {
      "text/plain": [
       "(['fantasy', 'action', 'adventure', 'romance', 'harem', 'drama'],\n",
       " [0.9027473330497742,\n",
       "  0.724653422832489,\n",
       "  0.6201335787773132,\n",
       "  0.36842477321624756,\n",
       "  0.3643774688243866,\n",
       "  0.3192892372608185])"
      ]
     },
     "execution_count": 50,
     "metadata": {},
     "output_type": "execute_result"
    }
   ],
   "execution_count": 50
  },
  {
   "metadata": {
    "ExecuteTime": {
     "end_time": "2024-06-02T15:28:06.529453Z",
     "start_time": "2024-06-02T15:28:06.514424Z"
    }
   },
   "cell_type": "code",
   "source": "util.calculate_precession(res, sample[1], cutoff=.45)",
   "id": "74f76248945985de",
   "outputs": [
    {
     "data": {
      "text/plain": [
       "tensor([-0.1667])"
      ]
     },
     "execution_count": 51,
     "metadata": {},
     "output_type": "execute_result"
    }
   ],
   "execution_count": 51
  },
  {
   "metadata": {},
   "cell_type": "code",
   "outputs": [],
   "execution_count": null,
   "source": "",
   "id": "57943192300220b4"
  }
 ],
 "metadata": {
  "kernelspec": {
   "display_name": "learn_env",
   "language": "python",
   "name": "learn_env"
  },
  "language_info": {
   "codemirror_mode": {
    "name": "ipython",
    "version": 2
   },
   "file_extension": ".py",
   "mimetype": "text/x-python",
   "name": "python",
   "nbconvert_exporter": "python",
   "pygments_lexer": "ipython2",
   "version": "2.7.6"
  }
 },
 "nbformat": 4,
 "nbformat_minor": 5
}
