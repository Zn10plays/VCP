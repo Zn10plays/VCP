{
 "cells": [
  {
   "cell_type": "code",
   "id": "initial_id",
   "metadata": {
    "collapsed": true,
    "ExecuteTime": {
     "end_time": "2024-06-02T20:27:41.971551Z",
     "start_time": "2024-06-02T20:27:37.676495Z"
    }
   },
   "source": [
    "\n",
    "from dataloader.dataloader import testing_dataset\n",
    "from util import sus\n",
    "from torch.utils.data import DataLoader\n",
    "import torch\n",
    "from architecture import pipe"
   ],
   "outputs": [],
   "execution_count": 1
  },
  {
   "metadata": {
    "ExecuteTime": {
     "end_time": "2024-06-02T20:27:41.987555Z",
     "start_time": "2024-06-02T20:27:41.972520Z"
    }
   },
   "cell_type": "code",
   "source": "'hello'",
   "id": "213b6d23590b9be6",
   "outputs": [
    {
     "data": {
      "text/plain": [
       "'hello'"
      ]
     },
     "execution_count": 2,
     "metadata": {},
     "output_type": "execute_result"
    }
   ],
   "execution_count": 2
  },
  {
   "metadata": {
    "ExecuteTime": {
     "end_time": "2024-06-02T20:27:42.460569Z",
     "start_time": "2024-06-02T20:27:41.988492Z"
    }
   },
   "cell_type": "code",
   "source": "state = torch.load('./saves/exp_6/model_epoch_10.pth')",
   "id": "c9af1e21ddfad2cc",
   "outputs": [],
   "execution_count": 3
  },
  {
   "metadata": {
    "ExecuteTime": {
     "end_time": "2024-06-02T20:27:42.917514Z",
     "start_time": "2024-06-02T20:27:42.464496Z"
    }
   },
   "cell_type": "code",
   "source": [
    "vision_model = pipe.get_model().to('cpu')\n",
    "vision_model.load_state_dict(state['model_state_dict'])"
   ],
   "id": "28a747c44ee900d4",
   "outputs": [
    {
     "data": {
      "text/plain": [
       "<All keys matched successfully>"
      ]
     },
     "execution_count": 4,
     "metadata": {},
     "output_type": "execute_result"
    }
   ],
   "execution_count": 4
  },
  {
   "metadata": {
    "ExecuteTime": {
     "end_time": "2024-06-02T20:27:42.932491Z",
     "start_time": "2024-06-02T20:27:42.919522Z"
    }
   },
   "cell_type": "code",
   "source": "dataset = DataLoader(testing_dataset, shuffle=True)",
   "id": "855b4fc7db34997e",
   "outputs": [],
   "execution_count": 5
  },
  {
   "metadata": {
    "ExecuteTime": {
     "end_time": "2024-06-02T20:27:42.979492Z",
     "start_time": "2024-06-02T20:27:42.933493Z"
    }
   },
   "cell_type": "code",
   "source": "sample = next(iter(dataset))",
   "id": "deb19936a12b621e",
   "outputs": [],
   "execution_count": 6
  },
  {
   "metadata": {
    "ExecuteTime": {
     "end_time": "2024-06-02T20:27:42.995493Z",
     "start_time": "2024-06-02T20:27:42.981489Z"
    }
   },
   "cell_type": "code",
   "source": "util.to_pil(sample[0][0]).resize((64, 96))",
   "id": "e7d6317874bd6c26",
   "outputs": [
    {
     "data": {
      "text/plain": [
       "<PIL.Image.Image image mode=RGB size=64x96>"
      ],
      "image/png": "[encoded data removed]",
      "image/jpeg": "[encoded data removed]"
     },
     "execution_count": 7,
     "metadata": {},
     "output_type": "execute_result"
    }
   ],
   "execution_count": 7
  },
  {
   "metadata": {
    "ExecuteTime": {
     "end_time": "2024-06-02T20:27:43.011491Z",
     "start_time": "2024-06-02T20:27:42.996491Z"
    }
   },
   "cell_type": "code",
   "source": [
    "print(sample[1])\n",
    "util.to_classes(sample[1])"
   ],
   "id": "e6ca84f722e98537",
   "outputs": [
    {
     "name": "stdout",
     "output_type": "stream",
     "text": [
      "tensor([[0., 1., 0., 0., 0., 0., 0., 0., 0., 0., 1., 0., 0., 0.]])\n"
     ]
    },
    {
     "data": {
      "text/plain": [
       "(['supernatural', 'drama'], [1.0, 1.0])"
      ]
     },
     "execution_count": 8,
     "metadata": {},
     "output_type": "execute_result"
    }
   ],
   "execution_count": 8
  },
  {
   "metadata": {
    "ExecuteTime": {
     "end_time": "2024-06-02T20:27:43.088490Z",
     "start_time": "2024-06-02T20:27:43.012490Z"
    }
   },
   "cell_type": "code",
   "source": "res = vision_model(sample[0]).sigmoid()",
   "id": "a7fda29abf5df205",
   "outputs": [],
   "execution_count": 9
  },
  {
   "metadata": {
    "ExecuteTime": {
     "end_time": "2024-06-02T20:27:43.103491Z",
     "start_time": "2024-06-02T20:27:43.090490Z"
    }
   },
   "cell_type": "code",
   "source": "util.pick_top(res[0], 6, prettify=True)",
   "id": "67e295af7fcd8645",
   "outputs": [
    {
     "data": {
      "text/plain": [
       "(['action', 'enmity', 'drama', 'adventure', 'comedy', 'harem'],\n",
       " [0.41376349329948425,\n",
       "  0.3328482210636139,\n",
       "  0.3105984926223755,\n",
       "  0.3091227412223816,\n",
       "  0.3007092773914337,\n",
       "  0.2091628909111023])"
      ]
     },
     "execution_count": 10,
     "metadata": {},
     "output_type": "execute_result"
    }
   ],
   "execution_count": 10
  },
  {
   "metadata": {
    "ExecuteTime": {
     "end_time": "2024-06-02T20:27:43.119490Z",
     "start_time": "2024-06-02T20:27:43.105491Z"
    }
   },
   "cell_type": "code",
   "source": "util.calculate_precession(res, sample[1], cutoff=.45)",
   "id": "74f76248945985de",
   "outputs": [
    {
     "data": {
      "text/plain": [
       "tensor([0.])"
      ]
     },
     "execution_count": 11,
     "metadata": {},
     "output_type": "execute_result"
    }
   ],
   "execution_count": 11
  },
  {
   "metadata": {
    "ExecuteTime": {
     "end_time": "2024-06-02T20:27:56.297763Z",
     "start_time": "2024-06-02T20:27:56.291796Z"
    }
   },
   "cell_type": "code",
   "source": "sample[2]",
   "id": "338781b4317a5a61",
   "outputs": [
    {
     "data": {
      "text/plain": [
       "tensor([538])"
      ]
     },
     "execution_count": 14,
     "metadata": {},
     "output_type": "execute_result"
    }
   ],
   "execution_count": 14
  }
 ],
 "metadata": {
  "kernelspec": {
   "display_name": "learn_env",
   "language": "python",
   "name": "learn_env"
  },
  "language_info": {
   "codemirror_mode": {
    "name": "ipython",
    "version": 2
   },
   "file_extension": ".py",
   "mimetype": "text/x-python",
   "name": "python",
   "nbconvert_exporter": "python",
   "pygments_lexer": "ipython2",
   "version": "2.7.6"
  }
 },
 "nbformat": 4,
 "nbformat_minor": 5
}
