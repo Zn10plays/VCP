{
 "cells": [
  {
   "cell_type": "code",
   "id": "initial_id",
   "metadata": {
    "collapsed": true,
    "ExecuteTime": {
     "end_time": "2024-05-08T21:40:35.069878Z",
     "start_time": "2024-05-08T21:40:35.054850Z"
    }
   },
   "source": [
    "from dataloader import training_dataset, testing_dataset\n",
    "import torch\n",
    "from torch.utils.data import DataLoader\n",
    "from vit_pytorch import ViT\n",
    "from architecture import baseline\n",
    "from tqdm import tqdm\n",
    "import os"
   ],
   "outputs": [],
   "execution_count": 12
  },
  {
   "metadata": {
    "ExecuteTime": {
     "end_time": "2024-05-08T21:41:55.104279Z",
     "start_time": "2024-05-08T21:41:55.100310Z"
    }
   },
   "cell_type": "code",
   "source": "device = 'cuda' if torch.cuda.is_available() else 'cpu'",
   "id": "aef967b8f641f3c5",
   "outputs": [],
   "execution_count": 17
  },
  {
   "metadata": {
    "ExecuteTime": {
     "end_time": "2024-05-08T21:38:46.916581Z",
     "start_time": "2024-05-08T21:38:46.899584Z"
    }
   },
   "cell_type": "code",
   "source": [
    "training_data = DataLoader(training_dataset, batch_size=32, shuffle=True)\n",
    "testing_data = DataLoader(testing_dataset, batch_size=32, shuffle=True)"
   ],
   "id": "b8e5c3b788ee4731",
   "outputs": [],
   "execution_count": 8
  },
  {
   "metadata": {
    "ExecuteTime": {
     "end_time": "2024-05-08T21:41:20.695068Z",
     "start_time": "2024-05-08T21:41:20.526951Z"
    }
   },
   "cell_type": "code",
   "source": [
    "vision_model = ViT(\n",
    "    image_size=128 * 3,\n",
    "    patch_size=32,\n",
    "    num_classes=39,\n",
    "    dim=512,\n",
    "    depth=6,\n",
    "    heads=16,\n",
    "    mlp_dim=1024,\n",
    "    dropout=0.1,\n",
    "    emb_dropout=0.1\n",
    ").to('cuda')\n"
   ],
   "id": "4571c36eab0faad6",
   "outputs": [],
   "execution_count": 13
  },
  {
   "metadata": {
    "ExecuteTime": {
     "end_time": "2024-05-08T21:41:22.130252Z",
     "start_time": "2024-05-08T21:41:22.111155Z"
    }
   },
   "cell_type": "code",
   "source": [
    "loss_fn = torch.nn.CrossEntropyLoss()\n",
    "optimizer = torch.optim.AdamW(model.parameters())"
   ],
   "id": "473aee92047dbf11",
   "outputs": [],
   "execution_count": 14
  },
  {
   "metadata": {
    "ExecuteTime": {
     "end_time": "2024-05-08T21:41:22.569183Z",
     "start_time": "2024-05-08T21:41:22.550162Z"
    }
   },
   "cell_type": "code",
   "source": [
    "def train_loop(dataloader, model, loss_fn=loss_fn, optimizer=optimizer, epochs=10, save_path='./saves'):\n",
    "    if not os.path.exists(save_path):\n",
    "        os.mkdir(save_path)\n",
    "\n",
    "    model.to(device)\n",
    "\n",
    "    for epoch in range(epochs):\n",
    "        print(f\"Epoch {epoch + 1}/{epochs}\")\n",
    "        model.train()\n",
    "        loop = tqdm(dataloader, total=len(dataloader), leave=True)\n",
    "        total_loss = 0\n",
    "\n",
    "        for batch_idx, (data, targets) in enumerate(loop):\n",
    "            data = data.to(device)\n",
    "            targets = targets.to(device)\n",
    "\n",
    "            # Forward pass\n",
    "            scores = model(data)\n",
    "            loss = loss_fn(scores, targets)\n",
    "\n",
    "            # Backward pass and optimization\n",
    "            optimizer.zero_grad()\n",
    "            loss.backward()\n",
    "            optimizer.step()\n",
    "\n",
    "            total_loss += loss.item()\n",
    "\n",
    "            # Update progress bar\n",
    "            loop.set_postfix(loss=loss.item())\n",
    "\n",
    "        print(f\"Epoch {epoch + 1} average loss: {total_loss / len(dataloader)}\")\n",
    "\n",
    "        # Save the model after each epoch\n",
    "        torch.save({\n",
    "            'epoch': epoch + 1,\n",
    "            'model_state_dict': model.state_dict(),\n",
    "            'optimizer_state_dict': optimizer.state_dict(),\n",
    "            'loss': total_loss / len(dataloader),\n",
    "        }, f\"{save_path}/model_epoch_{epoch + 1}.pth\")\n",
    "\n",
    "    print(\"Training complete!\")"
   ],
   "id": "26b3ccffdc93140a",
   "outputs": [],
   "execution_count": 15
  },
  {
   "metadata": {
    "jupyter": {
     "is_executing": true
    },
    "ExecuteTime": {
     "start_time": "2024-05-08T21:41:57.675746Z"
    }
   },
   "cell_type": "code",
   "source": "train_loop(training_data, vision_model, epochs=10)",
   "id": "8e488dffa488070a",
   "outputs": [
    {
     "name": "stdout",
     "output_type": "stream",
     "text": [
      "Epoch 1/10\n"
     ]
    },
    {
     "name": "stderr",
     "output_type": "stream",
     "text": [
      " 36%|███▌      | 23/64 [00:25<00:44,  1.09s/it, loss=17.4]"
     ]
    }
   ],
   "execution_count": null
  }
 ],
 "metadata": {
  "kernelspec": {
   "display_name": "mtest-env",
   "language": "python",
   "name": "mtest-env"
  },
  "language_info": {
   "codemirror_mode": {
    "name": "ipython",
    "version": 2
   },
   "file_extension": ".py",
   "mimetype": "text/x-python",
   "name": "python",
   "nbconvert_exporter": "python",
   "pygments_lexer": "ipython2",
   "version": "2.7.6"
  }
 },
 "nbformat": 4,
 "nbformat_minor": 5
}
