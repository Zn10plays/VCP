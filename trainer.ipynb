{
 "cells": [
  {
   "metadata": {
    "ExecuteTime": {
     "end_time": "2024-06-04T02:10:17.083229Z",
     "start_time": "2024-06-04T02:10:17.068199Z"
    }
   },
   "cell_type": "code",
   "source": [
    "import warnings\n",
    "warnings.filterwarnings('ignore')"
   ],
   "id": "32e3847962d5acc1",
   "outputs": [],
   "execution_count": 2
  },
  {
   "cell_type": "code",
   "id": "initial_id",
   "metadata": {
    "collapsed": true,
    "ExecuteTime": {
     "end_time": "2024-06-04T02:10:21.685987Z",
     "start_time": "2024-06-04T02:10:17.084234Z"
    }
   },
   "source": [
    "from dataloader.original import get_dataset\n",
    "import torch\n",
    "from torch.utils.data import DataLoader\n",
    "from architecture.pipe import get_model\n",
    "from tqdm import tqdm\n",
    "import os"
   ],
   "outputs": [],
   "execution_count": 3
  },
  {
   "metadata": {
    "ExecuteTime": {
     "end_time": "2024-06-04T02:10:21.702016Z",
     "start_time": "2024-06-04T02:10:21.686981Z"
    }
   },
   "cell_type": "code",
   "source": [
    "device = 'cuda' if torch.cuda.is_available() else 'cpu'\n",
    "device"
   ],
   "id": "aef967b8f641f3c5",
   "outputs": [
    {
     "data": {
      "text/plain": [
       "'cuda'"
      ]
     },
     "execution_count": 4,
     "metadata": {},
     "output_type": "execute_result"
    }
   ],
   "execution_count": 4
  },
  {
   "metadata": {
    "ExecuteTime": {
     "end_time": "2024-06-04T02:10:21.987988Z",
     "start_time": "2024-06-04T02:10:21.704032Z"
    }
   },
   "cell_type": "code",
   "source": [
    "training_data = DataLoader(get_dataset('train', augmentation=True), batch_size=32, shuffle=True, num_workers=8, pin_memory=True)\n",
    "testing_data = DataLoader(get_dataset('train', augmentation=True), batch_size=32, shuffle=True, num_workers=8, pin_memory=True)"
   ],
   "id": "b8e5c3b788ee4731",
   "outputs": [],
   "execution_count": 5
  },
  {
   "metadata": {
    "ExecuteTime": {
     "end_time": "2024-06-04T02:10:22.478693Z",
     "start_time": "2024-06-04T02:10:21.988981Z"
    }
   },
   "cell_type": "code",
   "source": "vision_model = get_model()",
   "id": "4571c36eab0faad6",
   "outputs": [],
   "execution_count": 6
  },
  {
   "metadata": {
    "ExecuteTime": {
     "end_time": "2024-06-04T02:10:22.494601Z",
     "start_time": "2024-06-04T02:10:22.479602Z"
    }
   },
   "cell_type": "code",
   "source": [
    "loss_fn = torch.nn.CrossEntropyLoss()\n",
    "optimizer = torch.optim.AdamW(vision_model.parameters(), lr=1e-4)"
   ],
   "id": "473aee92047dbf11",
   "outputs": [],
   "execution_count": 7
  },
  {
   "metadata": {
    "ExecuteTime": {
     "end_time": "2024-06-04T02:10:23.043980Z",
     "start_time": "2024-06-04T02:10:22.495574Z"
    }
   },
   "cell_type": "code",
   "source": [
    "state = torch.load('./saves/exp_2/model_epoch_10.pth')\n",
    "vision_model.load_state_dict(state['model_state_dict'])\n",
    "optimizer.load_state_dict(state['optimizer_state_dict'])\n",
    "del state"
   ],
   "id": "f683039a34e457e3",
   "outputs": [],
   "execution_count": 8
  },
  {
   "metadata": {
    "ExecuteTime": {
     "end_time": "2024-06-04T02:10:23.059889Z",
     "start_time": "2024-06-04T02:10:23.044861Z"
    }
   },
   "cell_type": "code",
   "source": [
    "def train_loop(dataloader, testing_data, model, loss_fn, optimizer, epochs=10, save_path='./saves'):\n",
    "    if not os.path.exists(save_path):\n",
    "        os.mkdir(save_path)\n",
    "\n",
    "    all_exps = [int(elm.replace('exp_', '')) if elm != '.ipynb_checkpoints' else -1 for elm in os.listdir(save_path)]\n",
    "\n",
    "    current_num = max(all_exps) if (len(all_exps) > 0) else 0\n",
    "    save_path = save_path + '/exp_' + str(current_num + 1)\n",
    "    os.mkdir(save_path)\n",
    "\n",
    "    model.to(device)\n",
    "\n",
    "    for epoch in range(epochs):\n",
    "        print(f\"Epoch {epoch + 1}/{epochs}\")\n",
    "        model.train()\n",
    "        loop = tqdm(dataloader, total=len(dataloader), leave=True)\n",
    "        total_loss = 0\n",
    "        accuracy = 0\n",
    "\n",
    "        for batch_idx, (data, targets) in enumerate(loop):\n",
    "            data = data.to(device)\n",
    "            targets = targets.to(device)\n",
    "\n",
    "            # Forward pass\n",
    "            scores = model(data)\n",
    "            loss = loss_fn(scores, targets)\n",
    "            \n",
    "            batch_accuracy = ((scores.argmax(-1) == targets.argmax(-1)).int().sum() / len(data)).item()\n",
    "            accuracy += batch_accuracy\n",
    "\n",
    "            # Backward pass and optimization\n",
    "            optimizer.zero_grad()\n",
    "            loss.backward()\n",
    "            optimizer.step()\n",
    "\n",
    "            total_loss += loss.item()\n",
    "\n",
    "            # Update progress bar\n",
    "            loop.set_postfix(loss=loss.item(), accuracy=batch_accuracy)\n",
    "        \n",
    "        average_training_accuracy = accuracy.mean()\n",
    "\n",
    "        model.eval()\n",
    "        testing_loss = 0\n",
    "        accuracy = 0\n",
    "        for test in tqdm(testing_data):\n",
    "            X, y = test\n",
    "            \n",
    "            X, y = X.to(device), y.to(device)\n",
    "            \n",
    "            with torch.no_grad():                \n",
    "                scores = model(X)\n",
    "                testing_loss =+ loss_fn(scores, y)\n",
    "                \n",
    "            accuracy += ((scores.argmax(-1) == y.argmax(-1)).int().sum() / len(X)).item()\n",
    "            \n",
    "        average_testing_accuracy = accuracy.mean()\n",
    "\n",
    "        model.train()\n",
    "\n",
    "        print(f\"Epoch {epoch + 1} average loss: {total_loss / len(dataloader)} with testing loss of {testing_loss / len(testing_data)}, with traning accuracy {average_testing_accuracy}, and testing accuracy {average_testing_accuracy}\")\n",
    "\n",
    "        # Save the models after each epoch\n",
    "        torch.save({\n",
    "            'epoch': epoch + 1,\n",
    "            'model_state_dict': model.state_dict(),\n",
    "            'optimizer_state_dict': optimizer.state_dict(),\n",
    "            'loss': total_loss / len(dataloader),\n",
    "            'testing_loss': (testing_loss / len(testing_data)).cpu(),\n",
    "            'average_training_accuracy': average_training_accuracy.cpu(),\n",
    "            'average_testing_accuracy': average_testing_accuracy.cpu(),\n",
    "        }, f\"{save_path}/model_epoch_{epoch + 1}.pth\")\n",
    "\n",
    "    print(\"Training complete!\")"
   ],
   "id": "26b3ccffdc93140a",
   "outputs": [],
   "execution_count": 9
  },
  {
   "metadata": {
    "jupyter": {
     "is_executing": true
    },
    "ExecuteTime": {
     "start_time": "2024-06-04T02:10:45.508946Z"
    }
   },
   "cell_type": "code",
   "source": "train_loop(training_data, testing_data, vision_model, loss_fn, optimizer, epochs=10)",
   "id": "8a9b6f4fe8574d5f",
   "outputs": [
    {
     "name": "stdout",
     "output_type": "stream",
     "text": [
      "Epoch 1/10\n"
     ]
    },
    {
     "name": "stderr",
     "output_type": "stream",
     "text": [
      "  0%|          | 0/856 [00:00<?, ?it/s]"
     ]
    }
   ],
   "execution_count": null
  }
 ],
 "metadata": {
  "kernelspec": {
   "display_name": "learn_env",
   "language": "python",
   "name": "learn_env"
  },
  "language_info": {
   "codemirror_mode": {
    "name": "ipython",
    "version": 2
   },
   "file_extension": ".py",
   "mimetype": "text/x-python",
   "name": "python",
   "nbconvert_exporter": "python",
   "pygments_lexer": "ipython2",
   "version": "2.7.6"
  }
 },
 "nbformat": 4,
 "nbformat_minor": 5
}
