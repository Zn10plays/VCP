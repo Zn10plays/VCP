{
 "cells": [
  {
   "cell_type": "code",
   "id": "initial_id",
   "metadata": {
    "collapsed": true,
    "ExecuteTime": {
     "end_time": "2024-05-20T01:56:12.875297Z",
     "start_time": "2024-05-20T01:56:12.870790Z"
    }
   },
   "source": [
    "from dataloader import training_dataset, testing_dataset\n",
    "import torch\n",
    "from torch.utils.data import DataLoader\n",
    "from vit_pytorch import ViT, SimpleViT\n",
    "from torch import nn\n",
    "from tqdm import tqdm\n",
    "import os"
   ],
   "outputs": [],
   "execution_count": 9
  },
  {
   "metadata": {
    "ExecuteTime": {
     "end_time": "2024-05-20T01:56:14.380286Z",
     "start_time": "2024-05-20T01:56:14.375692Z"
    }
   },
   "cell_type": "code",
   "source": [
    "device = 'cuda' if torch.cuda.is_available() else 'cpu'\n",
    "device"
   ],
   "id": "aef967b8f641f3c5",
   "outputs": [
    {
     "data": {
      "text/plain": [
       "'cuda'"
      ]
     },
     "execution_count": 10,
     "metadata": {},
     "output_type": "execute_result"
    }
   ],
   "execution_count": 10
  },
  {
   "metadata": {
    "ExecuteTime": {
     "end_time": "2024-05-20T01:56:14.389309Z",
     "start_time": "2024-05-20T01:56:14.381283Z"
    }
   },
   "cell_type": "code",
   "source": [
    "training_data = DataLoader(training_dataset, batch_size=32, shuffle=True)\n",
    "testing_data = DataLoader(testing_dataset, batch_size=32, shuffle=True)"
   ],
   "id": "b8e5c3b788ee4731",
   "outputs": [],
   "execution_count": 11
  },
  {
   "metadata": {
    "ExecuteTime": {
     "end_time": "2024-05-20T01:56:14.555005Z",
     "start_time": "2024-05-20T01:56:14.391285Z"
    }
   },
   "cell_type": "code",
   "source": [
    "vision_model = ViT(\n",
    "    image_size=128 * 3,\n",
    "    patch_size=32,\n",
    "    num_classes=29,\n",
    "    dim=512,\n",
    "    depth=6,\n",
    "    heads=16,\n",
    "    mlp_dim=1024,\n",
    "    dropout = 0.1,\n",
    "    emb_dropout = 0.1\n",
    ").to('cuda')\n",
    "\n",
    "# vit_model = nn.Sequential(vision_model, nn.Sigmoid())"
   ],
   "id": "4571c36eab0faad6",
   "outputs": [],
   "execution_count": 12
  },
  {
   "metadata": {
    "ExecuteTime": {
     "end_time": "2024-05-20T01:56:16.029819Z",
     "start_time": "2024-05-20T01:56:16.024242Z"
    }
   },
   "cell_type": "code",
   "source": [
    "loss_fn = torch.nn.BCEWithLogitsLoss()\n",
    "optimizer = torch.optim.AdamW(vision_model.parameters(), lr=1e-7)"
   ],
   "id": "473aee92047dbf11",
   "outputs": [],
   "execution_count": 13
  },
  {
   "metadata": {
    "ExecuteTime": {
     "end_time": "2024-05-20T01:56:16.282987Z",
     "start_time": "2024-05-20T01:56:16.030820Z"
    }
   },
   "cell_type": "code",
   "source": "cache = torch.load('saves/exp_2/model_epoch_32.pth')",
   "id": "f225c32616ffc907",
   "outputs": [],
   "execution_count": 14
  },
  {
   "metadata": {
    "ExecuteTime": {
     "end_time": "2024-05-20T01:56:16.303324Z",
     "start_time": "2024-05-20T01:56:16.283986Z"
    }
   },
   "cell_type": "code",
   "source": [
    "optimizer.load_state_dict(cache['optimizer_state_dict'])\n",
    "vision_model.load_state_dict(cache['model_state_dict'])"
   ],
   "id": "3e7b60f4882adbc6",
   "outputs": [
    {
     "data": {
      "text/plain": [
       "<All keys matched successfully>"
      ]
     },
     "execution_count": 15,
     "metadata": {},
     "output_type": "execute_result"
    }
   ],
   "execution_count": 15
  },
  {
   "metadata": {
    "ExecuteTime": {
     "end_time": "2024-05-20T01:56:17.733849Z",
     "start_time": "2024-05-20T01:56:17.725813Z"
    }
   },
   "cell_type": "code",
   "source": [
    "state = {'loss': [], 'epochs': [], 'test_loss': []}\n",
    "def train_loop(dataloader, testing_data, model, loss_fn, optimizer, epochs=10, save_path='./saves'):\n",
    "    global state\n",
    "    if not os.path.exists(save_path):\n",
    "        os.mkdir(save_path)\n",
    "\n",
    "    all_exps = [int(elm.replace('exp_', '')) if elm != '.ipynb_checkpoints' else -1 for elm in os.listdir(save_path)]\n",
    "\n",
    "    current_num = max(all_exps) if (len(all_exps) > 0) else 1\n",
    "    save_path = save_path + '/exp_' + str(current_num + 1)\n",
    "    os.mkdir(save_path)\n",
    "\n",
    "    model.to(device)\n",
    "\n",
    "    for epoch in range(epochs):\n",
    "        print(f\"Epoch {epoch + 1}/{epochs}\")\n",
    "        model.train()\n",
    "        loop = tqdm(dataloader, total=len(dataloader), leave=True)\n",
    "        total_loss = 0\n",
    "\n",
    "        for batch_idx, (data, targets) in enumerate(loop):\n",
    "            data = data.to(device)\n",
    "            targets = targets.to(device)\n",
    "\n",
    "            # Forward pass\n",
    "            scores = model(data)\n",
    "            loss = loss_fn(scores, targets)\n",
    "\n",
    "            # Backward pass and optimization\n",
    "            optimizer.zero_grad()\n",
    "            loss.backward()\n",
    "            optimizer.step()\n",
    "\n",
    "            total_loss += loss.item()\n",
    "\n",
    "            # Update progress bar\n",
    "            loop.set_postfix(loss=loss.item())\n",
    "\n",
    "        testing_loss = 0\n",
    "        for test in tqdm(testing_data):\n",
    "            X, y = test\n",
    "            with torch.no_grad():\n",
    "                model.eval()\n",
    "\n",
    "                score = model(X)\n",
    "                testing_loss =+ loss_fn(score, y)\n",
    "\n",
    "                model.train()\n",
    "\n",
    "        print(f\"Epoch {epoch + 1} average loss: {total_loss / len(dataloader)} with testing loss of {testing_loss / len(testing_data)}\")\n",
    "\n",
    "        state['loss'].append(total_loss / len(dataloader))\n",
    "        state['epochs'].append(epoch + 1)\n",
    "        state['test_loss'].append((testing_loss / len(testing_data)).cpu())\n",
    "\n",
    "        # Save the model after each epoch\n",
    "        torch.save({\n",
    "            'epoch': epoch + 1,\n",
    "            'model_state_dict': model.state_dict(),\n",
    "            'optimizer_state_dict': optimizer.state_dict(),\n",
    "            'loss': total_loss / len(dataloader),\n",
    "            'testing_loss': (testing_loss / len(testing_data)).cpu()\n",
    "        }, f\"{save_path}/model_epoch_{epoch + 1}.pth\")\n",
    "\n",
    "    print(\"Training complete!\")"
   ],
   "id": "26b3ccffdc93140a",
   "outputs": [],
   "execution_count": 16
  },
  {
   "metadata": {
    "ExecuteTime": {
     "end_time": "2024-05-20T02:10:33.892487Z",
     "start_time": "2024-05-20T01:56:17.734845Z"
    }
   },
   "cell_type": "code",
   "source": "train_loop(training_data, testing_data, vision_model, loss_fn, optimizer, epochs=10)",
   "id": "8a9b6f4fe8574d5f",
   "outputs": [
    {
     "name": "stdout",
     "output_type": "stream",
     "text": [
      "Epoch 1/10\n"
     ]
    },
    {
     "name": "stderr",
     "output_type": "stream",
     "text": [
      "100%|██████████| 64/64 [01:20<00:00,  1.26s/it, loss=0.416]\n",
      "100%|██████████| 13/13 [00:13<00:00,  1.07s/it]\n"
     ]
    },
    {
     "name": "stdout",
     "output_type": "stream",
     "text": [
      "Epoch 1 average loss: 0.4333819351159036 with testing loss of 0.0302905086427927\n",
      "Epoch 2/10\n"
     ]
    },
    {
     "name": "stderr",
     "output_type": "stream",
     "text": [
      "100%|██████████| 64/64 [01:10<00:00,  1.10s/it, loss=0.413]\n",
      "100%|██████████| 13/13 [00:12<00:00,  1.03it/s]\n"
     ]
    },
    {
     "name": "stdout",
     "output_type": "stream",
     "text": [
      "Epoch 2 average loss: 0.4277427545748651 with testing loss of 0.03043803945183754\n",
      "Epoch 3/10\n"
     ]
    },
    {
     "name": "stderr",
     "output_type": "stream",
     "text": [
      "100%|██████████| 64/64 [01:10<00:00,  1.11s/it, loss=0.424]\n",
      "100%|██████████| 13/13 [00:13<00:00,  1.00s/it]\n"
     ]
    },
    {
     "name": "stdout",
     "output_type": "stream",
     "text": [
      "Epoch 3 average loss: 0.42264205776154995 with testing loss of 0.03406708687543869\n",
      "Epoch 4/10\n"
     ]
    },
    {
     "name": "stderr",
     "output_type": "stream",
     "text": [
      "100%|██████████| 64/64 [01:12<00:00,  1.14s/it, loss=0.416]\n",
      "100%|██████████| 13/13 [00:13<00:00,  1.04s/it]\n"
     ]
    },
    {
     "name": "stdout",
     "output_type": "stream",
     "text": [
      "Epoch 4 average loss: 0.4169648280367255 with testing loss of 0.03461531549692154\n",
      "Epoch 5/10\n"
     ]
    },
    {
     "name": "stderr",
     "output_type": "stream",
     "text": [
      "100%|██████████| 64/64 [01:11<00:00,  1.11s/it, loss=0.401]\n",
      "100%|██████████| 13/13 [00:13<00:00,  1.00s/it]\n"
     ]
    },
    {
     "name": "stdout",
     "output_type": "stream",
     "text": [
      "Epoch 5 average loss: 0.41227435041218996 with testing loss of 0.03187219053506851\n",
      "Epoch 6/10\n"
     ]
    },
    {
     "name": "stderr",
     "output_type": "stream",
     "text": [
      "100%|██████████| 64/64 [01:10<00:00,  1.10s/it, loss=0.41] \n",
      "100%|██████████| 13/13 [00:13<00:00,  1.01s/it]\n"
     ]
    },
    {
     "name": "stdout",
     "output_type": "stream",
     "text": [
      "Epoch 6 average loss: 0.4074586592614651 with testing loss of 0.035555724054574966\n",
      "Epoch 7/10\n"
     ]
    },
    {
     "name": "stderr",
     "output_type": "stream",
     "text": [
      "100%|██████████| 64/64 [01:11<00:00,  1.11s/it, loss=0.393]\n",
      "100%|██████████| 13/13 [00:12<00:00,  1.03it/s]\n"
     ]
    },
    {
     "name": "stdout",
     "output_type": "stream",
     "text": [
      "Epoch 7 average loss: 0.40280989138409495 with testing loss of 0.02893841080367565\n",
      "Epoch 8/10\n"
     ]
    },
    {
     "name": "stderr",
     "output_type": "stream",
     "text": [
      "100%|██████████| 64/64 [01:11<00:00,  1.12s/it, loss=0.377]\n",
      "100%|██████████| 13/13 [00:12<00:00,  1.03it/s]\n"
     ]
    },
    {
     "name": "stdout",
     "output_type": "stream",
     "text": [
      "Epoch 8 average loss: 0.3976817522197962 with testing loss of 0.02897035889327526\n",
      "Epoch 9/10\n"
     ]
    },
    {
     "name": "stderr",
     "output_type": "stream",
     "text": [
      "100%|██████████| 64/64 [01:11<00:00,  1.12s/it, loss=0.384]\n",
      "100%|██████████| 13/13 [00:13<00:00,  1.01s/it]\n"
     ]
    },
    {
     "name": "stdout",
     "output_type": "stream",
     "text": [
      "Epoch 9 average loss: 0.3936554677784443 with testing loss of 0.02405449002981186\n",
      "Epoch 10/10\n"
     ]
    },
    {
     "name": "stderr",
     "output_type": "stream",
     "text": [
      "100%|██████████| 64/64 [01:11<00:00,  1.11s/it, loss=0.369]\n",
      "100%|██████████| 13/13 [00:13<00:00,  1.04s/it]\n"
     ]
    },
    {
     "name": "stdout",
     "output_type": "stream",
     "text": [
      "Epoch 10 average loss: 0.3888186230324209 with testing loss of 0.027012156322598457\n",
      "Training complete!\n"
     ]
    }
   ],
   "execution_count": 17
  },
  {
   "metadata": {
    "ExecuteTime": {
     "end_time": "2024-05-14T22:46:58.040452Z",
     "start_time": "2024-05-14T22:46:58.036074Z"
    }
   },
   "cell_type": "code",
   "source": "state.keys()",
   "id": "d15c0ff57725cdf0",
   "outputs": [
    {
     "data": {
      "text/plain": [
       "dict_keys(['loss', 'epochs', 'test_loss'])"
      ]
     },
     "execution_count": 9,
     "metadata": {},
     "output_type": "execute_result"
    }
   ],
   "execution_count": 9
  }
 ],
 "metadata": {
  "kernelspec": {
   "display_name": "hypredictor",
   "language": "python",
   "name": "hypredictor"
  },
  "language_info": {
   "codemirror_mode": {
    "name": "ipython",
    "version": 2
   },
   "file_extension": ".py",
   "mimetype": "text/x-python",
   "name": "python",
   "nbconvert_exporter": "python",
   "pygments_lexer": "ipython2",
   "version": "2.7.6"
  }
 },
 "nbformat": 4,
 "nbformat_minor": 5
}
