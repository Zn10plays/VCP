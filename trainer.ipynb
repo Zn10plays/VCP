{
 "cells": [
  {
   "metadata": {
    "ExecuteTime": {
     "end_time": "2024-06-02T19:42:26.536531Z",
     "start_time": "2024-06-02T19:42:26.519554Z"
    }
   },
   "cell_type": "code",
   "source": [
    "import warnings\n",
    "warnings.filterwarnings('ignore')"
   ],
   "id": "32e3847962d5acc1",
   "outputs": [],
   "execution_count": 13
  },
  {
   "cell_type": "code",
   "id": "initial_id",
   "metadata": {
    "collapsed": true,
    "ExecuteTime": {
     "end_time": "2024-06-02T19:42:27.859427Z",
     "start_time": "2024-06-02T19:42:27.843426Z"
    }
   },
   "source": [
    "from dataloader import training_dataset, testing_dataset\n",
    "import torch\n",
    "from torch.utils.data import DataLoader\n",
    "from architecture.pipe import get_model\n",
    "import yaml\n",
    "from tqdm import tqdm\n",
    "import os"
   ],
   "outputs": [],
   "execution_count": 14
  },
  {
   "metadata": {
    "ExecuteTime": {
     "end_time": "2024-06-02T19:42:27.874454Z",
     "start_time": "2024-06-02T19:42:27.861426Z"
    }
   },
   "cell_type": "code",
   "source": [
    "device = 'cuda' if torch.cuda.is_available() else 'cpu'\n",
    "device"
   ],
   "id": "aef967b8f641f3c5",
   "outputs": [
    {
     "data": {
      "text/plain": [
       "'cuda'"
      ]
     },
     "execution_count": 15,
     "metadata": {},
     "output_type": "execute_result"
    }
   ],
   "execution_count": 15
  },
  {
   "metadata": {
    "ExecuteTime": {
     "end_time": "2024-06-02T19:42:27.890449Z",
     "start_time": "2024-06-02T19:42:27.876426Z"
    }
   },
   "cell_type": "code",
   "source": "config = yaml.full_load(open('./constants/v2.yaml'))",
   "id": "288215a09e396ed7",
   "outputs": [],
   "execution_count": 16
  },
  {
   "metadata": {
    "ExecuteTime": {
     "end_time": "2024-06-02T19:42:27.905449Z",
     "start_time": "2024-06-02T19:42:27.891450Z"
    }
   },
   "cell_type": "code",
   "source": [
    "training_data = DataLoader(training_dataset, batch_size=32, shuffle=True, pin_memory=True)\n",
    "testing_data = DataLoader(testing_dataset, batch_size=32, shuffle=True, pin_memory=True)"
   ],
   "id": "b8e5c3b788ee4731",
   "outputs": [],
   "execution_count": 17
  },
  {
   "metadata": {
    "ExecuteTime": {
     "end_time": "2024-06-02T19:42:27.921428Z",
     "start_time": "2024-06-02T19:42:27.906451Z"
    }
   },
   "cell_type": "code",
   "source": "config['ViT']['image_size'][0], config['ViT']['image_size'][1]",
   "id": "3990692090df4261",
   "outputs": [
    {
     "data": {
      "text/plain": [
       "(384, 256)"
      ]
     },
     "execution_count": 18,
     "metadata": {},
     "output_type": "execute_result"
    }
   ],
   "execution_count": 18
  },
  {
   "metadata": {
    "ExecuteTime": {
     "end_time": "2024-06-02T19:42:28.357768Z",
     "start_time": "2024-06-02T19:42:27.922425Z"
    }
   },
   "cell_type": "code",
   "source": "vision_model = get_model()",
   "id": "4571c36eab0faad6",
   "outputs": [],
   "execution_count": 19
  },
  {
   "metadata": {
    "ExecuteTime": {
     "end_time": "2024-06-02T19:42:28.372797Z",
     "start_time": "2024-06-02T19:42:28.358742Z"
    }
   },
   "cell_type": "code",
   "source": [
    "loss_fn = torch.nn.BCEWithLogitsLoss(weight=torch.tensor(config['ViT']['training']['class_weights']).to(device))\n",
    "optimizer = torch.optim.AdamW(vision_model.parameters(), lr=1e-4)"
   ],
   "id": "473aee92047dbf11",
   "outputs": [],
   "execution_count": 20
  },
  {
   "metadata": {
    "ExecuteTime": {
     "end_time": "2024-06-02T19:45:51.497614Z",
     "start_time": "2024-06-02T19:45:51.478524Z"
    }
   },
   "cell_type": "code",
   "source": [
    "state = {'loss': [], 'epochs': [], 'test_loss': []}\n",
    "def train_loop(dataloader, testing_data, model, loss_fn, optimizer, epochs=10, save_path='./saves'):\n",
    "    global state\n",
    "    if not os.path.exists(save_path):\n",
    "        os.mkdir(save_path)\n",
    "\n",
    "    all_exps = [int(elm.replace('exp_', '')) if elm != '.ipynb_checkpoints' else -1 for elm in os.listdir(save_path)]\n",
    "\n",
    "    current_num = max(all_exps) if (len(all_exps) > 0) else 0\n",
    "    save_path = save_path + '/exp_' + str(current_num + 1)\n",
    "    os.mkdir(save_path)\n",
    "\n",
    "    model.to(device)\n",
    "\n",
    "    for epoch in range(epochs):\n",
    "        print(f\"Epoch {epoch + 1}/{epochs}\")\n",
    "        model.train()\n",
    "        loop = tqdm(dataloader, total=len(dataloader), leave=True)\n",
    "        total_loss = 0\n",
    "\n",
    "        for batch_idx, (data, targets) in enumerate(loop):\n",
    "            data = data.to(device)\n",
    "            targets = targets.to(device)\n",
    "\n",
    "            # Forward pass\n",
    "            scores = model(data)\n",
    "            loss = loss_fn(scores, targets)\n",
    "\n",
    "            # Backward pass and optimization\n",
    "            optimizer.zero_grad()\n",
    "            loss.backward()\n",
    "            optimizer.step()\n",
    "\n",
    "            total_loss += loss.item()\n",
    "\n",
    "            # Update progress bar\n",
    "            loop.set_postfix(loss=loss.item())\n",
    "\n",
    "        model.eval()\n",
    "        testing_loss = 0\n",
    "        for test in tqdm(testing_data):\n",
    "            X, y = test\n",
    "            \n",
    "            X, y = X.to(device), y.to(device)\n",
    "            \n",
    "            with torch.no_grad():                \n",
    "                score = model(X)\n",
    "                testing_loss =+ loss_fn(score, y)\n",
    "\n",
    "        model.train()\n",
    "\n",
    "        print(f\"Epoch {epoch + 1} average loss: {total_loss / len(dataloader)} with testing loss of {testing_loss / len(testing_data)}\")\n",
    "\n",
    "        state['loss'].append(total_loss / len(dataloader))\n",
    "        state['epochs'].append(epoch + 1)\n",
    "        state['test_loss'].append((testing_loss / len(testing_data)).cpu())\n",
    "\n",
    "        # Save the models after each epoch\n",
    "        torch.save({\n",
    "            'epoch': epoch + 1,\n",
    "            'model_state_dict': model.state_dict(),\n",
    "            'optimizer_state_dict': optimizer.state_dict(),\n",
    "            'loss': total_loss / len(dataloader),\n",
    "            'testing_loss': (testing_loss / len(testing_data)).cpu()\n",
    "        }, f\"{save_path}/model_epoch_{epoch + 1}.pth\")\n",
    "\n",
    "    print(\"Training complete!\")"
   ],
   "id": "26b3ccffdc93140a",
   "outputs": [],
   "execution_count": 23
  },
  {
   "metadata": {
    "jupyter": {
     "is_executing": true
    },
    "ExecuteTime": {
     "start_time": "2024-06-02T19:45:52.824920Z"
    }
   },
   "cell_type": "code",
   "source": "train_loop(training_data, testing_data, vision_model, loss_fn, optimizer, epochs=10)",
   "id": "8a9b6f4fe8574d5f",
   "outputs": [
    {
     "name": "stdout",
     "output_type": "stream",
     "text": [
      "Epoch 1/10\n"
     ]
    },
    {
     "name": "stderr",
     "output_type": "stream",
     "text": [
      " 16%|█▋        | 16/97 [00:24<01:59,  1.47s/it, loss=2.1] "
     ]
    }
   ],
   "execution_count": null
  },
  {
   "metadata": {},
   "cell_type": "code",
   "source": "state.keys()",
   "id": "d15c0ff57725cdf0",
   "outputs": [],
   "execution_count": null
  }
 ],
 "metadata": {
  "kernelspec": {
   "display_name": "learn_env",
   "language": "python",
   "name": "learn_env"
  },
  "language_info": {
   "codemirror_mode": {
    "name": "ipython",
    "version": 2
   },
   "file_extension": ".py",
   "mimetype": "text/x-python",
   "name": "python",
   "nbconvert_exporter": "python",
   "pygments_lexer": "ipython2",
   "version": "2.7.6"
  }
 },
 "nbformat": 4,
 "nbformat_minor": 5
}
