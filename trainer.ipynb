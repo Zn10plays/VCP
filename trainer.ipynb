{
 "cells": [
  {
   "metadata": {
    "ExecuteTime": {
     "end_time": "2024-05-26T23:09:42.177158Z",
     "start_time": "2024-05-26T23:09:42.170155Z"
    }
   },
   "cell_type": "code",
   "source": [
    "import warnings\n",
    "# warnings.filterwarnings('ignore')"
   ],
   "id": "32e3847962d5acc1",
   "outputs": [],
   "execution_count": 1
  },
  {
   "cell_type": "code",
   "id": "initial_id",
   "metadata": {
    "collapsed": true,
    "ExecuteTime": {
     "end_time": "2024-05-26T23:09:51.516809Z",
     "start_time": "2024-05-26T23:09:42.570398Z"
    }
   },
   "source": [
    "from dataloader import training_dataset, testing_dataset\n",
    "import torch\n",
    "from torch.utils.data import DataLoader\n",
    "from architecture import pipe\n",
    "from torch import nn\n",
    "from tqdm import tqdm\n",
    "import os"
   ],
   "outputs": [
    {
     "name": "stderr",
     "output_type": "stream",
     "text": [
      "D:\\ml\\mtest\\learn_env\\lib\\site-packages\\diffusers\\utils\\outputs.py:63: UserWarning: torch.utils._pytree._register_pytree_node is deprecated. Please use torch.utils._pytree.register_pytree_node instead.\n",
      "  torch.utils._pytree._register_pytree_node(\n",
      "D:\\ml\\mtest\\learn_env\\lib\\site-packages\\diffusers\\utils\\outputs.py:63: UserWarning: torch.utils._pytree._register_pytree_node is deprecated. Please use torch.utils._pytree.register_pytree_node instead.\n",
      "  torch.utils._pytree._register_pytree_node(\n",
      "D:\\ml\\mtest\\learn_env\\lib\\site-packages\\huggingface_hub\\file_download.py:1132: FutureWarning: `resume_download` is deprecated and will be removed in version 1.0.0. Downloads always resume when possible. If you want to force a new download, use `force_download=True`.\n",
      "  warnings.warn(\n"
     ]
    }
   ],
   "execution_count": 2
  },
  {
   "metadata": {
    "ExecuteTime": {
     "end_time": "2024-05-26T23:09:51.532510Z",
     "start_time": "2024-05-26T23:09:51.518509Z"
    }
   },
   "cell_type": "code",
   "source": [
    "device = 'cuda' if torch.cuda.is_available() else 'cpu'\n",
    "device"
   ],
   "id": "aef967b8f641f3c5",
   "outputs": [
    {
     "data": {
      "text/plain": [
       "'cuda'"
      ]
     },
     "execution_count": 3,
     "metadata": {},
     "output_type": "execute_result"
    }
   ],
   "execution_count": 3
  },
  {
   "metadata": {
    "ExecuteTime": {
     "end_time": "2024-05-26T23:09:51.547538Z",
     "start_time": "2024-05-26T23:09:51.533532Z"
    }
   },
   "cell_type": "code",
   "source": [
    "training_data = DataLoader(training_dataset, batch_size=32, shuffle=True)\n",
    "testing_data = DataLoader(testing_dataset, batch_size=32, shuffle=True)"
   ],
   "id": "b8e5c3b788ee4731",
   "outputs": [],
   "execution_count": 4
  },
  {
   "metadata": {
    "ExecuteTime": {
     "end_time": "2024-05-26T23:09:51.594603Z",
     "start_time": "2024-05-26T23:09:51.554518Z"
    }
   },
   "cell_type": "code",
   "source": [
    "vision_model = pipe.get_model()\n",
    "vae = pipe.get_vae()"
   ],
   "id": "4571c36eab0faad6",
   "outputs": [],
   "execution_count": 5
  },
  {
   "metadata": {
    "ExecuteTime": {
     "end_time": "2024-05-26T23:09:51.610541Z",
     "start_time": "2024-05-26T23:09:51.598518Z"
    }
   },
   "cell_type": "code",
   "source": [
    "loss_fn = torch.nn.BCEWithLogitsLoss()\n",
    "optimizer = torch.optim.AdamW(vision_model.parameters(), lr=1e-7)"
   ],
   "id": "473aee92047dbf11",
   "outputs": [],
   "execution_count": 6
  },
  {
   "metadata": {
    "ExecuteTime": {
     "end_time": "2024-05-26T23:09:51.626511Z",
     "start_time": "2024-05-26T23:09:51.612551Z"
    }
   },
   "cell_type": "code",
   "source": [
    "state = {'loss': [], 'epochs': [], 'test_loss': []}\n",
    "def train_loop(dataloader, testing_data, model, loss_fn, optimizer, epochs=10, save_path='./saves'):\n",
    "    global state\n",
    "    if not os.path.exists(save_path):\n",
    "        os.mkdir(save_path)\n",
    "\n",
    "    all_exps = [int(elm.replace('exp_', '')) if elm != '.ipynb_checkpoints' else -1 for elm in os.listdir(save_path)]\n",
    "\n",
    "    current_num = max(all_exps) if (len(all_exps) > 0) else 1\n",
    "    save_path = save_path + '/exp_' + str(current_num + 1)\n",
    "    os.mkdir(save_path)\n",
    "\n",
    "    model.to(device)\n",
    "\n",
    "    for epoch in range(epochs):\n",
    "        print(f\"Epoch {epoch + 1}/{epochs}\")\n",
    "        model.train()\n",
    "        loop = tqdm(dataloader, total=len(dataloader), leave=True)\n",
    "        total_loss = 0\n",
    "\n",
    "        for batch_idx, (data, targets) in enumerate(loop):\n",
    "            data = data.to(device)\n",
    "            targets = targets.to(device)\n",
    "            \n",
    "            with torch.no_grad():\n",
    "                features = vae.encode(data).latent_dist.sample()\n",
    "            \n",
    "            # Forward pass\n",
    "            scores = model(features)\n",
    "            loss = loss_fn(scores, targets)\n",
    "\n",
    "            # Backward pass and optimization\n",
    "            optimizer.zero_grad()\n",
    "            loss.backward()\n",
    "            optimizer.step()\n",
    "\n",
    "            total_loss += loss.item()\n",
    "\n",
    "            # Update progress bar\n",
    "            loop.set_postfix(loss=loss.item())\n",
    "\n",
    "        testing_loss = 0\n",
    "        for test in tqdm(testing_data):\n",
    "            X, y = test\n",
    "            with torch.no_grad():\n",
    "                model.eval()\n",
    "\n",
    "                score = model(X)\n",
    "                testing_loss =+ loss_fn(score, y)\n",
    "\n",
    "                model.train()\n",
    "\n",
    "        print(f\"Epoch {epoch + 1} average loss: {total_loss / len(dataloader)} with testing loss of {testing_loss / len(testing_data)}\")\n",
    "\n",
    "        state['loss'].append(total_loss / len(dataloader))\n",
    "        state['epochs'].append(epoch + 1)\n",
    "        state['test_loss'].append((testing_loss / len(testing_data)).cpu())\n",
    "\n",
    "        # Save the models after each epoch\n",
    "        torch.save({\n",
    "            'epoch': epoch + 1,\n",
    "            'model_state_dict': model.state_dict(),\n",
    "            'optimizer_state_dict': optimizer.state_dict(),\n",
    "            'loss': total_loss / len(dataloader),\n",
    "            'testing_loss': (testing_loss / len(testing_data)).cpu()\n",
    "        }, f\"{save_path}/model_epoch_{epoch + 1}.pth\")\n",
    "\n",
    "    print(\"Training complete!\")"
   ],
   "id": "26b3ccffdc93140a",
   "outputs": [],
   "execution_count": 7
  },
  {
   "metadata": {
    "ExecuteTime": {
     "end_time": "2024-05-26T23:16:40.851035Z",
     "start_time": "2024-05-26T23:09:51.627531Z"
    }
   },
   "cell_type": "code",
   "source": "train_loop(training_data, testing_data, vision_model, loss_fn, optimizer, epochs=10)",
   "id": "8a9b6f4fe8574d5f",
   "outputs": [
    {
     "name": "stdout",
     "output_type": "stream",
     "text": [
      "Epoch 1/10\n"
     ]
    },
    {
     "name": "stderr",
     "output_type": "stream",
     "text": [
      "  0%|          | 0/108 [00:00<?, ?it/s]D:\\ml\\mtest\\learn_env\\lib\\site-packages\\diffusers\\models\\attention_processor.py:1259: UserWarning: 1Torch was not compiled with flash attention. (Triggered internally at ..\\aten\\src\\ATen\\native\\transformers\\cuda\\sdp_utils.cpp:455.)\n",
      "  hidden_states = F.scaled_dot_product_attention(\n",
      " 34%|███▍      | 37/108 [06:48<13:03, 11.04s/it, loss=0.752]\n"
     ]
    },
    {
     "ename": "KeyboardInterrupt",
     "evalue": "",
     "output_type": "error",
     "traceback": [
      "\u001B[1;31m---------------------------------------------------------------------------\u001B[0m",
      "\u001B[1;31mKeyboardInterrupt\u001B[0m                         Traceback (most recent call last)",
      "Cell \u001B[1;32mIn[8], line 1\u001B[0m\n\u001B[1;32m----> 1\u001B[0m \u001B[43mtrain_loop\u001B[49m\u001B[43m(\u001B[49m\u001B[43mtraining_data\u001B[49m\u001B[43m,\u001B[49m\u001B[43m \u001B[49m\u001B[43mtesting_data\u001B[49m\u001B[43m,\u001B[49m\u001B[43m \u001B[49m\u001B[43mvision_model\u001B[49m\u001B[43m,\u001B[49m\u001B[43m \u001B[49m\u001B[43mloss_fn\u001B[49m\u001B[43m,\u001B[49m\u001B[43m \u001B[49m\u001B[43moptimizer\u001B[49m\u001B[43m,\u001B[49m\u001B[43m \u001B[49m\u001B[43mepochs\u001B[49m\u001B[38;5;241;43m=\u001B[39;49m\u001B[38;5;241;43m10\u001B[39;49m\u001B[43m)\u001B[49m\n",
      "Cell \u001B[1;32mIn[7], line 29\u001B[0m, in \u001B[0;36mtrain_loop\u001B[1;34m(dataloader, testing_data, model, loss_fn, optimizer, epochs, save_path)\u001B[0m\n\u001B[0;32m     26\u001B[0m     features \u001B[38;5;241m=\u001B[39m vae\u001B[38;5;241m.\u001B[39mencode(data)\u001B[38;5;241m.\u001B[39mlatent_dist\u001B[38;5;241m.\u001B[39msample()\n\u001B[0;32m     28\u001B[0m \u001B[38;5;66;03m# Forward pass\u001B[39;00m\n\u001B[1;32m---> 29\u001B[0m scores \u001B[38;5;241m=\u001B[39m \u001B[43mmodel\u001B[49m\u001B[43m(\u001B[49m\u001B[43mfeatures\u001B[49m\u001B[43m)\u001B[49m\n\u001B[0;32m     30\u001B[0m loss \u001B[38;5;241m=\u001B[39m loss_fn(scores, targets)\n\u001B[0;32m     32\u001B[0m \u001B[38;5;66;03m# Backward pass and optimization\u001B[39;00m\n",
      "File \u001B[1;32m~\\AppData\\Roaming\\Python\\Python310\\site-packages\\torch\\nn\\modules\\module.py:1532\u001B[0m, in \u001B[0;36mModule._wrapped_call_impl\u001B[1;34m(self, *args, **kwargs)\u001B[0m\n\u001B[0;32m   1530\u001B[0m     \u001B[38;5;28;01mreturn\u001B[39;00m \u001B[38;5;28mself\u001B[39m\u001B[38;5;241m.\u001B[39m_compiled_call_impl(\u001B[38;5;241m*\u001B[39margs, \u001B[38;5;241m*\u001B[39m\u001B[38;5;241m*\u001B[39mkwargs)  \u001B[38;5;66;03m# type: ignore[misc]\u001B[39;00m\n\u001B[0;32m   1531\u001B[0m \u001B[38;5;28;01melse\u001B[39;00m:\n\u001B[1;32m-> 1532\u001B[0m     \u001B[38;5;28;01mreturn\u001B[39;00m \u001B[38;5;28mself\u001B[39m\u001B[38;5;241m.\u001B[39m_call_impl(\u001B[38;5;241m*\u001B[39margs, \u001B[38;5;241m*\u001B[39m\u001B[38;5;241m*\u001B[39mkwargs)\n",
      "File \u001B[1;32m~\\AppData\\Roaming\\Python\\Python310\\site-packages\\torch\\nn\\modules\\module.py:1541\u001B[0m, in \u001B[0;36mModule._call_impl\u001B[1;34m(self, *args, **kwargs)\u001B[0m\n\u001B[0;32m   1536\u001B[0m \u001B[38;5;66;03m# If we don't have any hooks, we want to skip the rest of the logic in\u001B[39;00m\n\u001B[0;32m   1537\u001B[0m \u001B[38;5;66;03m# this function, and just call forward.\u001B[39;00m\n\u001B[0;32m   1538\u001B[0m \u001B[38;5;28;01mif\u001B[39;00m \u001B[38;5;129;01mnot\u001B[39;00m (\u001B[38;5;28mself\u001B[39m\u001B[38;5;241m.\u001B[39m_backward_hooks \u001B[38;5;129;01mor\u001B[39;00m \u001B[38;5;28mself\u001B[39m\u001B[38;5;241m.\u001B[39m_backward_pre_hooks \u001B[38;5;129;01mor\u001B[39;00m \u001B[38;5;28mself\u001B[39m\u001B[38;5;241m.\u001B[39m_forward_hooks \u001B[38;5;129;01mor\u001B[39;00m \u001B[38;5;28mself\u001B[39m\u001B[38;5;241m.\u001B[39m_forward_pre_hooks\n\u001B[0;32m   1539\u001B[0m         \u001B[38;5;129;01mor\u001B[39;00m _global_backward_pre_hooks \u001B[38;5;129;01mor\u001B[39;00m _global_backward_hooks\n\u001B[0;32m   1540\u001B[0m         \u001B[38;5;129;01mor\u001B[39;00m _global_forward_hooks \u001B[38;5;129;01mor\u001B[39;00m _global_forward_pre_hooks):\n\u001B[1;32m-> 1541\u001B[0m     \u001B[38;5;28;01mreturn\u001B[39;00m forward_call(\u001B[38;5;241m*\u001B[39margs, \u001B[38;5;241m*\u001B[39m\u001B[38;5;241m*\u001B[39mkwargs)\n\u001B[0;32m   1543\u001B[0m \u001B[38;5;28;01mtry\u001B[39;00m:\n\u001B[0;32m   1544\u001B[0m     result \u001B[38;5;241m=\u001B[39m \u001B[38;5;28;01mNone\u001B[39;00m\n",
      "File \u001B[1;32mD:\\ml\\VCP\\architecture\\ViT.py:122\u001B[0m, in \u001B[0;36mSimpleViT.forward\u001B[1;34m(self, img)\u001B[0m\n\u001B[0;32m    119\u001B[0m device \u001B[38;5;241m=\u001B[39m img\u001B[38;5;241m.\u001B[39mdevice\n\u001B[0;32m    121\u001B[0m x \u001B[38;5;241m=\u001B[39m \u001B[38;5;28mself\u001B[39m\u001B[38;5;241m.\u001B[39mto_patch_embedding(img)\n\u001B[1;32m--> 122\u001B[0m x \u001B[38;5;241m+\u001B[39m\u001B[38;5;241m=\u001B[39m \u001B[38;5;28;43mself\u001B[39;49m\u001B[38;5;241;43m.\u001B[39;49m\u001B[43mpos_embedding\u001B[49m\u001B[38;5;241;43m.\u001B[39;49m\u001B[43mto\u001B[49m\u001B[43m(\u001B[49m\u001B[43mdevice\u001B[49m\u001B[43m,\u001B[49m\u001B[43m \u001B[49m\u001B[43mdtype\u001B[49m\u001B[38;5;241;43m=\u001B[39;49m\u001B[43mx\u001B[49m\u001B[38;5;241;43m.\u001B[39;49m\u001B[43mdtype\u001B[49m\u001B[43m)\u001B[49m\n\u001B[0;32m    124\u001B[0m x \u001B[38;5;241m=\u001B[39m \u001B[38;5;28mself\u001B[39m\u001B[38;5;241m.\u001B[39mtransformer(x)\n\u001B[0;32m    125\u001B[0m x \u001B[38;5;241m=\u001B[39m x\u001B[38;5;241m.\u001B[39mmean(dim\u001B[38;5;241m=\u001B[39m\u001B[38;5;241m1\u001B[39m)\n",
      "\u001B[1;31mKeyboardInterrupt\u001B[0m: "
     ]
    }
   ],
   "execution_count": 8
  },
  {
   "metadata": {},
   "cell_type": "code",
   "source": "state.keys()",
   "id": "d15c0ff57725cdf0",
   "outputs": [],
   "execution_count": null
  }
 ],
 "metadata": {
  "kernelspec": {
   "display_name": "learn_env",
   "language": "python",
   "name": "learn_env"
  },
  "language_info": {
   "codemirror_mode": {
    "name": "ipython",
    "version": 2
   },
   "file_extension": ".py",
   "mimetype": "text/x-python",
   "name": "python",
   "nbconvert_exporter": "python",
   "pygments_lexer": "ipython2",
   "version": "2.7.6"
  }
 },
 "nbformat": 4,
 "nbformat_minor": 5
}
