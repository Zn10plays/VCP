{
 "cells": [
  {
   "metadata": {
    "ExecuteTime": {
     "end_time": "2024-05-14T19:45:36.068277Z",
     "start_time": "2024-05-14T19:45:29.697071Z"
    }
   },
   "cell_type": "code",
   "source": "%pip install vit_pytorch",
   "id": "6649a5c25f5953e3",
   "outputs": [
    {
     "name": "stdout",
     "output_type": "stream",
     "text": [
      "Collecting vit_pytorch\n",
      "  Downloading vit_pytorch-1.6.9-py3-none-any.whl.metadata (65 kB)\n",
      "     ---------------------------------------- 0.0/65.7 kB ? eta -:--:--\n",
      "     ---------------------------------------- 65.7/65.7 kB 1.7 MB/s eta 0:00:00\n",
      "Collecting einops>=0.7.0 (from vit_pytorch)\n",
      "  Downloading einops-0.8.0-py3-none-any.whl.metadata (12 kB)\n",
      "Requirement already satisfied: torch>=1.10 in c:\\users\\rudra\\appdata\\roaming\\python\\python311\\site-packages (from vit_pytorch) (2.0.0+cu118)\n",
      "Requirement already satisfied: torchvision in c:\\users\\rudra\\appdata\\roaming\\python\\python311\\site-packages (from vit_pytorch) (0.15.1+cu118)\n",
      "Requirement already satisfied: filelock in c:\\users\\rudra\\appdata\\roaming\\python\\python311\\site-packages (from torch>=1.10->vit_pytorch) (3.10.7)\n",
      "Requirement already satisfied: typing-extensions in c:\\users\\rudra\\anaconda3\\envs\\hypredictor\\lib\\site-packages (from torch>=1.10->vit_pytorch) (4.6.3)\n",
      "Requirement already satisfied: sympy in c:\\users\\rudra\\anaconda3\\envs\\hypredictor\\lib\\site-packages (from torch>=1.10->vit_pytorch) (1.12)\n",
      "Requirement already satisfied: networkx in c:\\users\\rudra\\appdata\\roaming\\python\\python311\\site-packages (from torch>=1.10->vit_pytorch) (3.0)\n",
      "Requirement already satisfied: jinja2 in c:\\users\\rudra\\appdata\\roaming\\python\\python311\\site-packages (from torch>=1.10->vit_pytorch) (3.1.2)\n",
      "Requirement already satisfied: numpy in c:\\users\\rudra\\anaconda3\\envs\\hypredictor\\lib\\site-packages (from torchvision->vit_pytorch) (1.23.5)\n",
      "Requirement already satisfied: requests in c:\\users\\rudra\\appdata\\roaming\\python\\python311\\site-packages (from torchvision->vit_pytorch) (2.28.1)\n",
      "Requirement already satisfied: pillow!=8.3.*,>=5.3.0 in c:\\users\\rudra\\appdata\\roaming\\python\\python311\\site-packages (from torchvision->vit_pytorch) (9.3.0)\n",
      "Requirement already satisfied: MarkupSafe>=2.0 in c:\\users\\rudra\\appdata\\roaming\\python\\python311\\site-packages (from jinja2->torch>=1.10->vit_pytorch) (2.1.2)\n",
      "Requirement already satisfied: charset-normalizer<3,>=2 in c:\\users\\rudra\\appdata\\roaming\\python\\python311\\site-packages (from requests->torchvision->vit_pytorch) (2.1.1)\n",
      "Requirement already satisfied: idna<4,>=2.5 in c:\\users\\rudra\\appdata\\roaming\\python\\python311\\site-packages (from requests->torchvision->vit_pytorch) (3.4)\n",
      "Requirement already satisfied: urllib3<1.27,>=1.21.1 in c:\\users\\rudra\\anaconda3\\envs\\hypredictor\\lib\\site-packages (from requests->torchvision->vit_pytorch) (1.26.16)\n",
      "Requirement already satisfied: certifi>=2017.4.17 in c:\\users\\rudra\\appdata\\roaming\\python\\python311\\site-packages (from requests->torchvision->vit_pytorch) (2022.12.7)\n",
      "Requirement already satisfied: mpmath>=0.19 in c:\\users\\rudra\\anaconda3\\envs\\hypredictor\\lib\\site-packages (from sympy->torch>=1.10->vit_pytorch) (1.3.0)\n",
      "Downloading vit_pytorch-1.6.9-py3-none-any.whl (119 kB)\n",
      "   ---------------------------------------- 0.0/119.7 kB ? eta -:--:--\n",
      "   ---------------------------------------- 119.7/119.7 kB 7.3 MB/s eta 0:00:00\n",
      "Downloading einops-0.8.0-py3-none-any.whl (43 kB)\n",
      "   ---------------------------------------- 0.0/43.2 kB ? eta -:--:--\n",
      "   ---------------------------------------- 43.2/43.2 kB ? eta 0:00:00\n",
      "Installing collected packages: einops, vit_pytorch\n",
      "Successfully installed einops-0.8.0 vit_pytorch-1.6.9\n",
      "Note: you may need to restart the kernel to use updated packages.\n"
     ]
    }
   ],
   "execution_count": 5
  },
  {
   "cell_type": "code",
   "id": "initial_id",
   "metadata": {
    "collapsed": true,
    "ExecuteTime": {
     "end_time": "2024-05-14T19:46:48.900816Z",
     "start_time": "2024-05-14T19:46:46.145087Z"
    }
   },
   "source": [
    "from dataloader import training_dataset, testing_dataset\n",
    "import torch\n",
    "from torch.utils.data import DataLoader\n",
    "from vit_pytorch import ViT, SimpleViT\n",
    "from torch import nn\n",
    "from tqdm import tqdm\n",
    "import os"
   ],
   "outputs": [],
   "execution_count": 1
  },
  {
   "metadata": {
    "ExecuteTime": {
     "end_time": "2024-05-14T19:46:48.939863Z",
     "start_time": "2024-05-14T19:46:48.901844Z"
    }
   },
   "cell_type": "code",
   "source": [
    "device = 'cuda' if torch.cuda.is_available() else 'cpu'\n",
    "device"
   ],
   "id": "aef967b8f641f3c5",
   "outputs": [
    {
     "data": {
      "text/plain": [
       "'cuda'"
      ]
     },
     "execution_count": 2,
     "metadata": {},
     "output_type": "execute_result"
    }
   ],
   "execution_count": 2
  },
  {
   "metadata": {
    "ExecuteTime": {
     "end_time": "2024-05-14T19:46:48.944343Z",
     "start_time": "2024-05-14T19:46:48.940888Z"
    }
   },
   "cell_type": "code",
   "source": [
    "training_data = DataLoader(training_dataset, batch_size=32, shuffle=True)\n",
    "testing_data = DataLoader(testing_dataset, batch_size=32, shuffle=True)"
   ],
   "id": "b8e5c3b788ee4731",
   "outputs": [],
   "execution_count": 3
  },
  {
   "metadata": {
    "ExecuteTime": {
     "end_time": "2024-05-14T19:46:49.189855Z",
     "start_time": "2024-05-14T19:46:48.945365Z"
    }
   },
   "cell_type": "code",
   "source": [
    "vision_model = ViT(\n",
    "    image_size=128 * 3,\n",
    "    patch_size=32,\n",
    "    num_classes=39,\n",
    "    dim=512,\n",
    "    depth=6,\n",
    "    heads=16,\n",
    "    mlp_dim=1024,\n",
    "    dropout = 0.1,\n",
    "    emb_dropout = 0.1\n",
    ").to('cuda')\n",
    "\n",
    "# vit_model = nn.Sequential(vision_model, nn.Sigmoid())"
   ],
   "id": "4571c36eab0faad6",
   "outputs": [],
   "execution_count": 4
  },
  {
   "metadata": {
    "ExecuteTime": {
     "end_time": "2024-05-14T19:46:49.194377Z",
     "start_time": "2024-05-14T19:46:49.190843Z"
    }
   },
   "cell_type": "code",
   "source": [
    "loss_fn = torch.nn.BCEWithLogitsLoss()\n",
    "optimizer = torch.optim.AdamW(vision_model.parameters(), lr=1e-7)"
   ],
   "id": "473aee92047dbf11",
   "outputs": [],
   "execution_count": 5
  },
  {
   "metadata": {
    "ExecuteTime": {
     "end_time": "2024-05-14T19:46:49.203509Z",
     "start_time": "2024-05-14T19:46:49.195374Z"
    }
   },
   "cell_type": "code",
   "source": [
    "state = {'loss': [], 'epochs': [], 'test_loss': []}\n",
    "def train_loop(dataloader, testing_data, model, loss_fn, optimizer, epochs=10, save_path='./saves'):\n",
    "    global state\n",
    "    if not os.path.exists(save_path):\n",
    "        os.mkdir(save_path)\n",
    "\n",
    "    all_exps = [int(elm.replace('exp_', '')) if elm != '.ipynb_checkpoints' else -1 for elm in os.listdir(save_path)]\n",
    "\n",
    "    current_num = max(all_exps) if (len(all_exps) > 0) else 1\n",
    "    save_path = save_path + '/exp_' + str(current_num + 1)\n",
    "    os.mkdir(save_path)\n",
    "\n",
    "    model.to(device)\n",
    "\n",
    "    for epoch in range(epochs):\n",
    "        print(f\"Epoch {epoch + 1}/{epochs}\")\n",
    "        model.train()\n",
    "        loop = tqdm(dataloader, total=len(dataloader), leave=True)\n",
    "        total_loss = 0\n",
    "\n",
    "        for batch_idx, (data, targets) in enumerate(loop):\n",
    "            data = data.to(device)\n",
    "            targets = targets.to(device)\n",
    "\n",
    "            # Forward pass\n",
    "            scores = model(data)\n",
    "            loss = loss_fn(scores, targets)\n",
    "\n",
    "            # Backward pass and optimization\n",
    "            optimizer.zero_grad()\n",
    "            loss.backward()\n",
    "            optimizer.step()\n",
    "\n",
    "            total_loss += loss.item()\n",
    "\n",
    "            # Update progress bar\n",
    "            loop.set_postfix(loss=loss.item())\n",
    "\n",
    "        testing_loss = 0\n",
    "        for test in tqdm(testing_data):\n",
    "            X, y = test\n",
    "            with torch.no_grad():\n",
    "                model.eval()\n",
    "\n",
    "                score = model(X)\n",
    "                testing_loss =+ loss_fn(score, y)\n",
    "\n",
    "                model.train()\n",
    "\n",
    "        print(f\"Epoch {epoch + 1} average loss: {total_loss / len(dataloader)} with testing loss of {testing_loss / len(testing_data)}\")\n",
    "\n",
    "        state['loss'].append(total_loss / len(dataloader))\n",
    "        state['epochs'].append(epoch + 1)\n",
    "        state['test_loss'].append((testing_loss / len(testing_data)).cpu())\n",
    "\n",
    "        # Save the model after each epoch\n",
    "        torch.save({\n",
    "            'epoch': epoch + 1,\n",
    "            'model_state_dict': model.state_dict(),\n",
    "            'optimizer_state_dict': optimizer.state_dict(),\n",
    "            'loss': total_loss / len(dataloader),\n",
    "            'testing_loss': (testing_loss / len(testing_data)).cpu()\n",
    "        }, f\"{save_path}/model_epoch_{epoch + 1}.pth\")\n",
    "\n",
    "    print(\"Training complete!\")"
   ],
   "id": "26b3ccffdc93140a",
   "outputs": [],
   "execution_count": 6
  },
  {
   "metadata": {
    "ExecuteTime": {
     "end_time": "2024-05-14T22:03:02.250226Z",
     "start_time": "2024-05-14T19:46:49.204508Z"
    }
   },
   "cell_type": "code",
   "source": "train_loop(training_data, testing_data, vision_model, loss_fn, optimizer, epochs=100)",
   "id": "8a9b6f4fe8574d5f",
   "outputs": [
    {
     "name": "stdout",
     "output_type": "stream",
     "text": [
      "Epoch 1/100\n"
     ]
    },
    {
     "name": "stderr",
     "output_type": "stream",
     "text": [
      "100%|██████████| 64/64 [01:16<00:00,  1.20s/it, loss=0.697]\n",
      "100%|██████████| 13/13 [00:13<00:00,  1.06s/it]\n"
     ]
    },
    {
     "name": "stdout",
     "output_type": "stream",
     "text": [
      "Epoch 1 average loss: 0.6990987602621317 with testing loss of 0.052406664937734604\n",
      "Epoch 2/100\n"
     ]
    },
    {
     "name": "stderr",
     "output_type": "stream",
     "text": [
      "100%|██████████| 64/64 [01:07<00:00,  1.06s/it, loss=0.678]\n",
      "100%|██████████| 13/13 [00:12<00:00,  1.07it/s]\n"
     ]
    },
    {
     "name": "stdout",
     "output_type": "stream",
     "text": [
      "Epoch 2 average loss: 0.6859181514009833 with testing loss of 0.05120355263352394\n",
      "Epoch 3/100\n"
     ]
    },
    {
     "name": "stderr",
     "output_type": "stream",
     "text": [
      "100%|██████████| 64/64 [01:06<00:00,  1.04s/it, loss=0.668]\n",
      "100%|██████████| 13/13 [00:12<00:00,  1.08it/s]\n"
     ]
    },
    {
     "name": "stdout",
     "output_type": "stream",
     "text": [
      "Epoch 3 average loss: 0.6730914637446404 with testing loss of 0.051010239869356155\n",
      "Epoch 4/100\n"
     ]
    },
    {
     "name": "stderr",
     "output_type": "stream",
     "text": [
      "100%|██████████| 64/64 [01:09<00:00,  1.09s/it, loss=0.649]\n",
      "100%|██████████| 13/13 [00:12<00:00,  1.02it/s]\n"
     ]
    },
    {
     "name": "stdout",
     "output_type": "stream",
     "text": [
      "Epoch 4 average loss: 0.6605385644361377 with testing loss of 0.05004071816802025\n",
      "Epoch 5/100\n"
     ]
    },
    {
     "name": "stderr",
     "output_type": "stream",
     "text": [
      "100%|██████████| 64/64 [01:08<00:00,  1.06s/it, loss=0.636]\n",
      "100%|██████████| 13/13 [00:12<00:00,  1.03it/s]\n"
     ]
    },
    {
     "name": "stdout",
     "output_type": "stream",
     "text": [
      "Epoch 5 average loss: 0.6482885256409645 with testing loss of 0.050910379737615585\n",
      "Epoch 6/100\n"
     ]
    },
    {
     "name": "stderr",
     "output_type": "stream",
     "text": [
      "100%|██████████| 64/64 [01:13<00:00,  1.14s/it, loss=0.621]\n",
      "100%|██████████| 13/13 [00:13<00:00,  1.03s/it]\n"
     ]
    },
    {
     "name": "stdout",
     "output_type": "stream",
     "text": [
      "Epoch 6 average loss: 0.6362931951880455 with testing loss of 0.047200679779052734\n",
      "Epoch 7/100\n"
     ]
    },
    {
     "name": "stderr",
     "output_type": "stream",
     "text": [
      "100%|██████████| 64/64 [01:12<00:00,  1.14s/it, loss=0.624]\n",
      "100%|██████████| 13/13 [00:12<00:00,  1.01it/s]\n"
     ]
    },
    {
     "name": "stdout",
     "output_type": "stream",
     "text": [
      "Epoch 7 average loss: 0.6246377946808934 with testing loss of 0.04694366082549095\n",
      "Epoch 8/100\n"
     ]
    },
    {
     "name": "stderr",
     "output_type": "stream",
     "text": [
      "100%|██████████| 64/64 [01:14<00:00,  1.16s/it, loss=0.604]\n",
      "100%|██████████| 13/13 [00:13<00:00,  1.03s/it]\n"
     ]
    },
    {
     "name": "stdout",
     "output_type": "stream",
     "text": [
      "Epoch 8 average loss: 0.6131544290110469 with testing loss of 0.046915192157030106\n",
      "Epoch 9/100\n"
     ]
    },
    {
     "name": "stderr",
     "output_type": "stream",
     "text": [
      "100%|██████████| 64/64 [01:10<00:00,  1.10s/it, loss=0.59] \n",
      "100%|██████████| 13/13 [00:13<00:00,  1.07s/it]\n"
     ]
    },
    {
     "name": "stdout",
     "output_type": "stream",
     "text": [
      "Epoch 9 average loss: 0.6019465588033199 with testing loss of 0.04462288320064545\n",
      "Epoch 10/100\n"
     ]
    },
    {
     "name": "stderr",
     "output_type": "stream",
     "text": [
      "100%|██████████| 64/64 [01:13<00:00,  1.15s/it, loss=0.59] \n",
      "100%|██████████| 13/13 [00:13<00:00,  1.02s/it]\n"
     ]
    },
    {
     "name": "stdout",
     "output_type": "stream",
     "text": [
      "Epoch 10 average loss: 0.5910469302907586 with testing loss of 0.043909091502428055\n",
      "Epoch 11/100\n"
     ]
    },
    {
     "name": "stderr",
     "output_type": "stream",
     "text": [
      "100%|██████████| 64/64 [01:13<00:00,  1.14s/it, loss=0.573]\n",
      "100%|██████████| 13/13 [00:13<00:00,  1.01s/it]\n"
     ]
    },
    {
     "name": "stdout",
     "output_type": "stream",
     "text": [
      "Epoch 11 average loss: 0.5803225692361593 with testing loss of 0.04383718967437744\n",
      "Epoch 12/100\n"
     ]
    },
    {
     "name": "stderr",
     "output_type": "stream",
     "text": [
      "100%|██████████| 64/64 [01:10<00:00,  1.10s/it, loss=0.567]\n",
      "100%|██████████| 13/13 [00:12<00:00,  1.01it/s]\n"
     ]
    },
    {
     "name": "stdout",
     "output_type": "stream",
     "text": [
      "Epoch 12 average loss: 0.5698895566165447 with testing loss of 0.0455230213701725\n",
      "Epoch 13/100\n"
     ]
    },
    {
     "name": "stderr",
     "output_type": "stream",
     "text": [
      "100%|██████████| 64/64 [01:10<00:00,  1.11s/it, loss=0.554]\n",
      "100%|██████████| 13/13 [00:12<00:00,  1.01it/s]\n"
     ]
    },
    {
     "name": "stdout",
     "output_type": "stream",
     "text": [
      "Epoch 13 average loss: 0.5596702257171273 with testing loss of 0.04145966097712517\n",
      "Epoch 14/100\n"
     ]
    },
    {
     "name": "stderr",
     "output_type": "stream",
     "text": [
      "100%|██████████| 64/64 [01:09<00:00,  1.09s/it, loss=0.548]\n",
      "100%|██████████| 13/13 [00:13<00:00,  1.03s/it]\n"
     ]
    },
    {
     "name": "stdout",
     "output_type": "stream",
     "text": [
      "Epoch 14 average loss: 0.5497210854664445 with testing loss of 0.041913777589797974\n",
      "Epoch 15/100\n"
     ]
    },
    {
     "name": "stderr",
     "output_type": "stream",
     "text": [
      "100%|██████████| 64/64 [01:10<00:00,  1.10s/it, loss=0.531]\n",
      "100%|██████████| 13/13 [00:12<00:00,  1.06it/s]\n"
     ]
    },
    {
     "name": "stdout",
     "output_type": "stream",
     "text": [
      "Epoch 15 average loss: 0.5399793870747089 with testing loss of 0.0395377017557621\n",
      "Epoch 16/100\n"
     ]
    },
    {
     "name": "stderr",
     "output_type": "stream",
     "text": [
      "100%|██████████| 64/64 [01:06<00:00,  1.04s/it, loss=0.526]\n",
      "100%|██████████| 13/13 [00:12<00:00,  1.05it/s]\n"
     ]
    },
    {
     "name": "stdout",
     "output_type": "stream",
     "text": [
      "Epoch 16 average loss: 0.5305149285122752 with testing loss of 0.04330543056130409\n",
      "Epoch 17/100\n"
     ]
    },
    {
     "name": "stderr",
     "output_type": "stream",
     "text": [
      "100%|██████████| 64/64 [01:07<00:00,  1.05s/it, loss=0.503]\n",
      "100%|██████████| 13/13 [00:12<00:00,  1.04it/s]\n"
     ]
    },
    {
     "name": "stdout",
     "output_type": "stream",
     "text": [
      "Epoch 17 average loss: 0.521234811283648 with testing loss of 0.04223942756652832\n",
      "Epoch 18/100\n"
     ]
    },
    {
     "name": "stderr",
     "output_type": "stream",
     "text": [
      "100%|██████████| 64/64 [01:07<00:00,  1.06s/it, loss=0.5]  \n",
      "100%|██████████| 13/13 [00:12<00:00,  1.04it/s]\n"
     ]
    },
    {
     "name": "stdout",
     "output_type": "stream",
     "text": [
      "Epoch 18 average loss: 0.5122687043622136 with testing loss of 0.037988629192113876\n",
      "Epoch 19/100\n"
     ]
    },
    {
     "name": "stderr",
     "output_type": "stream",
     "text": [
      "100%|██████████| 64/64 [01:06<00:00,  1.04s/it, loss=0.488]\n",
      "100%|██████████| 13/13 [00:12<00:00,  1.06it/s]\n"
     ]
    },
    {
     "name": "stdout",
     "output_type": "stream",
     "text": [
      "Epoch 19 average loss: 0.5035063680261374 with testing loss of 0.03735070303082466\n",
      "Epoch 20/100\n"
     ]
    },
    {
     "name": "stderr",
     "output_type": "stream",
     "text": [
      "100%|██████████| 64/64 [01:07<00:00,  1.05s/it, loss=0.493]\n",
      "100%|██████████| 13/13 [00:11<00:00,  1.09it/s]\n"
     ]
    },
    {
     "name": "stdout",
     "output_type": "stream",
     "text": [
      "Epoch 20 average loss: 0.4950480950064957 with testing loss of 0.041801899671554565\n",
      "Epoch 21/100\n"
     ]
    },
    {
     "name": "stderr",
     "output_type": "stream",
     "text": [
      "100%|██████████| 64/64 [01:07<00:00,  1.05s/it, loss=0.49] \n",
      "100%|██████████| 13/13 [00:12<00:00,  1.07it/s]\n"
     ]
    },
    {
     "name": "stdout",
     "output_type": "stream",
     "text": [
      "Epoch 21 average loss: 0.48679743660613894 with testing loss of 0.0371873676776886\n",
      "Epoch 22/100\n"
     ]
    },
    {
     "name": "stderr",
     "output_type": "stream",
     "text": [
      "100%|██████████| 64/64 [01:07<00:00,  1.06s/it, loss=0.465]\n",
      "100%|██████████| 13/13 [00:12<00:00,  1.02it/s]\n"
     ]
    },
    {
     "name": "stdout",
     "output_type": "stream",
     "text": [
      "Epoch 22 average loss: 0.4787101433612406 with testing loss of 0.038378726691007614\n",
      "Epoch 23/100\n"
     ]
    },
    {
     "name": "stderr",
     "output_type": "stream",
     "text": [
      "100%|██████████| 64/64 [01:07<00:00,  1.06s/it, loss=0.477]\n",
      "100%|██████████| 13/13 [00:12<00:00,  1.08it/s]\n"
     ]
    },
    {
     "name": "stdout",
     "output_type": "stream",
     "text": [
      "Epoch 23 average loss: 0.47097973013296723 with testing loss of 0.03541867434978485\n",
      "Epoch 24/100\n"
     ]
    },
    {
     "name": "stderr",
     "output_type": "stream",
     "text": [
      "100%|██████████| 64/64 [01:07<00:00,  1.05s/it, loss=0.449]\n",
      "100%|██████████| 13/13 [00:12<00:00,  1.06it/s]\n"
     ]
    },
    {
     "name": "stdout",
     "output_type": "stream",
     "text": [
      "Epoch 24 average loss: 0.4633476766757667 with testing loss of 0.03754853829741478\n",
      "Epoch 25/100\n"
     ]
    },
    {
     "name": "stderr",
     "output_type": "stream",
     "text": [
      "100%|██████████| 64/64 [01:07<00:00,  1.05s/it, loss=0.456]\n",
      "100%|██████████| 13/13 [00:12<00:00,  1.05it/s]\n"
     ]
    },
    {
     "name": "stdout",
     "output_type": "stream",
     "text": [
      "Epoch 25 average loss: 0.45606185775250196 with testing loss of 0.035567205399274826\n",
      "Epoch 26/100\n"
     ]
    },
    {
     "name": "stderr",
     "output_type": "stream",
     "text": [
      "100%|██████████| 64/64 [01:07<00:00,  1.05s/it, loss=0.451]\n",
      "100%|██████████| 13/13 [00:12<00:00,  1.07it/s]\n"
     ]
    },
    {
     "name": "stdout",
     "output_type": "stream",
     "text": [
      "Epoch 26 average loss: 0.4489616462960839 with testing loss of 0.03699162229895592\n",
      "Epoch 27/100\n"
     ]
    },
    {
     "name": "stderr",
     "output_type": "stream",
     "text": [
      "100%|██████████| 64/64 [01:07<00:00,  1.06s/it, loss=0.426]\n",
      "100%|██████████| 13/13 [00:12<00:00,  1.06it/s]\n"
     ]
    },
    {
     "name": "stdout",
     "output_type": "stream",
     "text": [
      "Epoch 27 average loss: 0.442017185036093 with testing loss of 0.03374342992901802\n",
      "Epoch 28/100\n"
     ]
    },
    {
     "name": "stderr",
     "output_type": "stream",
     "text": [
      "100%|██████████| 64/64 [01:07<00:00,  1.06s/it, loss=0.43] \n",
      "100%|██████████| 13/13 [00:12<00:00,  1.04it/s]\n"
     ]
    },
    {
     "name": "stdout",
     "output_type": "stream",
     "text": [
      "Epoch 28 average loss: 0.43538736971095204 with testing loss of 0.03238853067159653\n",
      "Epoch 29/100\n"
     ]
    },
    {
     "name": "stderr",
     "output_type": "stream",
     "text": [
      "100%|██████████| 64/64 [01:07<00:00,  1.05s/it, loss=0.422]\n",
      "100%|██████████| 13/13 [00:12<00:00,  1.05it/s]\n"
     ]
    },
    {
     "name": "stdout",
     "output_type": "stream",
     "text": [
      "Epoch 29 average loss: 0.4289335482753813 with testing loss of 0.03286430984735489\n",
      "Epoch 30/100\n"
     ]
    },
    {
     "name": "stderr",
     "output_type": "stream",
     "text": [
      "100%|██████████| 64/64 [01:07<00:00,  1.06s/it, loss=0.425]\n",
      "100%|██████████| 13/13 [00:12<00:00,  1.05it/s]\n"
     ]
    },
    {
     "name": "stdout",
     "output_type": "stream",
     "text": [
      "Epoch 30 average loss: 0.4227253133431077 with testing loss of 0.03333330526947975\n",
      "Epoch 31/100\n"
     ]
    },
    {
     "name": "stderr",
     "output_type": "stream",
     "text": [
      "100%|██████████| 64/64 [01:07<00:00,  1.05s/it, loss=0.406]\n",
      "100%|██████████| 13/13 [00:12<00:00,  1.04it/s]\n"
     ]
    },
    {
     "name": "stdout",
     "output_type": "stream",
     "text": [
      "Epoch 31 average loss: 0.4166466323658824 with testing loss of 0.03083968348801136\n",
      "Epoch 32/100\n"
     ]
    },
    {
     "name": "stderr",
     "output_type": "stream",
     "text": [
      "100%|██████████| 64/64 [01:07<00:00,  1.06s/it, loss=0.413]\n",
      "100%|██████████| 13/13 [00:13<00:00,  1.00s/it]\n"
     ]
    },
    {
     "name": "stdout",
     "output_type": "stream",
     "text": [
      "Epoch 32 average loss: 0.4108598087914288 with testing loss of 0.029493045061826706\n",
      "Epoch 33/100\n"
     ]
    },
    {
     "name": "stderr",
     "output_type": "stream",
     "text": [
      "100%|██████████| 64/64 [01:07<00:00,  1.06s/it, loss=0.397]\n",
      "100%|██████████| 13/13 [00:12<00:00,  1.07it/s]\n"
     ]
    },
    {
     "name": "stdout",
     "output_type": "stream",
     "text": [
      "Epoch 33 average loss: 0.40518762404099107 with testing loss of 0.030325831845402718\n",
      "Epoch 34/100\n"
     ]
    },
    {
     "name": "stderr",
     "output_type": "stream",
     "text": [
      "100%|██████████| 64/64 [01:09<00:00,  1.08s/it, loss=0.397]\n",
      "100%|██████████| 13/13 [00:12<00:00,  1.07it/s]\n"
     ]
    },
    {
     "name": "stdout",
     "output_type": "stream",
     "text": [
      "Epoch 34 average loss: 0.39976340578868985 with testing loss of 0.029376138001680374\n",
      "Epoch 35/100\n"
     ]
    },
    {
     "name": "stderr",
     "output_type": "stream",
     "text": [
      "100%|██████████| 64/64 [01:06<00:00,  1.04s/it, loss=0.407]\n",
      "100%|██████████| 13/13 [00:12<00:00,  1.08it/s]\n"
     ]
    },
    {
     "name": "stdout",
     "output_type": "stream",
     "text": [
      "Epoch 35 average loss: 0.3945610555820167 with testing loss of 0.03291512280702591\n",
      "Epoch 36/100\n"
     ]
    },
    {
     "name": "stderr",
     "output_type": "stream",
     "text": [
      "100%|██████████| 64/64 [01:07<00:00,  1.05s/it, loss=0.401]\n",
      "100%|██████████| 13/13 [00:12<00:00,  1.06it/s]\n"
     ]
    },
    {
     "name": "stdout",
     "output_type": "stream",
     "text": [
      "Epoch 36 average loss: 0.38948369259014726 with testing loss of 0.02560555376112461\n",
      "Epoch 37/100\n"
     ]
    },
    {
     "name": "stderr",
     "output_type": "stream",
     "text": [
      "100%|██████████| 64/64 [01:06<00:00,  1.05s/it, loss=0.371]\n",
      "100%|██████████| 13/13 [00:12<00:00,  1.04it/s]\n"
     ]
    },
    {
     "name": "stdout",
     "output_type": "stream",
     "text": [
      "Epoch 37 average loss: 0.3844992551021278 with testing loss of 0.03201055899262428\n",
      "Epoch 38/100\n"
     ]
    },
    {
     "name": "stderr",
     "output_type": "stream",
     "text": [
      "100%|██████████| 64/64 [01:06<00:00,  1.04s/it, loss=0.369]\n",
      "100%|██████████| 13/13 [00:12<00:00,  1.07it/s]\n"
     ]
    },
    {
     "name": "stdout",
     "output_type": "stream",
     "text": [
      "Epoch 38 average loss: 0.3797812694683671 with testing loss of 0.03250329568982124\n",
      "Epoch 39/100\n"
     ]
    },
    {
     "name": "stderr",
     "output_type": "stream",
     "text": [
      "100%|██████████| 64/64 [01:06<00:00,  1.03s/it, loss=0.366]\n",
      "100%|██████████| 13/13 [00:12<00:00,  1.07it/s]\n"
     ]
    },
    {
     "name": "stdout",
     "output_type": "stream",
     "text": [
      "Epoch 39 average loss: 0.3752288958057761 with testing loss of 0.027523266151547432\n",
      "Epoch 40/100\n"
     ]
    },
    {
     "name": "stderr",
     "output_type": "stream",
     "text": [
      "100%|██████████| 64/64 [01:06<00:00,  1.04s/it, loss=0.374]\n",
      "100%|██████████| 13/13 [00:12<00:00,  1.07it/s]\n"
     ]
    },
    {
     "name": "stdout",
     "output_type": "stream",
     "text": [
      "Epoch 40 average loss: 0.37087072897702456 with testing loss of 0.028637852519750595\n",
      "Epoch 41/100\n"
     ]
    },
    {
     "name": "stderr",
     "output_type": "stream",
     "text": [
      "100%|██████████| 64/64 [01:06<00:00,  1.04s/it, loss=0.398]\n",
      "100%|██████████| 13/13 [00:12<00:00,  1.05it/s]\n"
     ]
    },
    {
     "name": "stdout",
     "output_type": "stream",
     "text": [
      "Epoch 41 average loss: 0.36672773072496057 with testing loss of 0.024083290249109268\n",
      "Epoch 42/100\n"
     ]
    },
    {
     "name": "stderr",
     "output_type": "stream",
     "text": [
      "100%|██████████| 64/64 [01:08<00:00,  1.08s/it, loss=0.369]\n",
      "100%|██████████| 13/13 [00:12<00:00,  1.04it/s]\n"
     ]
    },
    {
     "name": "stdout",
     "output_type": "stream",
     "text": [
      "Epoch 42 average loss: 0.36255497112870216 with testing loss of 0.027656463906168938\n",
      "Epoch 43/100\n"
     ]
    },
    {
     "name": "stderr",
     "output_type": "stream",
     "text": [
      "100%|██████████| 64/64 [01:07<00:00,  1.05s/it, loss=0.336]\n",
      "100%|██████████| 13/13 [00:12<00:00,  1.04it/s]\n"
     ]
    },
    {
     "name": "stdout",
     "output_type": "stream",
     "text": [
      "Epoch 43 average loss: 0.35851036151871085 with testing loss of 0.027944404631853104\n",
      "Epoch 44/100\n"
     ]
    },
    {
     "name": "stderr",
     "output_type": "stream",
     "text": [
      "100%|██████████| 64/64 [01:07<00:00,  1.05s/it, loss=0.368]\n",
      "100%|██████████| 13/13 [00:12<00:00,  1.00it/s]\n"
     ]
    },
    {
     "name": "stdout",
     "output_type": "stream",
     "text": [
      "Epoch 44 average loss: 0.3548305034637451 with testing loss of 0.026396827772259712\n",
      "Epoch 45/100\n"
     ]
    },
    {
     "name": "stderr",
     "output_type": "stream",
     "text": [
      "100%|██████████| 64/64 [01:06<00:00,  1.04s/it, loss=0.362]\n",
      "100%|██████████| 13/13 [00:12<00:00,  1.06it/s]\n"
     ]
    },
    {
     "name": "stdout",
     "output_type": "stream",
     "text": [
      "Epoch 45 average loss: 0.3511568955145776 with testing loss of 0.026970919221639633\n",
      "Epoch 46/100\n"
     ]
    },
    {
     "name": "stderr",
     "output_type": "stream",
     "text": [
      "100%|██████████| 64/64 [01:07<00:00,  1.05s/it, loss=0.341]\n",
      "100%|██████████| 13/13 [00:12<00:00,  1.04it/s]\n"
     ]
    },
    {
     "name": "stdout",
     "output_type": "stream",
     "text": [
      "Epoch 46 average loss: 0.34756343672052026 with testing loss of 0.02858647145330906\n",
      "Epoch 47/100\n"
     ]
    },
    {
     "name": "stderr",
     "output_type": "stream",
     "text": [
      "100%|██████████| 64/64 [01:09<00:00,  1.08s/it, loss=0.339]\n",
      "100%|██████████| 13/13 [00:12<00:00,  1.00it/s]\n"
     ]
    },
    {
     "name": "stdout",
     "output_type": "stream",
     "text": [
      "Epoch 47 average loss: 0.3441659929230809 with testing loss of 0.02397289127111435\n",
      "Epoch 48/100\n"
     ]
    },
    {
     "name": "stderr",
     "output_type": "stream",
     "text": [
      "100%|██████████| 64/64 [01:09<00:00,  1.09s/it, loss=0.318]\n",
      "100%|██████████| 13/13 [00:12<00:00,  1.02it/s]\n"
     ]
    },
    {
     "name": "stdout",
     "output_type": "stream",
     "text": [
      "Epoch 48 average loss: 0.34081867430359125 with testing loss of 0.025392809882760048\n",
      "Epoch 49/100\n"
     ]
    },
    {
     "name": "stderr",
     "output_type": "stream",
     "text": [
      "100%|██████████| 64/64 [01:10<00:00,  1.10s/it, loss=0.358]\n",
      "100%|██████████| 13/13 [00:12<00:00,  1.07it/s]\n"
     ]
    },
    {
     "name": "stdout",
     "output_type": "stream",
     "text": [
      "Epoch 49 average loss: 0.3378031440079212 with testing loss of 0.02538568712770939\n",
      "Epoch 50/100\n"
     ]
    },
    {
     "name": "stderr",
     "output_type": "stream",
     "text": [
      "100%|██████████| 64/64 [01:07<00:00,  1.05s/it, loss=0.341]\n",
      "100%|██████████| 13/13 [00:13<00:00,  1.05s/it]\n"
     ]
    },
    {
     "name": "stdout",
     "output_type": "stream",
     "text": [
      "Epoch 50 average loss: 0.33470576256513596 with testing loss of 0.02538434974849224\n",
      "Epoch 51/100\n"
     ]
    },
    {
     "name": "stderr",
     "output_type": "stream",
     "text": [
      "100%|██████████| 64/64 [01:11<00:00,  1.12s/it, loss=0.32] \n",
      "100%|██████████| 13/13 [00:12<00:00,  1.07it/s]\n"
     ]
    },
    {
     "name": "stdout",
     "output_type": "stream",
     "text": [
      "Epoch 51 average loss: 0.3317028833553195 with testing loss of 0.025348668918013573\n",
      "Epoch 52/100\n"
     ]
    },
    {
     "name": "stderr",
     "output_type": "stream",
     "text": [
      "100%|██████████| 64/64 [01:06<00:00,  1.04s/it, loss=0.361]\n",
      "100%|██████████| 13/13 [00:11<00:00,  1.09it/s]\n"
     ]
    },
    {
     "name": "stdout",
     "output_type": "stream",
     "text": [
      "Epoch 52 average loss: 0.32902099238708615 with testing loss of 0.026867913082242012\n",
      "Epoch 53/100\n"
     ]
    },
    {
     "name": "stderr",
     "output_type": "stream",
     "text": [
      "100%|██████████| 64/64 [01:06<00:00,  1.03s/it, loss=0.331]\n",
      "100%|██████████| 13/13 [00:12<00:00,  1.05it/s]\n"
     ]
    },
    {
     "name": "stdout",
     "output_type": "stream",
     "text": [
      "Epoch 53 average loss: 0.326192082837224 with testing loss of 0.022885456681251526\n",
      "Epoch 54/100\n"
     ]
    },
    {
     "name": "stderr",
     "output_type": "stream",
     "text": [
      "100%|██████████| 64/64 [01:11<00:00,  1.12s/it, loss=0.331]\n",
      "100%|██████████| 13/13 [00:13<00:00,  1.03s/it]\n"
     ]
    },
    {
     "name": "stdout",
     "output_type": "stream",
     "text": [
      "Epoch 54 average loss: 0.3235684260725975 with testing loss of 0.02813788689672947\n",
      "Epoch 55/100\n"
     ]
    },
    {
     "name": "stderr",
     "output_type": "stream",
     "text": [
      "100%|██████████| 64/64 [01:13<00:00,  1.14s/it, loss=0.333]\n",
      "100%|██████████| 13/13 [00:13<00:00,  1.04s/it]\n"
     ]
    },
    {
     "name": "stdout",
     "output_type": "stream",
     "text": [
      "Epoch 55 average loss: 0.3210467058233917 with testing loss of 0.024693498387932777\n",
      "Epoch 56/100\n"
     ]
    },
    {
     "name": "stderr",
     "output_type": "stream",
     "text": [
      "100%|██████████| 64/64 [01:11<00:00,  1.12s/it, loss=0.324]\n",
      "100%|██████████| 13/13 [00:13<00:00,  1.03s/it]\n"
     ]
    },
    {
     "name": "stdout",
     "output_type": "stream",
     "text": [
      "Epoch 56 average loss: 0.3185771689750254 with testing loss of 0.024923188611865044\n",
      "Epoch 57/100\n"
     ]
    },
    {
     "name": "stderr",
     "output_type": "stream",
     "text": [
      "100%|██████████| 64/64 [01:11<00:00,  1.12s/it, loss=0.311]\n",
      "100%|██████████| 13/13 [00:12<00:00,  1.03it/s]\n"
     ]
    },
    {
     "name": "stdout",
     "output_type": "stream",
     "text": [
      "Epoch 57 average loss: 0.3161795726045966 with testing loss of 0.024650687351822853\n",
      "Epoch 58/100\n"
     ]
    },
    {
     "name": "stderr",
     "output_type": "stream",
     "text": [
      "100%|██████████| 64/64 [01:10<00:00,  1.10s/it, loss=0.305]\n",
      "100%|██████████| 13/13 [00:13<00:00,  1.03s/it]\n"
     ]
    },
    {
     "name": "stdout",
     "output_type": "stream",
     "text": [
      "Epoch 58 average loss: 0.31389343412593007 with testing loss of 0.0227966271340847\n",
      "Epoch 59/100\n"
     ]
    },
    {
     "name": "stderr",
     "output_type": "stream",
     "text": [
      "100%|██████████| 64/64 [01:07<00:00,  1.05s/it, loss=0.294]\n",
      "100%|██████████| 13/13 [00:12<00:00,  1.03it/s]\n"
     ]
    },
    {
     "name": "stdout",
     "output_type": "stream",
     "text": [
      "Epoch 59 average loss: 0.3116674078628421 with testing loss of 0.022457556799054146\n",
      "Epoch 60/100\n"
     ]
    },
    {
     "name": "stderr",
     "output_type": "stream",
     "text": [
      "100%|██████████| 64/64 [01:06<00:00,  1.04s/it, loss=0.31] \n",
      "100%|██████████| 13/13 [00:11<00:00,  1.09it/s]\n"
     ]
    },
    {
     "name": "stdout",
     "output_type": "stream",
     "text": [
      "Epoch 60 average loss: 0.3096131728962064 with testing loss of 0.02060733735561371\n",
      "Epoch 61/100\n"
     ]
    },
    {
     "name": "stderr",
     "output_type": "stream",
     "text": [
      "100%|██████████| 64/64 [01:06<00:00,  1.04s/it, loss=0.314]\n",
      "100%|██████████| 13/13 [00:12<00:00,  1.07it/s]\n"
     ]
    },
    {
     "name": "stdout",
     "output_type": "stream",
     "text": [
      "Epoch 61 average loss: 0.30759339313954115 with testing loss of 0.022606998682022095\n",
      "Epoch 62/100\n"
     ]
    },
    {
     "name": "stderr",
     "output_type": "stream",
     "text": [
      "100%|██████████| 64/64 [01:06<00:00,  1.03s/it, loss=0.334]\n",
      "100%|██████████| 13/13 [00:12<00:00,  1.01it/s]\n"
     ]
    },
    {
     "name": "stdout",
     "output_type": "stream",
     "text": [
      "Epoch 62 average loss: 0.30569906951859593 with testing loss of 0.02816016785800457\n",
      "Epoch 63/100\n"
     ]
    },
    {
     "name": "stderr",
     "output_type": "stream",
     "text": [
      "100%|██████████| 64/64 [01:08<00:00,  1.07s/it, loss=0.324]\n",
      "100%|██████████| 13/13 [00:12<00:00,  1.02it/s]\n"
     ]
    },
    {
     "name": "stdout",
     "output_type": "stream",
     "text": [
      "Epoch 63 average loss: 0.30377297196537256 with testing loss of 0.02405899204313755\n",
      "Epoch 64/100\n"
     ]
    },
    {
     "name": "stderr",
     "output_type": "stream",
     "text": [
      "100%|██████████| 64/64 [01:08<00:00,  1.07s/it, loss=0.329]\n",
      "100%|██████████| 13/13 [00:12<00:00,  1.05it/s]\n"
     ]
    },
    {
     "name": "stdout",
     "output_type": "stream",
     "text": [
      "Epoch 64 average loss: 0.30196488089859486 with testing loss of 0.027864981442689896\n",
      "Epoch 65/100\n"
     ]
    },
    {
     "name": "stderr",
     "output_type": "stream",
     "text": [
      "100%|██████████| 64/64 [01:09<00:00,  1.09s/it, loss=0.313]\n",
      "100%|██████████| 13/13 [00:12<00:00,  1.01it/s]\n"
     ]
    },
    {
     "name": "stdout",
     "output_type": "stream",
     "text": [
      "Epoch 65 average loss: 0.30014851642772555 with testing loss of 0.022232677787542343\n",
      "Epoch 66/100\n"
     ]
    },
    {
     "name": "stderr",
     "output_type": "stream",
     "text": [
      "100%|██████████| 64/64 [01:09<00:00,  1.09s/it, loss=0.297]\n",
      "100%|██████████| 13/13 [00:13<00:00,  1.02s/it]\n"
     ]
    },
    {
     "name": "stdout",
     "output_type": "stream",
     "text": [
      "Epoch 66 average loss: 0.2983942381106317 with testing loss of 0.028927553445100784\n",
      "Epoch 67/100\n"
     ]
    },
    {
     "name": "stderr",
     "output_type": "stream",
     "text": [
      "100%|██████████| 64/64 [01:10<00:00,  1.10s/it, loss=0.303]\n",
      "100%|██████████| 13/13 [00:12<00:00,  1.00it/s]\n"
     ]
    },
    {
     "name": "stdout",
     "output_type": "stream",
     "text": [
      "Epoch 67 average loss: 0.29677654756233096 with testing loss of 0.02209579199552536\n",
      "Epoch 68/100\n"
     ]
    },
    {
     "name": "stderr",
     "output_type": "stream",
     "text": [
      "100%|██████████| 64/64 [01:11<00:00,  1.11s/it, loss=0.273]\n",
      "100%|██████████| 13/13 [00:13<00:00,  1.02s/it]\n"
     ]
    },
    {
     "name": "stdout",
     "output_type": "stream",
     "text": [
      "Epoch 68 average loss: 0.2950883712619543 with testing loss of 0.025059126317501068\n",
      "Epoch 69/100\n"
     ]
    },
    {
     "name": "stderr",
     "output_type": "stream",
     "text": [
      "100%|██████████| 64/64 [01:10<00:00,  1.10s/it, loss=0.282]\n",
      "100%|██████████| 13/13 [00:13<00:00,  1.02s/it]\n"
     ]
    },
    {
     "name": "stdout",
     "output_type": "stream",
     "text": [
      "Epoch 69 average loss: 0.2935898401774466 with testing loss of 0.027731137350201607\n",
      "Epoch 70/100\n"
     ]
    },
    {
     "name": "stderr",
     "output_type": "stream",
     "text": [
      "100%|██████████| 64/64 [01:13<00:00,  1.15s/it, loss=0.288]\n",
      "100%|██████████| 13/13 [00:13<00:00,  1.04s/it]\n"
     ]
    },
    {
     "name": "stdout",
     "output_type": "stream",
     "text": [
      "Epoch 70 average loss: 0.2921348875388503 with testing loss of 0.024878578260540962\n",
      "Epoch 71/100\n"
     ]
    },
    {
     "name": "stderr",
     "output_type": "stream",
     "text": [
      "100%|██████████| 64/64 [01:11<00:00,  1.11s/it, loss=0.298]\n",
      "100%|██████████| 13/13 [00:12<00:00,  1.02it/s]\n"
     ]
    },
    {
     "name": "stdout",
     "output_type": "stream",
     "text": [
      "Epoch 71 average loss: 0.29074303759261966 with testing loss of 0.021474778652191162\n",
      "Epoch 72/100\n"
     ]
    },
    {
     "name": "stderr",
     "output_type": "stream",
     "text": [
      "100%|██████████| 64/64 [01:11<00:00,  1.11s/it, loss=0.303]\n",
      "100%|██████████| 13/13 [00:13<00:00,  1.02s/it]\n"
     ]
    },
    {
     "name": "stdout",
     "output_type": "stream",
     "text": [
      "Epoch 72 average loss: 0.28938569128513336 with testing loss of 0.02467629685997963\n",
      "Epoch 73/100\n"
     ]
    },
    {
     "name": "stderr",
     "output_type": "stream",
     "text": [
      "100%|██████████| 64/64 [01:14<00:00,  1.16s/it, loss=0.32] \n",
      "100%|██████████| 13/13 [00:12<00:00,  1.01it/s]\n"
     ]
    },
    {
     "name": "stdout",
     "output_type": "stream",
     "text": [
      "Epoch 73 average loss: 0.28811280708760023 with testing loss of 0.02628917247056961\n",
      "Epoch 74/100\n"
     ]
    },
    {
     "name": "stderr",
     "output_type": "stream",
     "text": [
      "100%|██████████| 64/64 [01:12<00:00,  1.13s/it, loss=0.274]\n",
      "100%|██████████| 13/13 [00:12<00:00,  1.00it/s]\n"
     ]
    },
    {
     "name": "stdout",
     "output_type": "stream",
     "text": [
      "Epoch 74 average loss: 0.28667292883619666 with testing loss of 0.02830479107797146\n",
      "Epoch 75/100\n"
     ]
    },
    {
     "name": "stderr",
     "output_type": "stream",
     "text": [
      "100%|██████████| 64/64 [01:12<00:00,  1.13s/it, loss=0.266]\n",
      "100%|██████████| 13/13 [00:13<00:00,  1.01s/it]\n"
     ]
    },
    {
     "name": "stdout",
     "output_type": "stream",
     "text": [
      "Epoch 75 average loss: 0.28540657786652446 with testing loss of 0.02218768373131752\n",
      "Epoch 76/100\n"
     ]
    },
    {
     "name": "stderr",
     "output_type": "stream",
     "text": [
      "100%|██████████| 64/64 [01:09<00:00,  1.08s/it, loss=0.275]\n",
      "100%|██████████| 13/13 [00:12<00:00,  1.03it/s]\n"
     ]
    },
    {
     "name": "stdout",
     "output_type": "stream",
     "text": [
      "Epoch 76 average loss: 0.2842394900508225 with testing loss of 0.020123744383454323\n",
      "Epoch 77/100\n"
     ]
    },
    {
     "name": "stderr",
     "output_type": "stream",
     "text": [
      "100%|██████████| 64/64 [01:10<00:00,  1.10s/it, loss=0.263]\n",
      "100%|██████████| 13/13 [00:12<00:00,  1.01it/s]\n"
     ]
    },
    {
     "name": "stdout",
     "output_type": "stream",
     "text": [
      "Epoch 77 average loss: 0.2830415512435138 with testing loss of 0.018923351541161537\n",
      "Epoch 78/100\n"
     ]
    },
    {
     "name": "stderr",
     "output_type": "stream",
     "text": [
      "100%|██████████| 64/64 [01:10<00:00,  1.10s/it, loss=0.253]\n",
      "100%|██████████| 13/13 [00:13<00:00,  1.01s/it]\n"
     ]
    },
    {
     "name": "stdout",
     "output_type": "stream",
     "text": [
      "Epoch 78 average loss: 0.2818850197363645 with testing loss of 0.018572138622403145\n",
      "Epoch 79/100\n"
     ]
    },
    {
     "name": "stderr",
     "output_type": "stream",
     "text": [
      "100%|██████████| 64/64 [01:11<00:00,  1.12s/it, loss=0.268]\n",
      "100%|██████████| 13/13 [00:13<00:00,  1.05s/it]\n"
     ]
    },
    {
     "name": "stdout",
     "output_type": "stream",
     "text": [
      "Epoch 79 average loss: 0.2808552065398544 with testing loss of 0.021513137966394424\n",
      "Epoch 80/100\n"
     ]
    },
    {
     "name": "stderr",
     "output_type": "stream",
     "text": [
      "100%|██████████| 64/64 [01:09<00:00,  1.09s/it, loss=0.265]\n",
      "100%|██████████| 13/13 [00:12<00:00,  1.04it/s]\n"
     ]
    },
    {
     "name": "stdout",
     "output_type": "stream",
     "text": [
      "Epoch 80 average loss: 0.27979950816370547 with testing loss of 0.019360052421689034\n",
      "Epoch 81/100\n"
     ]
    },
    {
     "name": "stderr",
     "output_type": "stream",
     "text": [
      "100%|██████████| 64/64 [01:08<00:00,  1.08s/it, loss=0.277]\n",
      "100%|██████████| 13/13 [00:12<00:00,  1.02it/s]\n"
     ]
    },
    {
     "name": "stdout",
     "output_type": "stream",
     "text": [
      "Epoch 81 average loss: 0.27883631899021566 with testing loss of 0.024522261694073677\n",
      "Epoch 82/100\n"
     ]
    },
    {
     "name": "stderr",
     "output_type": "stream",
     "text": [
      "100%|██████████| 64/64 [01:08<00:00,  1.08s/it, loss=0.251]\n",
      "100%|██████████| 13/13 [00:12<00:00,  1.02it/s]\n"
     ]
    },
    {
     "name": "stdout",
     "output_type": "stream",
     "text": [
      "Epoch 82 average loss: 0.27776746288873255 with testing loss of 0.02044270932674408\n",
      "Epoch 83/100\n"
     ]
    },
    {
     "name": "stderr",
     "output_type": "stream",
     "text": [
      "100%|██████████| 64/64 [01:09<00:00,  1.09s/it, loss=0.276]\n",
      "100%|██████████| 13/13 [00:13<00:00,  1.00s/it]\n"
     ]
    },
    {
     "name": "stdout",
     "output_type": "stream",
     "text": [
      "Epoch 83 average loss: 0.27690772456116974 with testing loss of 0.024500755593180656\n",
      "Epoch 84/100\n"
     ]
    },
    {
     "name": "stderr",
     "output_type": "stream",
     "text": [
      "100%|██████████| 64/64 [01:05<00:00,  1.03s/it, loss=0.316]\n",
      "100%|██████████| 13/13 [00:12<00:00,  1.02it/s]\n"
     ]
    },
    {
     "name": "stdout",
     "output_type": "stream",
     "text": [
      "Epoch 84 average loss: 0.27613051887601614 with testing loss of 0.025309929624199867\n",
      "Epoch 85/100\n"
     ]
    },
    {
     "name": "stderr",
     "output_type": "stream",
     "text": [
      "100%|██████████| 64/64 [01:05<00:00,  1.02s/it, loss=0.264]\n",
      "100%|██████████| 13/13 [00:12<00:00,  1.06it/s]\n"
     ]
    },
    {
     "name": "stdout",
     "output_type": "stream",
     "text": [
      "Epoch 85 average loss: 0.27507221954874694 with testing loss of 0.021433129906654358\n",
      "Epoch 86/100\n"
     ]
    },
    {
     "name": "stderr",
     "output_type": "stream",
     "text": [
      "100%|██████████| 64/64 [01:05<00:00,  1.03s/it, loss=0.278]\n",
      "100%|██████████| 13/13 [00:11<00:00,  1.09it/s]\n"
     ]
    },
    {
     "name": "stdout",
     "output_type": "stream",
     "text": [
      "Epoch 86 average loss: 0.2742618788033724 with testing loss of 0.02387085184454918\n",
      "Epoch 87/100\n"
     ]
    },
    {
     "name": "stderr",
     "output_type": "stream",
     "text": [
      "100%|██████████| 64/64 [01:06<00:00,  1.03s/it, loss=0.249]\n",
      "100%|██████████| 13/13 [00:12<00:00,  1.06it/s]\n"
     ]
    },
    {
     "name": "stdout",
     "output_type": "stream",
     "text": [
      "Epoch 87 average loss: 0.27333381143398583 with testing loss of 0.02089138887822628\n",
      "Epoch 88/100\n"
     ]
    },
    {
     "name": "stderr",
     "output_type": "stream",
     "text": [
      "100%|██████████| 64/64 [01:05<00:00,  1.03s/it, loss=0.278]\n",
      "100%|██████████| 13/13 [00:12<00:00,  1.07it/s]\n"
     ]
    },
    {
     "name": "stdout",
     "output_type": "stream",
     "text": [
      "Epoch 88 average loss: 0.2726305259857327 with testing loss of 0.020257649943232536\n",
      "Epoch 89/100\n"
     ]
    },
    {
     "name": "stderr",
     "output_type": "stream",
     "text": [
      "100%|██████████| 64/64 [01:06<00:00,  1.03s/it, loss=0.28] \n",
      "100%|██████████| 13/13 [00:13<00:00,  1.02s/it]\n"
     ]
    },
    {
     "name": "stdout",
     "output_type": "stream",
     "text": [
      "Epoch 89 average loss: 0.27186522516421974 with testing loss of 0.02514961175620556\n",
      "Epoch 90/100\n"
     ]
    },
    {
     "name": "stderr",
     "output_type": "stream",
     "text": [
      "100%|██████████| 64/64 [01:07<00:00,  1.05s/it, loss=0.281]\n",
      "100%|██████████| 13/13 [00:12<00:00,  1.06it/s]\n"
     ]
    },
    {
     "name": "stdout",
     "output_type": "stream",
     "text": [
      "Epoch 90 average loss: 0.2711120645981282 with testing loss of 0.017853524535894394\n",
      "Epoch 91/100\n"
     ]
    },
    {
     "name": "stderr",
     "output_type": "stream",
     "text": [
      "100%|██████████| 64/64 [01:08<00:00,  1.08s/it, loss=0.264]\n",
      "100%|██████████| 13/13 [00:12<00:00,  1.04it/s]\n"
     ]
    },
    {
     "name": "stdout",
     "output_type": "stream",
     "text": [
      "Epoch 91 average loss: 0.27032613893970847 with testing loss of 0.02254546247422695\n",
      "Epoch 92/100\n"
     ]
    },
    {
     "name": "stderr",
     "output_type": "stream",
     "text": [
      "100%|██████████| 64/64 [01:07<00:00,  1.06s/it, loss=0.255]\n",
      "100%|██████████| 13/13 [00:11<00:00,  1.09it/s]\n"
     ]
    },
    {
     "name": "stdout",
     "output_type": "stream",
     "text": [
      "Epoch 92 average loss: 0.2695917545352131 with testing loss of 0.016232723370194435\n",
      "Epoch 93/100\n"
     ]
    },
    {
     "name": "stderr",
     "output_type": "stream",
     "text": [
      "100%|██████████| 64/64 [01:06<00:00,  1.04s/it, loss=0.285]\n",
      "100%|██████████| 13/13 [00:12<00:00,  1.02it/s]\n"
     ]
    },
    {
     "name": "stdout",
     "output_type": "stream",
     "text": [
      "Epoch 93 average loss: 0.269007851369679 with testing loss of 0.020157385617494583\n",
      "Epoch 94/100\n"
     ]
    },
    {
     "name": "stderr",
     "output_type": "stream",
     "text": [
      "100%|██████████| 64/64 [01:09<00:00,  1.09s/it, loss=0.261]\n",
      "100%|██████████| 13/13 [00:12<00:00,  1.01it/s]\n"
     ]
    },
    {
     "name": "stdout",
     "output_type": "stream",
     "text": [
      "Epoch 94 average loss: 0.2682656121905893 with testing loss of 0.01946147345006466\n",
      "Epoch 95/100\n"
     ]
    },
    {
     "name": "stderr",
     "output_type": "stream",
     "text": [
      "100%|██████████| 64/64 [01:09<00:00,  1.08s/it, loss=0.241]\n",
      "100%|██████████| 13/13 [00:11<00:00,  1.09it/s]\n"
     ]
    },
    {
     "name": "stdout",
     "output_type": "stream",
     "text": [
      "Epoch 95 average loss: 0.26755376579239964 with testing loss of 0.0251374039798975\n",
      "Epoch 96/100\n"
     ]
    },
    {
     "name": "stderr",
     "output_type": "stream",
     "text": [
      "100%|██████████| 64/64 [01:07<00:00,  1.05s/it, loss=0.255]\n",
      "100%|██████████| 13/13 [00:12<00:00,  1.08it/s]\n"
     ]
    },
    {
     "name": "stdout",
     "output_type": "stream",
     "text": [
      "Epoch 96 average loss: 0.2669812529347837 with testing loss of 0.022934790700674057\n",
      "Epoch 97/100\n"
     ]
    },
    {
     "name": "stderr",
     "output_type": "stream",
     "text": [
      "100%|██████████| 64/64 [01:06<00:00,  1.04s/it, loss=0.272]\n",
      "100%|██████████| 13/13 [00:12<00:00,  1.08it/s]\n"
     ]
    },
    {
     "name": "stdout",
     "output_type": "stream",
     "text": [
      "Epoch 97 average loss: 0.2664372813887894 with testing loss of 0.023356301710009575\n",
      "Epoch 98/100\n"
     ]
    },
    {
     "name": "stderr",
     "output_type": "stream",
     "text": [
      "100%|██████████| 64/64 [01:06<00:00,  1.03s/it, loss=0.25] \n",
      "100%|██████████| 13/13 [00:12<00:00,  1.06it/s]\n"
     ]
    },
    {
     "name": "stdout",
     "output_type": "stream",
     "text": [
      "Epoch 98 average loss: 0.265776411164552 with testing loss of 0.017748035490512848\n",
      "Epoch 99/100\n"
     ]
    },
    {
     "name": "stderr",
     "output_type": "stream",
     "text": [
      "100%|██████████| 64/64 [01:06<00:00,  1.04s/it, loss=0.263]\n",
      "100%|██████████| 13/13 [00:11<00:00,  1.10it/s]\n"
     ]
    },
    {
     "name": "stdout",
     "output_type": "stream",
     "text": [
      "Epoch 99 average loss: 0.2652573613449931 with testing loss of 0.020988788455724716\n",
      "Epoch 100/100\n"
     ]
    },
    {
     "name": "stderr",
     "output_type": "stream",
     "text": [
      "100%|██████████| 64/64 [01:06<00:00,  1.03s/it, loss=0.29] \n",
      "100%|██████████| 13/13 [00:12<00:00,  1.04it/s]\n"
     ]
    },
    {
     "name": "stdout",
     "output_type": "stream",
     "text": [
      "Epoch 100 average loss: 0.26479940698482096 with testing loss of 0.016836050897836685\n",
      "Training complete!\n"
     ]
    }
   ],
   "execution_count": 7
  },
  {
   "metadata": {
    "ExecuteTime": {
     "end_time": "2024-05-14T22:46:58.040452Z",
     "start_time": "2024-05-14T22:46:58.036074Z"
    }
   },
   "cell_type": "code",
   "source": "state.keys()",
   "id": "d15c0ff57725cdf0",
   "outputs": [
    {
     "data": {
      "text/plain": [
       "dict_keys(['loss', 'epochs', 'test_loss'])"
      ]
     },
     "execution_count": 9,
     "metadata": {},
     "output_type": "execute_result"
    }
   ],
   "execution_count": 9
  },
  {
   "metadata": {
    "ExecuteTime": {
     "end_time": "2024-05-14T22:47:47.611740Z",
     "start_time": "2024-05-14T22:47:47.571815Z"
    }
   },
   "cell_type": "code",
   "source": "plt.scatter()",
   "id": "d0d3cf3b7bf77cef",
   "outputs": [
    {
     "data": {
      "text/plain": [
       "[tensor(0.0524),\n",
       " tensor(0.0512),\n",
       " tensor(0.0510),\n",
       " tensor(0.0500),\n",
       " tensor(0.0509),\n",
       " tensor(0.0472),\n",
       " tensor(0.0469),\n",
       " tensor(0.0469),\n",
       " tensor(0.0446),\n",
       " tensor(0.0439),\n",
       " tensor(0.0438),\n",
       " tensor(0.0455),\n",
       " tensor(0.0415),\n",
       " tensor(0.0419),\n",
       " tensor(0.0395),\n",
       " tensor(0.0433),\n",
       " tensor(0.0422),\n",
       " tensor(0.0380),\n",
       " tensor(0.0374),\n",
       " tensor(0.0418),\n",
       " tensor(0.0372),\n",
       " tensor(0.0384),\n",
       " tensor(0.0354),\n",
       " tensor(0.0375),\n",
       " tensor(0.0356),\n",
       " tensor(0.0370),\n",
       " tensor(0.0337),\n",
       " tensor(0.0324),\n",
       " tensor(0.0329),\n",
       " tensor(0.0333),\n",
       " tensor(0.0308),\n",
       " tensor(0.0295),\n",
       " tensor(0.0303),\n",
       " tensor(0.0294),\n",
       " tensor(0.0329),\n",
       " tensor(0.0256),\n",
       " tensor(0.0320),\n",
       " tensor(0.0325),\n",
       " tensor(0.0275),\n",
       " tensor(0.0286),\n",
       " tensor(0.0241),\n",
       " tensor(0.0277),\n",
       " tensor(0.0279),\n",
       " tensor(0.0264),\n",
       " tensor(0.0270),\n",
       " tensor(0.0286),\n",
       " tensor(0.0240),\n",
       " tensor(0.0254),\n",
       " tensor(0.0254),\n",
       " tensor(0.0254),\n",
       " tensor(0.0253),\n",
       " tensor(0.0269),\n",
       " tensor(0.0229),\n",
       " tensor(0.0281),\n",
       " tensor(0.0247),\n",
       " tensor(0.0249),\n",
       " tensor(0.0247),\n",
       " tensor(0.0228),\n",
       " tensor(0.0225),\n",
       " tensor(0.0206),\n",
       " tensor(0.0226),\n",
       " tensor(0.0282),\n",
       " tensor(0.0241),\n",
       " tensor(0.0279),\n",
       " tensor(0.0222),\n",
       " tensor(0.0289),\n",
       " tensor(0.0221),\n",
       " tensor(0.0251),\n",
       " tensor(0.0277),\n",
       " tensor(0.0249),\n",
       " tensor(0.0215),\n",
       " tensor(0.0247),\n",
       " tensor(0.0263),\n",
       " tensor(0.0283),\n",
       " tensor(0.0222),\n",
       " tensor(0.0201),\n",
       " tensor(0.0189),\n",
       " tensor(0.0186),\n",
       " tensor(0.0215),\n",
       " tensor(0.0194),\n",
       " tensor(0.0245),\n",
       " tensor(0.0204),\n",
       " tensor(0.0245),\n",
       " tensor(0.0253),\n",
       " tensor(0.0214),\n",
       " tensor(0.0239),\n",
       " tensor(0.0209),\n",
       " tensor(0.0203),\n",
       " tensor(0.0251),\n",
       " tensor(0.0179),\n",
       " tensor(0.0225),\n",
       " tensor(0.0162),\n",
       " tensor(0.0202),\n",
       " tensor(0.0195),\n",
       " tensor(0.0251),\n",
       " tensor(0.0229),\n",
       " tensor(0.0234),\n",
       " tensor(0.0177),\n",
       " tensor(0.0210),\n",
       " tensor(0.0168)]"
      ]
     },
     "execution_count": 13,
     "metadata": {},
     "output_type": "execute_result"
    }
   ],
   "execution_count": 13
  }
 ],
 "metadata": {
  "kernelspec": {
   "display_name": "hypredictor",
   "language": "python",
   "name": "hypredictor"
  },
  "language_info": {
   "codemirror_mode": {
    "name": "ipython",
    "version": 2
   },
   "file_extension": ".py",
   "mimetype": "text/x-python",
   "name": "python",
   "nbconvert_exporter": "python",
   "pygments_lexer": "ipython2",
   "version": "2.7.6"
  }
 },
 "nbformat": 4,
 "nbformat_minor": 5
}
